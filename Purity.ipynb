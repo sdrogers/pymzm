{
 "cells": [
  {
   "cell_type": "code",
   "execution_count": 43,
   "metadata": {},
   "outputs": [
    {
     "name": "stdout",
     "output_type": "stream",
     "text": [
      "The autoreload extension is already loaded. To reload it, use:\n",
      "  %reload_ext autoreload\n"
     ]
    }
   ],
   "source": [
    "%load_ext autoreload\n",
    "%autoreload 2"
   ]
  },
  {
   "cell_type": "code",
   "execution_count": 328,
   "metadata": {},
   "outputs": [],
   "source": [
    "import sys\n",
    "# input_data = '/Users/simon/University of Glasgow/Vinny Davies - CLDS Metabolomics Project/Data/Fusion_1578_Ronan_Daly_CLP_pHILIC_22May19/Positive/fragmentation/mzML/QCB_N10_DEW015.mzML'\n",
    "input_data = '/Users/simon/Dropbox/BioResearch/Meta_clustering/MS2LDA/multifile_ms2lda_manuscript/Supporting_Files/data/urines/Urine_StrokeDrugs_02_T10_POS.mzML'\n",
    "batch_file = '/Users/simon/git/pymzm/purity/purity_batch.xml'\n",
    "output_folder = '/Users/simon/git/pymzm/purity/output'"
   ]
  },
  {
   "cell_type": "markdown",
   "metadata": {},
   "source": [
    "Note to self: this currently ony takes the first 30 seconds or so from the chromatogram"
   ]
  },
  {
   "cell_type": "code",
   "execution_count": 329,
   "metadata": {},
   "outputs": [],
   "source": [
    "from mzmine import pick_peaks"
   ]
  },
  {
   "cell_type": "code",
   "execution_count": 330,
   "metadata": {},
   "outputs": [
    {
     "name": "stdout",
     "output_type": "stream",
     "text": [
      "Creating xml batch file for Urine_StrokeDrugs_02_T10_POS.mzML\n",
      "Running mzMine for Urine_StrokeDrugs_02_T10_POS.mzML\n"
     ]
    }
   ],
   "source": [
    "input_files = [input_data]\n",
    "pick_peaks(input_files,xml_template = batch_file,output_dir = output_folder,force = False)"
   ]
  },
  {
   "cell_type": "code",
   "execution_count": 275,
   "metadata": {},
   "outputs": [
    {
     "name": "stdout",
     "output_type": "stream",
     "text": [
      "['row ID', 'row m/z', 'row retention time', 'QCB_N10_DEW015.mzML filtered Peak m/z', 'QCB_N10_DEW015.mzML filtered Peak RT start', 'QCB_N10_DEW015.mzML filtered Peak RT end', 'QCB_N10_DEW015.mzML filtered Peak m/z min', 'QCB_N10_DEW015.mzML filtered Peak m/z max', '']\n"
     ]
    }
   ],
   "source": [
    "import os\n",
    "# load the boxes\n",
    "from ms2_matching import load_picked_boxes\n",
    "box_csv_file = os.path.join(output_folder,input_data.split(os.sep)[-1].split('.')[0] + '_box.csv')\n",
    "boxes = load_picked_boxes(box_csv_file)"
   ]
  },
  {
   "cell_type": "code",
   "execution_count": 331,
   "metadata": {},
   "outputs": [
    {
     "name": "stdout",
     "output_type": "stream",
     "text": [
      "Loaded 10075 scans\n"
     ]
    }
   ],
   "source": [
    "# load the mzml file\n",
    "from ms2_matching import MZMLFile\n",
    "mzml_file = MZMLFile(input_data)"
   ]
  },
  {
   "cell_type": "code",
   "execution_count": 277,
   "metadata": {},
   "outputs": [
    {
     "name": "stdout",
     "output_type": "stream",
     "text": [
      "4764 scans mapped to boxes\n",
      "2130 boxes mapped to scans\n"
     ]
    }
   ],
   "source": [
    "# map the boxes to the scans\n",
    "from ms2_matching import map_boxes_to_scans\n",
    "s2b,b2s = map_boxes_to_scans(mzml_file,boxes,half_isolation_window=0.75)\n",
    "print(\"{} scans mapped to boxes\".format(len(s2b)))\n",
    "print(\"{} boxes mapped to scans\".format(len(b2s)))"
   ]
  },
  {
   "cell_type": "code",
   "execution_count": 315,
   "metadata": {},
   "outputs": [
    {
     "name": "stdout",
     "output_type": "stream",
     "text": [
      "1454\n"
     ]
    }
   ],
   "source": [
    "# find a box that has > 1 scan\n",
    "from ms2_matching import traverse_boxes_scans\n",
    "min_count = 2\n",
    "b2scount = [(b,len(s)) for b,s in b2s.items()]\n",
    "b2scount = list(filter(lambda x: x[1] >= min_count,b2scount))\n",
    "print(len(b2scount))\n",
    "pos = 1200\n",
    "box = b2scount[pos][0]\n",
    "scan = b2s[box][0]\n",
    "subset_scans,subset_boxes = traverse_boxes_scans(b2s,s2b,scan)"
   ]
  },
  {
   "cell_type": "code",
   "execution_count": 374,
   "metadata": {},
   "outputs": [],
   "source": [
    "# subset_scans = [mzml_file.scans[2217],mzml_file.scans[2436],mzml_file.scans[2455],mzml_file.scans[2664]]\n",
    "# # 2217,2436\n",
    "# # 2455,2664\n",
    "\n",
    "subset_scans = [mzml_file.scans[2783],mzml_file.scans[2795],mzml_file.scans[2923],mzml_file.scans[2914]]\n",
    "\n",
    "subset_scans = [mzml_file.scans[i] for i in [1898, 1815, 1947, 1686, 1816, 1949]]\n",
    "\n",
    "\n",
    "subset_scans = list(filter(lambda x: x.ms_level == 2 and x.rt_in_minutes > 735/60 \n",
    "                      and x.rt_in_minutes < 775/60 \n",
    "                      and x.precursor_mz > 229.11 and x.precursor_mz < 229.16, mzml_file.scans))\n"
   ]
  },
  {
   "cell_type": "code",
   "execution_count": 375,
   "metadata": {},
   "outputs": [
    {
     "name": "stdout",
     "output_type": "stream",
     "text": [
      "7\n",
      "3\n"
     ]
    }
   ],
   "source": [
    "print(len(subset_scans))\n",
    "print(len(subset_boxes))"
   ]
  },
  {
   "cell_type": "code",
   "execution_count": 376,
   "metadata": {},
   "outputs": [],
   "source": [
    "import pylab as plt\n",
    "%matplotlib inline\n",
    "import numpy as np"
   ]
  },
  {
   "cell_type": "code",
   "execution_count": 377,
   "metadata": {},
   "outputs": [
    {
     "name": "stdout",
     "output_type": "stream",
     "text": [
      "5208\n",
      "5220\n",
      "5332\n",
      "5340\n",
      "5396\n",
      "5455\n",
      "5461\n"
     ]
    }
   ],
   "source": [
    "for s in subset_scans:\n",
    "    print(s.scan_no)"
   ]
  },
  {
   "cell_type": "code",
   "execution_count": 378,
   "metadata": {},
   "outputs": [],
   "source": [
    "from ms2_matching import interpolate_ms1_intensities,simple_align\n",
    "s = list(subset_scans)[0]\n",
    "p = interpolate_ms1_intensities(s,s.previous_ms1,s.next_ms1,half_isolation_width=0.35)\n",
    "peak_sets = {}\n",
    "for mz,i in p:\n",
    "    peak_sets[mz] = [(s,mz,i)]\n",
    "for s in list(subset_scans)[1:]:\n",
    "    a = interpolate_ms1_intensities(s,s.previous_ms1,s.next_ms1)\n",
    "    simple_align(peak_sets,a,s,ppm=10)\n"
   ]
  },
  {
   "cell_type": "code",
   "execution_count": 379,
   "metadata": {},
   "outputs": [
    {
     "name": "stdout",
     "output_type": "stream",
     "text": [
      "{229.12971: [(<ms2_matching.MZMLScan object at 0x145f17090>, 229.12971, 300899.3113603603)], 228.9016876220703: [(<ms2_matching.MZMLScan object at 0x145f17090>, 228.90171813964844, 1003396.5911743384), (<ms2_matching.MZMLScan object at 0x1309857d0>, 228.9016571044922, 1088058.4299199863)], 229.07939453125: [(<ms2_matching.MZMLScan object at 0x140d90e90>, 229.0792236328125, 211696.55681816977), (<ms2_matching.MZMLScan object at 0x146060610>, 229.07940673828125, 337608.03482504946), (<ms2_matching.MZMLScan object at 0x145f17090>, 229.0794677734375, 2042346.6367615345), (<ms2_matching.MZMLScan object at 0x1309857d0>, 229.07940673828125, 2626846.141927123), (<ms2_matching.MZMLScan object at 0x142e39d90>, 229.0794677734375, 1372104.986844316)], 229.00584106445314: [(<ms2_matching.MZMLScan object at 0x140d90e90>, 229.00555419921875, 365034.15729316184), (<ms2_matching.MZMLScan object at 0x146060610>, 229.00576782226562, 137257.66921475163), (<ms2_matching.MZMLScan object at 0x145f17090>, 229.00601196289062, 192450.80116019762), (<ms2_matching.MZMLScan object at 0x1309857d0>, 229.0059814453125, 255181.94924200943), (<ms2_matching.MZMLScan object at 0x142e39d90>, 229.00588989257812, 169854.63450949854)], 229.20922088623047: [(<ms2_matching.MZMLScan object at 0x146060610>, 229.20992, 17791.1074770729), (<ms2_matching.MZMLScan object at 0x145f17090>, 229.20792, 19146.697785606077), (<ms2_matching.MZMLScan object at 0x1309857d0>, 229.20867919921875, 49925.04818871087), (<ms2_matching.MZMLScan object at 0x142e39d90>, 229.21037, 14885.03951433275)], 229.02559916178384: [(<ms2_matching.MZMLScan object at 0x145f17090>, 229.02606201171875, 65274.29460133986), (<ms2_matching.MZMLScan object at 0x1309857d0>, 229.02491760253906, 56019.99421909629), (<ms2_matching.MZMLScan object at 0x129a736d0>, 229.02581787109375, 117791.6856308627)], 229.1181902204241: [(<ms2_matching.MZMLScan object at 0x140d90e90>, 229.11814880371094, 26535579.38636331), (<ms2_matching.MZMLScan object at 0x146060610>, 229.11825561523438, 31697111.340511393), (<ms2_matching.MZMLScan object at 0x145f17090>, 229.11822509765625, 27807645.121808987), (<ms2_matching.MZMLScan object at 0x1309857d0>, 229.1181640625, 29697151.875000473), (<ms2_matching.MZMLScan object at 0x142e39d90>, 229.11819458007812, 35878096.05648959), (<ms2_matching.MZMLScan object at 0x129a736d0>, 229.1182403564453, 39681305.14151758), (<ms2_matching.MZMLScan object at 0x14155a9d0>, 229.11810302734375, 36685872.31319921)], 229.15452575683594: [(<ms2_matching.MZMLScan object at 0x140d90e90>, 229.1544952392578, 12669646.443181934), (<ms2_matching.MZMLScan object at 0x146060610>, 229.15463256835938, 10475885.724091636), (<ms2_matching.MZMLScan object at 0x145f17090>, 229.15457153320312, 2428750.6431436567), (<ms2_matching.MZMLScan object at 0x1309857d0>, 229.15452575683594, 2054290.5027901756), (<ms2_matching.MZMLScan object at 0x142e39d90>, 229.15451049804688, 1451055.6024714175), (<ms2_matching.MZMLScan object at 0x129a736d0>, 229.15457153320312, 1161612.6615031771), (<ms2_matching.MZMLScan object at 0x14155a9d0>, 229.1543731689453, 1036061.8353374088)], 229.1407209123884: [(<ms2_matching.MZMLScan object at 0x140d90e90>, 229.14100646972656, 725818.1887872729), (<ms2_matching.MZMLScan object at 0x146060610>, 229.14077758789062, 926979.2949613091), (<ms2_matching.MZMLScan object at 0x145f17090>, 229.14073181152344, 883784.3214806797), (<ms2_matching.MZMLScan object at 0x1309857d0>, 229.14068603515625, 962256.7224702301), (<ms2_matching.MZMLScan object at 0x142e39d90>, 229.140625, 628358.1989744455), (<ms2_matching.MZMLScan object at 0x129a736d0>, 229.14065551757812, 753169.616350675), (<ms2_matching.MZMLScan object at 0x14155a9d0>, 229.14056396484375, 694604.4600578025)], 229.1908721923828: [(<ms2_matching.MZMLScan object at 0x140d90e90>, 229.190673828125, 120509.14245605306), (<ms2_matching.MZMLScan object at 0x146060610>, 229.19076538085938, 162238.62309681578), (<ms2_matching.MZMLScan object at 0x145f17090>, 229.19094848632812, 277273.7169948877), (<ms2_matching.MZMLScan object at 0x1309857d0>, 229.19091796875, 196968.4200497538), (<ms2_matching.MZMLScan object at 0x142e39d90>, 229.19105529785156, 179406.6714862138), (<ms2_matching.MZMLScan object at 0x129a736d0>, 229.19094848632812, 347457.7972781592), (<ms2_matching.MZMLScan object at 0x14155a9d0>, 229.1907958984375, 278118.33456843114)]}\n"
     ]
    }
   ],
   "source": [
    "print(peak_sets)"
   ]
  },
  {
   "cell_type": "code",
   "execution_count": 380,
   "metadata": {},
   "outputs": [
    {
     "name": "stdout",
     "output_type": "stream",
     "text": [
      "229.12971\n",
      "228.9016876220703\n",
      "229.07939453125\n",
      "229.00584106445314\n",
      "229.20922088623047\n",
      "229.02559916178384\n",
      "229.1181902204241\n",
      "229.15452575683594\n",
      "229.1407209123884\n",
      "229.1908721923828\n",
      "[229.12971, 228.9016876220703, 229.07939453125, 229.00584106445314, 229.20922088623047, 229.02559916178384, 229.1181902204241, 229.15452575683594, 229.1407209123884, 229.1908721923828]\n",
      "[229.12971, 228.9016876220703, 229.07939453125, 229.00584106445314, 229.20922088623047, 229.02559916178384, 229.1181902204241, 229.15452575683594, 229.1407209123884, 229.1908721923828]\n"
     ]
    },
    {
     "data": {
      "text/plain": [
       "([<matplotlib.axis.YTick at 0x141859750>,\n",
       "  <matplotlib.axis.YTick at 0x127aede10>,\n",
       "  <matplotlib.axis.YTick at 0x12a3e1cd0>,\n",
       "  <matplotlib.axis.YTick at 0x13a1716d0>,\n",
       "  <matplotlib.axis.YTick at 0x13a171410>,\n",
       "  <matplotlib.axis.YTick at 0x127ec2ad0>,\n",
       "  <matplotlib.axis.YTick at 0x142dbd0d0>],\n",
       " <a list of 7 Text yticklabel objects>)"
      ]
     },
     "execution_count": 380,
     "metadata": {},
     "output_type": "execute_result"
    },
    {
     "data": {
      "image/png": "[encoded data removed]",
      "text/plain": [
       "<Figure size 720x432 with 1 Axes>"
      ]
     },
     "metadata": {
      "needs_background": "light"
     },
     "output_type": "display_data"
    }
   ],
   "source": [
    "s_idx = {}\n",
    "s_pos = 0\n",
    "mz_idx = {}\n",
    "mz_pos = 0\n",
    "data = []\n",
    "for mz,peaksets in peak_sets.items():\n",
    "    print(mz)\n",
    "    mz_idx[mz] = mz_pos\n",
    "    mz_pos += 1\n",
    "    for scan,internal_mz,intensity in peaksets:\n",
    "        if not scan in s_idx:\n",
    "            s_idx[scan] = s_pos\n",
    "            s_pos += 1\n",
    "        data.append((s_idx[scan],mz_idx[mz],intensity))\n",
    "from scipy.sparse import coo_matrix\n",
    "i,j,k = zip(*data)\n",
    "cm = np.array(coo_matrix((k,(i,j))).todense())\n",
    "plt.figure(figsize=(10,6))\n",
    "plt.imshow(cm,aspect='auto')\n",
    "\n",
    "mzi = list(zip(mz_idx.keys(),mz_idx.values()))\n",
    "mzi.sort(key = lambda x: x[1])\n",
    "sorted_mz,_ = zip(*mzi)\n",
    "sorted_mz = list(sorted_mz)\n",
    "print(sorted_mz)\n",
    "\n",
    "szi = list(zip(s_idx.keys(),s_idx.values()))\n",
    "reverse_s_idx = {v:k for k,v in s_idx.items()}\n",
    "szi.sort(key = lambda x: x[1])\n",
    "sorted_s,_ = zip(*szi)\n",
    "sorted_s = list(sorted_s)\n",
    "print(sorted_mz)\n",
    "plt.xticks(range(len(sorted_mz)),[\"{:.3f}\".format(m) for m in sorted_mz])\n",
    "plt.yticks(range(len(sorted_s)),[s.scan_no for s in sorted_s])"
   ]
  },
  {
   "cell_type": "code",
   "execution_count": 381,
   "metadata": {},
   "outputs": [
    {
     "name": "stdout",
     "output_type": "stream",
     "text": [
      "5208 229.15 739.323\n",
      "5220 229.118124805191 740.807\n",
      "5332 229.15 756.336\n",
      "5340 229.118243914092 757.412\n",
      "5396 229.14 764.798\n",
      "5455 229.15 772.372\n",
      "5461 229.12 773.156\n"
     ]
    },
    {
     "data": {
      "image/png": "[encoded data removed]",
      "text/plain": [
       "<Figure size 504x360 with 2 Axes>"
      ]
     },
     "metadata": {
      "needs_background": "light"
     },
     "output_type": "display_data"
    }
   ],
   "source": [
    "# Filter out the bad stuff\n",
    "maxi = cm.max(axis=0)\n",
    "# print(maxi)\n",
    "# remove columns that don't have at least a max of 20% of the max max!\n",
    "rmax = maxi/maxi.max()\n",
    "pos = np.where(rmax >= 0.2)[0]\n",
    "# only keep pos\n",
    "n_scans,n_ms1 = cm.shape\n",
    "new_cm = np.zeros((n_scans,len(pos)))\n",
    "new_ms1_index = {}\n",
    "new_ms1_pos = 0\n",
    "reverse_mz_idx = {v:k for k,v in mz_idx.items()}\n",
    "for p in pos:\n",
    "    mz_val = reverse_mz_idx[p]\n",
    "#     print(mz_val)\n",
    "    new_ms1_index[mz_val] = new_ms1_pos\n",
    "    new_cm[:,new_ms1_pos] = cm[:,p]\n",
    "    new_ms1_pos += 1\n",
    "plt.figure(figsize=(7,5))\n",
    "plt.imshow(new_cm,aspect='auto')\n",
    "new_reverse_mz_idx = {v:k for k,v in new_ms1_index.items()}\n",
    "plt.xticks(range(len(new_reverse_mz_idx)),[\"{:.3f}\".format(new_reverse_mz_idx[v]) for v in range(len(new_reverse_mz_idx))])\n",
    "plt.yticks(range(len(s_idx)),[reverse_s_idx[v].scan_no for v in range(len(s_idx))])\n",
    "plt.colorbar()\n",
    "\n",
    "for s in subset_scans:\n",
    "    print(s.scan_no,s.precursor_mz,60*s.rt_in_minutes)"
   ]
  },
  {
   "cell_type": "code",
   "execution_count": 382,
   "metadata": {},
   "outputs": [
    {
     "data": {
      "text/plain": [
       "([<matplotlib.axis.YTick at 0x13c1d98d0>,\n",
       "  <matplotlib.axis.YTick at 0x13c1d9950>,\n",
       "  <matplotlib.axis.YTick at 0x13b2341d0>,\n",
       "  <matplotlib.axis.YTick at 0x13915bfd0>,\n",
       "  <matplotlib.axis.YTick at 0x135874a10>,\n",
       "  <matplotlib.axis.YTick at 0x135874450>,\n",
       "  <matplotlib.axis.YTick at 0x138770910>],\n",
       " <a list of 7 Text yticklabel objects>)"
      ]
     },
     "execution_count": 382,
     "metadata": {},
     "output_type": "execute_result"
    },
    {
     "data": {
      "image/png": "[encoded data removed]",
      "text/plain": [
       "<Figure size 432x288 with 1 Axes>"
      ]
     },
     "metadata": {
      "needs_background": "light"
     },
     "output_type": "display_data"
    }
   ],
   "source": [
    "n_dp = 3\n",
    "data = []\n",
    "frag_idx = {}\n",
    "frag_pos = 0\n",
    "for s,pos in s_idx.items():\n",
    "    for mz,intensity in s.peaks:\n",
    "        round_mz = round(mz,n_dp)\n",
    "        if not round_mz in frag_idx:\n",
    "            frag_idx[round_mz] = frag_pos\n",
    "            frag_pos += 1\n",
    "        data.append((s_idx[s],frag_idx[round_mz],intensity))\n",
    "i,j,k = zip(*data)\n",
    "frag_mat = np.array(coo_matrix((k,(i,j))).todense())\n",
    "plt.imshow(np.log(frag_mat+1),aspect='auto')\n",
    "plt.yticks(range(len(sorted_s)),[s.scan_no for s in sorted_s])\n"
   ]
  },
  {
   "cell_type": "code",
   "execution_count": 388,
   "metadata": {},
   "outputs": [
    {
     "name": "stdout",
     "output_type": "stream",
     "text": [
      "Looks nasty, scared\n",
      "21 pairs of observations (of 21.0) have correlation > 0.75\n",
      "[[27807645.12180899  2428750.64314366]\n",
      " [29697151.87500047  2054290.50279018]\n",
      " [26535579.38636331 12669646.44318193]\n",
      " [31697111.34051139 10475885.72409164]\n",
      " [35878096.05648959  1451055.60247142]\n",
      " [39681305.14151758  1161612.66150318]\n",
      " [36685872.31319921  1036061.83533741]]\n"
     ]
    }
   ],
   "source": [
    "from ms2_matching import deconvolve\n",
    "out_mat = deconvolve(new_cm,frag_mat,frag_idx)\n",
    "s = out_mat.sum(axis=1)\n",
    "out_mat/=s[:,None]"
   ]
  },
  {
   "cell_type": "code",
   "execution_count": 387,
   "metadata": {},
   "outputs": [
    {
     "data": {
      "text/plain": [
       "([<matplotlib.axis.YTick at 0x13c25d6d0>,\n",
       "  <matplotlib.axis.YTick at 0x1394ad350>],\n",
       " <a list of 2 Text yticklabel objects>)"
      ]
     },
     "execution_count": 387,
     "metadata": {},
     "output_type": "execute_result"
    },
    {
     "data": {
      "image/png": "[encoded data removed]",
      "text/plain": [
       "<Figure size 432x288 with 1 Axes>"
      ]
     },
     "metadata": {
      "needs_background": "light"
     },
     "output_type": "display_data"
    }
   ],
   "source": [
    "plt.imshow(out_mat,aspect='auto')\n",
    "mz_vals = [\"{:.3f}\".format(new_reverse_mz_idx[i]) for i in range(len(new_reverse_mz_idx))]\n",
    "plt.yticks(range(len(mz_vals)),mz_vals)"
   ]
  },
  {
   "cell_type": "code",
   "execution_count": 385,
   "metadata": {},
   "outputs": [
    {
     "data": {
      "text/plain": [
       "<matplotlib.colorbar.Colorbar at 0x139dd5190>"
      ]
     },
     "execution_count": 385,
     "metadata": {},
     "output_type": "execute_result"
    },
    {
     "data": {
      "image/png": "[encoded data removed]",
      "text/plain": [
       "<Figure size 432x288 with 2 Axes>"
      ]
     },
     "metadata": {
      "needs_background": "light"
     },
     "output_type": "display_data"
    }
   ],
   "source": [
    "reconstruction = np.dot(frag_mat,out_mat.T)\n",
    "plt.imshow(reconstruction)\n",
    "plt.colorbar()"
   ]
  },
  {
   "cell_type": "code",
   "execution_count": 299,
   "metadata": {},
   "outputs": [
    {
     "name": "stdout",
     "output_type": "stream",
     "text": [
      "[array([   77.44525146, 12171.64453125]), array([  104.10683441, 86332.8515625 ]), array([  104.48631287, 11874.359375  ]), array([  105.11061859, 17697.5546875 ]), array([  106.11139679, 28756.34765625]), array([  260.11062622, 15484.35449219])]\n",
      "[array([  104.10671234, 50816.48828125]), array([  128.07087708, 14158.37207031]), array([  164.74369812, 11504.09765625]), array([  242.10159302, 15590.55859375]), array([  260.10760498, 16609.86523438])]\n",
      "[array([5.21953316e+01, 4.64703062e+05]), array([6.00807686e+01, 6.88177625e+05]), array([8.60961838e+01, 2.14610825e+06]), array([9.25245056e+01, 5.31862625e+05]), array([1.0410688e+02, 3.1969908e+07]), array([1.04931931e+02, 6.37596438e+05]), array([1.24999680e+02, 2.64561775e+06]), array([1.73424438e+02, 6.92196062e+05]), array([1.80342957e+02, 5.80524375e+05]), array([1.84074326e+02, 2.94443675e+06]), array([2.58111481e+02, 1.04460281e+06])]\n"
     ]
    }
   ],
   "source": [
    "print(mzml_file.scans[7890].peaks)\n",
    "print(mzml_file.scans[7828].peaks)\n",
    "print(mzml_file.scans[8116].peaks)"
   ]
  },
  {
   "cell_type": "code",
   "execution_count": null,
   "metadata": {},
   "outputs": [],
   "source": []
  }
 ],
 "metadata": {
  "kernelspec": {
   "display_name": "Python 3",
   "language": "python",
   "name": "python3"
  },
  "language_info": {
   "codemirror_mode": {
    "name": "ipython",
    "version": 3
   },
   "file_extension": ".py",
   "mimetype": "text/x-python",
   "name": "python",
   "nbconvert_exporter": "python",
   "pygments_lexer": "ipython3",
   "version": "3.7.5"
  }
 },
 "nbformat": 4,
 "nbformat_minor": 2
}

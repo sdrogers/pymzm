{
 "cells": [
  {
   "cell_type": "code",
   "execution_count": 1,
   "metadata": {},
   "outputs": [],
   "source": [
    "import xml.etree.ElementTree\n",
    "import os,glob,sys\n",
    "\n",
    "%load_ext autoreload\n",
    "%autoreload 2\n",
    "\n"
   ]
  },
  {
   "cell_type": "code",
   "execution_count": 2,
   "metadata": {},
   "outputs": [],
   "source": [
    "MZMINE_COMMAND = '/Users/simon/MZmine-2.40.1/startMZmine_MacOSX.command'\n",
    "MNET_PATH = '/Users/simon/git/molnet/code/'"
   ]
  },
  {
   "cell_type": "markdown",
   "metadata": {},
   "source": [
    "Add the mol net code to the path (github.com/sdrogers/molnet)"
   ]
  },
  {
   "cell_type": "code",
   "execution_count": 3,
   "metadata": {},
   "outputs": [],
   "source": [
    "sys.path.append(MNET_PATH)"
   ]
  },
  {
   "cell_type": "markdown",
   "metadata": {},
   "source": [
    "## Example workflow\n",
    "\n",
    "1. Load template xml\n",
    "2. Find all input files in particular folder\n",
    "3. For each file\n",
    "    1. Create correct temporary xml\n",
    "    2. Invoke mzmine\n",
    "    "
   ]
  },
  {
   "cell_type": "markdown",
   "metadata": {},
   "source": [
    "## Peak picking\n",
    "\n",
    "- The following block grabs all of the raw files in a certain directory and then runs all of the peak picking steps\n",
    "- Takes some time!\n"
   ]
  },
  {
   "cell_type": "code",
   "execution_count": 6,
   "metadata": {},
   "outputs": [],
   "source": [
    "# Directory holding mzml files of interest\n",
    "input_dir = '/Users/simon/Dropbox/BioResearch/Meta_clustering/MS2LDA/multifile_ms2lda_manuscript/Supporting_Files/data/urines/'\n",
    "# grab the list -- in this case all the T10 mzML files\n",
    "file_list = glob.glob(os.path.join(input_dir,'*T10*.mzML'))\n",
    "\n",
    "# # Directory to store all output\n",
    "output_dir = '/Users/simon/git/pymzmine/ms2'\n",
    "# output_dir = '/Users/simon/git/pymzmine/filter_test'"
   ]
  },
  {
   "cell_type": "code",
   "execution_count": 7,
   "metadata": {},
   "outputs": [
    {
     "name": "stdout",
     "output_type": "stream",
     "text": [
      "Creating xml batch file for Urine_StrokeDrugs_105_T10_POS.mzML\n",
      "Running mzMine for Urine_StrokeDrugs_105_T10_POS.mzML\n",
      "Creating xml batch file for Urine_StrokeDrugs_58_T10_POS.mzML\n",
      "Running mzMine for Urine_StrokeDrugs_58_T10_POS.mzML\n",
      "Creating xml batch file for Urine_StrokeDrugs_18_T10_POS.mzML\n",
      "Running mzMine for Urine_StrokeDrugs_18_T10_POS.mzML\n"
     ]
    }
   ],
   "source": [
    "from mzmine import pick_peaks\n",
    "pick_peaks(file_list[:3],output_dir=output_dir,mzmine_command=MZMINE_COMMAND)"
   ]
  },
  {
   "cell_type": "markdown",
   "metadata": {},
   "source": [
    "## Optional: filter out duplicate ions"
   ]
  },
  {
   "cell_type": "code",
   "execution_count": null,
   "metadata": {},
   "outputs": [],
   "source": [
    "from mzmine import filter_duplicates\n",
    "output_dir = '/Users/simon/git/pymzmine/filter_test/'\n",
    "new_output_dir = '/Users/simon/git/pymzmine/filter_test_out'\n",
    "filter_duplicates(file_list[:3],output_dir,new_output_dir)\n",
    "output_dir = new_output_dir"
   ]
  },
  {
   "cell_type": "markdown",
   "metadata": {},
   "source": [
    "### Do some QC check of filtered ions"
   ]
  },
  {
   "cell_type": "markdown",
   "metadata": {},
   "source": [
    "plot repetitive ions for one spectrum"
   ]
  },
  {
   "cell_type": "code",
   "execution_count": null,
   "metadata": {},
   "outputs": [],
   "source": [
    "from mzmine import find_spectral_groups\n",
    "groups = find_spectral_groups(file_list[0])"
   ]
  },
  {
   "cell_type": "code",
   "execution_count": null,
   "metadata": {},
   "outputs": [],
   "source": [
    "def plot_groups(clusters,min_cluster_size):\n",
    "    rt_diffs = []\n",
    "    plt.figure(figsize=(15,10))\n",
    "    cols = ['r','g','b','k','y','m']\n",
    "    col_pos = 0\n",
    "    for pmz,clu in clusters.items():\n",
    "        for c in clu:\n",
    "            if c.n_spectra >= min_cluster_size:\n",
    "                for s in c.spectra:\n",
    "                    mz = s.precursor_mz\n",
    "                    rt = s.rt\n",
    "#                     print(mz,rt)\n",
    "                    plt.plot(rt,mz,cols[col_pos]+'o')\n",
    "                col_pos += 1\n",
    "            if col_pos == len(cols):\n",
    "                col_pos = 0\n",
    "            rt = [s.rt for s in c.spectra]\n",
    "            rt.sort()\n",
    "            rt_delta = [rt[i+1]-rt[i] for i,_ in enumerate(rt[:-1])]\n",
    "            rt_diffs += rt_delta\n",
    "    return rt_diffs"
   ]
  },
  {
   "cell_type": "code",
   "execution_count": null,
   "metadata": {},
   "outputs": [],
   "source": [
    "import pylab as plt\n",
    "%matplotlib inline\n",
    "rt_diffs = plot_groups(groups,10)"
   ]
  },
  {
   "cell_type": "code",
   "execution_count": null,
   "metadata": {},
   "outputs": [],
   "source": [
    "plt.figure(figsize=(10,10))\n",
    "a = plt.hist(rt_diffs,bins = 500)\n",
    "plt.xlim([0,50])"
   ]
  },
  {
   "cell_type": "markdown",
   "metadata": {},
   "source": [
    "plot delta MZ histogram of filtered vs non-filtered spectrum"
   ]
  },
  {
   "cell_type": "code",
   "execution_count": null,
   "metadata": {},
   "outputs": [],
   "source": [
    "from mnet_utilities import load_mgf\n",
    "specmgf = load_mgf('4_60.mgf')"
   ]
  },
  {
   "cell_type": "markdown",
   "metadata": {},
   "source": [
    "create clusters"
   ]
  },
  {
   "cell_type": "code",
   "execution_count": null,
   "metadata": {},
   "outputs": [],
   "source": [
    "from mnet import Cluster\n",
    "# create a cluster list\n",
    "cluster_l = []\n",
    "for ap,cl in specmgf.items():\n",
    "    if cl:\n",
    "        cluster_l.append(Cluster(cl, cl.scan_number))\n",
    "print(\"Created list of {} clusters\".format(len(cluster_l)))"
   ]
  },
  {
   "cell_type": "markdown",
   "metadata": {},
   "source": [
    "get molecular families"
   ]
  },
  {
   "cell_type": "code",
   "execution_count": null,
   "metadata": {},
   "outputs": [],
   "source": [
    "from mnet import mol_network\n",
    "from scoring_functions import fast_cosine_shift\n",
    "fam,mfam = mol_network(cluster_l,fast_cosine_shift,0.2,2,0.7)"
   ]
  },
  {
   "cell_type": "markdown",
   "metadata": {},
   "source": [
    "get pair-wise parent m/z for unfiltered spectrum"
   ]
  },
  {
   "cell_type": "code",
   "execution_count": null,
   "metadata": {},
   "outputs": [],
   "source": [
    "pmasses = []\n",
    "for f in mfam:\n",
    "    #print(f)\n",
    "    #print(ff)\n",
    "    for ff in f.scores:\n",
    "        pm = []\n",
    "        for fff in ff[:2]:\n",
    "            #print(fff.parent_mz)\n",
    "            pm.append(fff.parent_mz)\n",
    "        pmasses.append(pm)"
   ]
  },
  {
   "cell_type": "markdown",
   "metadata": {},
   "source": [
    "get pair-wise parent m/z for filtered spectrum"
   ]
  },
  {
   "cell_type": "code",
   "execution_count": null,
   "metadata": {},
   "outputs": [],
   "source": [
    "import pandas as pd\n",
    "filfile = pd.read_csv('4_60_quant.csv', sep = ',')"
   ]
  },
  {
   "cell_type": "code",
   "execution_count": null,
   "metadata": {},
   "outputs": [],
   "source": [
    "pmassesfiltered = []\n",
    "for f in mfam:\n",
    "    #print(f)\n",
    "    #print(ff)\n",
    "    for ff in f.scores:\n",
    "        pmf = []\n",
    "        for fff in ff[:2]:\n",
    "            #print(fff.parent_mz)\n",
    "            if fff.cluster_id in list(filfile['row ID']):\n",
    "                pmf.append(fff.parent_mz)\n",
    "            else:\n",
    "                print('not in file')\n",
    "                print(fff.cluster_id)\n",
    "                print(fff.parent_mz)\n",
    "        pmassesfiltered.append(pmf)"
   ]
  },
  {
   "cell_type": "markdown",
   "metadata": {},
   "source": [
    "calculate delta MZ for all pairs for unfiltered and filtered spectrum"
   ]
  },
  {
   "cell_type": "code",
   "execution_count": null,
   "metadata": {},
   "outputs": [],
   "source": [
    "deltamzs = []\n",
    "for l in pmasses:\n",
    "    deltamzs.append(round(abs(l[0]-l[1]),2))"
   ]
  },
  {
   "cell_type": "code",
   "execution_count": null,
   "metadata": {},
   "outputs": [],
   "source": [
    "deltamzsfiltered = []\n",
    "for l in pmassesfiltered:\n",
    "    if (len(l) == 2):\n",
    "        deltamzsfiltered.append(round(abs(l[0]-l[1]),2))"
   ]
  },
  {
   "cell_type": "code",
   "execution_count": null,
   "metadata": {},
   "outputs": [],
   "source": [
    "import matplotlib.pyplot as plt\n",
    "import numpy as np\n",
    "%matplotlib inline\n",
    "n, bins, patches = plt.hist(deltamzsfiltered, bins=len(set(deltamzsfiltered)),rwidth=0.85)\n",
    "plt.grid(axis='y', alpha=0.75)\n",
    "plt.xlabel('MZ Delta')\n",
    "plt.ylabel('Pairs')\n",
    "plt.title('MZ Delta Histogram')"
   ]
  },
  {
   "cell_type": "code",
   "execution_count": null,
   "metadata": {},
   "outputs": [],
   "source": [
    "import matplotlib.pyplot as plt\n",
    "import numpy as np\n",
    "%matplotlib inline\n",
    "n, bins, patches = plt.hist(deltamzs, bins=len(set(deltamzs)),rwidth=0.85)\n",
    "plt.grid(axis='y', alpha=0.75)\n",
    "plt.xlabel('MZ Delta')\n",
    "plt.ylabel('Pairs')\n",
    "plt.title('MZ Delta Histogram')"
   ]
  },
  {
   "cell_type": "markdown",
   "metadata": {},
   "source": [
    "## Alignment\n",
    "\n",
    "- The following block loads the mztab files from a user-specified folder and runs the align algorithm, exporting results to a csv file"
   ]
  },
  {
   "cell_type": "code",
   "execution_count": 9,
   "metadata": {},
   "outputs": [
    {
     "name": "stdout",
     "output_type": "stream",
     "text": [
      "['/Users/simon/git/pymzmine/ms2/Urine_StrokeDrugs_105_T10_POS_pp.mzTab', '/Users/simon/git/pymzmine/ms2/Urine_StrokeDrugs_18_T10_POS_pp.mzTab', '/Users/simon/git/pymzmine/ms2/Urine_StrokeDrugs_58_T10_POS_pp.mzTab']\n"
     ]
    }
   ],
   "source": [
    "from mzmine import align\n",
    "# mztab_folder = '/Users/simon/git/pymzmine/batch20/new_files'\n",
    "# point this method to the folder that holds the mztabs you want to align\n",
    "align(output_dir,mzmine_command = MZMINE_COMMAND)"
   ]
  },
  {
   "cell_type": "markdown",
   "metadata": {},
   "source": [
    "## Creating the matching table\n",
    "\n",
    " - Matches aligned peaks back to their originals"
   ]
  },
  {
   "cell_type": "code",
   "execution_count": 10,
   "metadata": {},
   "outputs": [
    {
     "name": "stdout",
     "output_type": "stream",
     "text": [
      "/Users/simon/git/pymzmine/ms2\n"
     ]
    }
   ],
   "source": [
    "from mzmine import load_aligned_peaks\n",
    "# output_dir = '/Users/simon/git/pymzmine/batch20/output_subset'\n",
    "output_dir = '/Users/simon/git/pymzmine/ms2'\n",
    "print(output_dir)\n",
    "aligned_peaks,original_files,f_idx_dict = load_aligned_peaks(output_dir)"
   ]
  },
  {
   "cell_type": "code",
   "execution_count": 11,
   "metadata": {},
   "outputs": [
    {
     "name": "stdout",
     "output_type": "stream",
     "text": [
      "['Urine_StrokeDrugs_58_T10_POS', 'Urine_StrokeDrugs_105_T10_POS', 'Urine_StrokeDrugs_18_T10_POS']\n"
     ]
    }
   ],
   "source": [
    "print(original_files)"
   ]
  },
  {
   "cell_type": "code",
   "execution_count": 12,
   "metadata": {},
   "outputs": [
    {
     "data": {
      "text/plain": [
       "<matplotlib.colorbar.Colorbar at 0x120632160>"
      ]
     },
     "execution_count": 12,
     "metadata": {},
     "output_type": "execute_result"
    },
    {
     "data": {
      "image/png": "[encoded data removed]",
      "text/plain": [
       "<Figure size 720x720 with 2 Axes>"
      ]
     },
     "metadata": {
      "needs_background": "light"
     },
     "output_type": "display_data"
    }
   ],
   "source": [
    "import numpy as np\n",
    "intensities = np.array([list(a[3]) for a in aligned_peaks])\n",
    "import pylab as plt\n",
    "%matplotlib inline\n",
    "plt.figure(figsize=(10,10))\n",
    "plt.imshow(np.log(intensities+1),aspect='auto')\n",
    "plt.colorbar()"
   ]
  },
  {
   "cell_type": "markdown",
   "metadata": {},
   "source": [
    "- Do the matching (entirely based on intensity)\n",
    "- Output of this next cell is a dictionary `matches`\n",
    "- Keys are aligned peaks, values are dictionaries...\n",
    "    - keys are original files, values are IDs in the original files"
   ]
  },
  {
   "cell_type": "code",
   "execution_count": 13,
   "metadata": {},
   "outputs": [],
   "source": [
    "from mzmine import match_aligned_to_original\n",
    "matches = match_aligned_to_original(aligned_peaks,original_files,output_dir,f_idx_dict,write_file = True)"
   ]
  },
  {
   "cell_type": "code",
   "execution_count": 110,
   "metadata": {},
   "outputs": [
    {
     "name": "stdout",
     "output_type": "stream",
     "text": [
      "154\n",
      "(154, 314.2323303222656, 7.056583333333333, 162281175.3416876)\n",
      "423.395\n"
     ]
    }
   ],
   "source": [
    "from mnet_utilities import load_mgf\n",
    "specmgf = load_mgf(os.path.join(output_dir,'Urine_StrokeDrugs_105_T10_POS.mgf'))\n",
    "\n",
    "id_1 = list(specmgf.keys())[1]\n",
    "print(id_1) # peak id in specific file\n",
    "# find this in matches to get the mz / rt\n",
    "for aligned_peak,values in matches.items():\n",
    "    possible = values.get('Urine_StrokeDrugs_105_T10_POS',None)\n",
    "    if possible:\n",
    "        if possible[0] == id_1:\n",
    "            break\n",
    "print(possible)\n",
    "print(possible[2]*60)"
   ]
  },
  {
   "cell_type": "markdown",
   "metadata": {},
   "source": [
    "So, it seems that mzmine puts the MS1 RT into the MS2 scan"
   ]
  },
  {
   "cell_type": "code",
   "execution_count": 111,
   "metadata": {},
   "outputs": [
    {
     "name": "stdout",
     "output_type": "stream",
     "text": [
      "/Users/simon/Dropbox/BioResearch/Meta_clustering/MS2LDA/multifile_ms2lda_manuscript/Supporting_Files/data/urines/Urine_StrokeDrugs_105_T10_POS.mzML\n"
     ]
    }
   ],
   "source": [
    "# some example code to get the exact MS2 RT\n",
    "file_name = 'Urine_StrokeDrugs_105_T10_POS'\n",
    "peak_id = 144\n",
    "peak_details = possible # get this from the file\n",
    "peak_mz = possible[1]\n",
    "peak_rt = possible[2]\n",
    "\n",
    "full_file_name = os.path.join(input_dir,file_name + '.mzML')\n",
    "import pymzml\n",
    "reader = pymzml.run.Reader(full_file_name)\n",
    "for spectrum in reader:\n",
    "    rt = spectrum.scan_time_in_minutes()\n",
    "    if spectrum.ms_level == 2:\n",
    "        precursor_dict = spectrum.selected_precursors[0]\n",
    "        mz = precursor_dict['mz']\n",
    "        if(abs(mz-peak_mz) < 1e-5) and abs(rt-peak_rt)<0.5:\n",
    "            print(mz,rt*60.0) # true RT"
   ]
  },
  {
   "cell_type": "markdown",
   "metadata": {},
   "source": [
    "Todo:\n",
    "- load all data\n",
    "- For each ms2 of interest\n",
    "    - Find its true rt\n",
    "    - Find as many observations of its ms1 intensity and rt as possible (go back and fwd scans) "
   ]
  },
  {
   "cell_type": "code",
   "execution_count": 112,
   "metadata": {},
   "outputs": [
    {
     "name": "stdout",
     "output_type": "stream",
     "text": [
      "/Users/simon/Dropbox/BioResearch/Meta_clustering/MS2LDA/multifile_ms2lda_manuscript/Supporting_Files/data/urines/Urine_StrokeDrugs_105_T10_POS.mzML\n"
     ]
    }
   ],
   "source": [
    "reader = pymzml.run.Reader(full_file_name)\n",
    "all_spec = []\n",
    "scan_no = 0\n",
    "for spectrum in reader:\n",
    "    spec = {'scan_no':scan_no}\n",
    "    spec['rt'] = spectrum.scan_time_in_minutes()\n",
    "    spec['ms_level'] = spectrum.ms_level\n",
    "    if spec['ms_level'] == 2:\n",
    "        spec['precursor_mz'] = spectrum.selected_precursors[0]['mz']\n",
    "    spec['peaks'] = spectrum.peaks('centroided')\n",
    "    all_spec.append(spec)\n",
    "    scan_no += 1"
   ]
  },
  {
   "cell_type": "code",
   "execution_count": 113,
   "metadata": {},
   "outputs": [],
   "source": [
    "def find_precursor(precursor_mz,peaks):\n",
    "    mz,inte = zip(*peaks)\n",
    "    mz = np.array(mz)\n",
    "    err = abs(mz - precursor_mz)\n",
    "    pos = np.argmin(err)\n",
    "    if err[pos] < 1e-3: # fix me\n",
    "        return mz[pos],inte[pos]\n",
    "    else:\n",
    "        return None"
   ]
  },
  {
   "cell_type": "code",
   "execution_count": 115,
   "metadata": {},
   "outputs": [
    {
     "name": "stdout",
     "output_type": "stream",
     "text": [
      "[(7.0341, 314.2324, 5960596.0), (7.056583333333333, 314.23233, 54740708.0), (7.077566666666667, 314.23233, 38340800.0), (7.097083333333333, 314.23236, 10662276.0), (7.12015, 314.23227, 2919678.8), (7.142483333333333, 314.23257, 1462887.2)]\n"
     ]
    },
    {
     "data": {
      "text/plain": [
       "[<matplotlib.lines.Line2D at 0x1307e2e10>]"
      ]
     },
     "execution_count": 115,
     "metadata": {},
     "output_type": "execute_result"
    },
    {
     "data": {
      "image/png": "[encoded data removed]",
      "text/plain": [
       "<Figure size 432x288 with 1 Axes>"
      ]
     },
     "metadata": {
      "needs_background": "light"
     },
     "output_type": "display_data"
    }
   ],
   "source": [
    "\n",
    "def find_ms2(all_spec,mz,rt):\n",
    "    # find all ms2 scans within 1e-4 of mz\n",
    "    pos = []\n",
    "    for i,s in enumerate(all_spec):\n",
    "        if s['ms_level'] == 2:\n",
    "            err = abs(mz - s['precursor_mz'])\n",
    "            rt_err = abs(rt - s['rt'])\n",
    "            if err < 1e-4 and rt_err < 0.5:\n",
    "                pos.append(i)\n",
    "    if len(pos) == 1:\n",
    "        return pos[0]\n",
    "    else:\n",
    "        errs = [abs(mz-all_spec[p]['precursor_mz']) for p in pos]\n",
    "        errs = np.array(errs)\n",
    "        best_pos = np.argmin(errs)\n",
    "        return pos[best_pos]\n",
    "\n",
    "pos = find_ms2(all_spec,peak_mz,peak_rt)\n",
    "# move back looking for precursors\n",
    "ok = True\n",
    "temp_pos = pos\n",
    "this_data = []\n",
    "found = 0\n",
    "while ok:\n",
    "    if temp_pos == 0:\n",
    "        break\n",
    "    if all_spec[temp_pos]['ms_level'] == 2:\n",
    "        temp_pos -= 1\n",
    "        continue\n",
    "    # it's an MS1\n",
    "    precu = find_precursor(peak_mz,all_spec[temp_pos]['peaks'])\n",
    "    if precu:\n",
    "        this_mz,this_intensity = precu\n",
    "        this_data.append((all_spec[temp_pos]['rt'],this_mz,this_intensity))\n",
    "        found += 1\n",
    "    else:\n",
    "        break\n",
    "    temp_pos -= 1\n",
    "    if found == 3:\n",
    "        break\n",
    "    \n",
    "ok = True\n",
    "temp_pos = pos\n",
    "found = 0\n",
    "while ok:\n",
    "    if temp_pos == len(all_spec):\n",
    "        break\n",
    "    if all_spec[temp_pos]['ms_level'] == 2:\n",
    "        temp_pos += 1\n",
    "        continue\n",
    "    # it's an MS1\n",
    "    precu = find_precursor(peak_mz,all_spec[temp_pos]['peaks'])\n",
    "    if precu:\n",
    "        this_mz,this_intensity = precu\n",
    "        this_data.append((all_spec[temp_pos]['rt'],this_mz,this_intensity))\n",
    "        found += 1\n",
    "    else:\n",
    "        break\n",
    "    temp_pos += 1\n",
    "    if found == 3:\n",
    "        break\n",
    "    \n",
    "\n",
    "this_data.sort(key = lambda x: x[0])\n",
    "print(this_data)\n",
    "r,m,i = zip(*this_data)\n",
    "plt.plot(np.array(r)*60.0,i,'o-')\n",
    "plt.plot([all_spec[pos]['rt']*60.0,all_spec[pos]['rt']*60.0],plt.ylim(),'r')"
   ]
  },
  {
   "cell_type": "markdown",
   "metadata": {},
   "source": [
    "## Do some QC - check to find aligned peaks with spectra with low cosine similarity"
   ]
  },
  {
   "cell_type": "code",
   "execution_count": 14,
   "metadata": {},
   "outputs": [
    {
     "name": "stdout",
     "output_type": "stream",
     "text": [
      "Loaded 24 spectra from Urine_StrokeDrugs_58_T10_POS\n",
      "Loaded 25 spectra from Urine_StrokeDrugs_105_T10_POS\n",
      "Loaded 26 spectra from Urine_StrokeDrugs_18_T10_POS\n",
      "1000 1049\n"
     ]
    }
   ],
   "source": [
    "from mzmine import compute_cosine_aligned_peaks\n",
    "worst_matches = compute_cosine_aligned_peaks(aligned_peaks,original_files,output_dir,matches)"
   ]
  },
  {
   "cell_type": "code",
   "execution_count": 15,
   "metadata": {},
   "outputs": [
    {
     "name": "stdout",
     "output_type": "stream",
     "text": [
      "0 (of 16 that have at least two spectra) have bad spectral matches (i.e. cosine < 0.5)\n"
     ]
    }
   ],
   "source": [
    "bad_lt_05 = list(filter(lambda x: x[-1] < 0.5,list(worst_matches.values())))\n",
    "print(\"{} (of {} that have at least two spectra) have bad spectral matches (i.e. cosine < 0.5)\".format(len(bad_lt_05),len(worst_matches)))"
   ]
  },
  {
   "cell_type": "code",
   "execution_count": null,
   "metadata": {},
   "outputs": [],
   "source": []
  },
  {
   "cell_type": "code",
   "execution_count": 117,
   "metadata": {},
   "outputs": [],
   "source": [
    "def examine_aligned_peak(ap,matches,output_dir,original_files,spectra = None):\n",
    "    from itertools import combinations\n",
    "    from scoring_functions import fast_cosine\n",
    "    if not spectra:\n",
    "        spectra = {}\n",
    "        from mnet_utilities import load_mgf\n",
    "        for o in original_files:\n",
    "            mgf_file = os.path.join(output_dir,o+'.mgf')\n",
    "            spectra[o] = load_mgf(mgf_file)\n",
    "            print(\"Loaded {} spectra from {}\".format(len(spectra[o]),o))\n",
    "    # look through the original files and see if they have spec\n",
    "    individual_peaks = []\n",
    "    n_peaks = 0\n",
    "    n_with_spec = 0\n",
    "    for f in matches[ap]:\n",
    "        n_peaks += 1\n",
    "        spec = None\n",
    "        i_d,mz,rt,intensity = matches[ap][f]\n",
    "        spec = spectra[f].get(i_d,None)\n",
    "        individual_peaks.append((f,mz,rt,intensity,spec))\n",
    "        if spec:\n",
    "            n_with_spec += 1\n",
    "    print(\"{} individual peaks, {} with spectra\".format(n_peaks,n_with_spec))\n",
    "    plt.figure(figsize=(15,10))\n",
    "    mz_list = [p[1] for p in individual_peaks]\n",
    "    rt_list = [p[2] for p in individual_peaks]\n",
    "    plt.xlabel('RT')\n",
    "    plt.ylabel('mz')\n",
    "    for p1,p2 in combinations(individual_peaks,2):\n",
    "        spec1 = p1[-1]\n",
    "        spec2 = p2[-1]\n",
    "        if spec1 and spec2:\n",
    "            s,_ = fast_cosine(spec1,spec2,0.2,1)\n",
    "            color = [1-s,0,s,0.3]\n",
    "            plt.plot([p1[2],p2[2]],[p1[1],p2[1]],color = color,linewidth=2)\n",
    "    plt.plot(rt_list,mz_list,'ko')\n",
    "    plt.title('Edges show cosine score, red to blue = low to high score')\n",
    "    return spectra"
   ]
  },
  {
   "cell_type": "code",
   "execution_count": 120,
   "metadata": {},
   "outputs": [
    {
     "name": "stdout",
     "output_type": "stream",
     "text": [
      "12 individual peaks, 6 with spectra\n"
     ]
    },
    {
     "data": {
      "image/png": "[encoded data removed]",
      "text/plain": [
       "<Figure size 1080x720 with 1 Axes>"
      ]
     },
     "metadata": {
      "needs_background": "light"
     },
     "output_type": "display_data"
    }
   ],
   "source": [
    "idx = 10\n",
    "ap = has_lt_05[idx]\n",
    "# print(ap)\n",
    "spectra = examine_aligned_peak(ap,matches,\n",
    "                               output_dir,\n",
    "                               original_files,\n",
    "                               spectra = spectra)"
   ]
  },
  {
   "cell_type": "markdown",
   "metadata": {},
   "source": [
    "Look at all peak groups and compute the max rt and mz deviation (distance from mean)\n"
   ]
  },
  {
   "cell_type": "code",
   "execution_count": 221,
   "metadata": {},
   "outputs": [],
   "source": [
    "def find_deviations(aligned_peaks,matches,output_dir,original_files,spectra = None):\n",
    "    from itertools import combinations\n",
    "    n_done = 0\n",
    "    \n",
    "    if not spectra:\n",
    "        spectra = {}\n",
    "        from mnet_utilities import load_mgf\n",
    "        for o in original_files:\n",
    "            mgf_file = os.path.join(output_dir,o+'.mgf')\n",
    "            spectra[o] = load_mgf(mgf_file)\n",
    "            print(\"Loaded {} spectra from {}\".format(len(spectra[o]),o))\n",
    "    \n",
    "    \n",
    "    good_mz_dev = []\n",
    "    good_rt_dev = []\n",
    "    bad_mz_dev = []\n",
    "    bad_rt_dev = []\n",
    "    min_s = 0.5\n",
    "    \n",
    "    good_mz_diffs = []\n",
    "    good_rt_diffs = []\n",
    "    bad_mz_diffs = []\n",
    "    bad_rt_diffs = []\n",
    "    \n",
    "    for ap in aligned_peaks:\n",
    "        match = matches[ap]\n",
    "        individual_peaks = []\n",
    "        for f in match:\n",
    "            i_d,mz,rt,intensity = match[f]\n",
    "            spec = spectra[f].get(i_d,None)\n",
    "            if spec:\n",
    "                individual_peaks.append((i_d,mz,rt,intensity,spec))\n",
    "        if len(individual_peaks) == 0:\n",
    "            continue\n",
    "        mz_array = np.array([p[1] for p in individual_peaks])\n",
    "        rt_array = np.array([p[2] for p in individual_peaks])\n",
    "        for p1,p2 in combinations(individual_peaks,2):\n",
    "            s,_ = fast_cosine(p1[-1],p2[-1],1,0.2)\n",
    "            if s < min_s:\n",
    "                bad_mz_diffs.append((p1[1]-p2[1],s))\n",
    "                bad_rt_diffs.append((60.0*(p1[2]-p2[2]),s))\n",
    "            else:\n",
    "                good_mz_diffs.append((p1[1]-p2[1],s))\n",
    "                good_rt_diffs.append((60.0*(p1[2]-p2[2]),s))\n",
    "\n",
    "        n_done += 1\n",
    "        if n_done % 1000 == 0:\n",
    "            print(n_done)\n",
    "    return np.array(good_mz_diffs),np.array(good_rt_diffs),np.array(bad_mz_diffs),np.array(bad_rt_diffs)\n",
    "        "
   ]
  },
  {
   "cell_type": "code",
   "execution_count": 222,
   "metadata": {},
   "outputs": [
    {
     "name": "stdout",
     "output_type": "stream",
     "text": [
      "1000\n",
      "2000\n",
      "3000\n",
      "4000\n"
     ]
    }
   ],
   "source": [
    "gmd,grd,bmd,brd = find_deviations(aligned_peaks,matches,output_dir,original_files,spectra = spectra)\n"
   ]
  },
  {
   "cell_type": "code",
   "execution_count": 223,
   "metadata": {},
   "outputs": [
    {
     "name": "stdout",
     "output_type": "stream",
     "text": [
      "0.9871557986600833\n",
      "1.8058191922979185\n",
      "\n",
      "0.00011200238161218761\n",
      "0.0003857270689476855\n"
     ]
    },
    {
     "data": {
      "text/plain": [
       "Text(0.5, 1.0, 'RT')"
      ]
     },
     "execution_count": 223,
     "metadata": {},
     "output_type": "execute_result"
    },
    {
     "data": {
      "image/png": "[encoded data removed]",
      "text/plain": [
       "<Figure size 432x288 with 1 Axes>"
      ]
     },
     "metadata": {
      "needs_background": "light"
     },
     "output_type": "display_data"
    },
    {
     "data": {
      "image/png": "[encoded data removed]",
      "text/plain": [
       "<Figure size 432x288 with 1 Axes>"
      ]
     },
     "metadata": {
      "needs_background": "light"
     },
     "output_type": "display_data"
    }
   ],
   "source": [
    "print(abs(grd[:,0]-grd[:,0].mean()).mean())\n",
    "print(abs(brd[:,0]-brd[:,0].mean()).mean())\n",
    "print()\n",
    "print(abs(gmd[:,0]-gmd[:,0].mean()).mean())\n",
    "print(abs(bmd[:,0]-bmd[:,0].mean()).mean())\n",
    "\n",
    "allmd = np.vstack((gmd,bmd))\n",
    "plt.plot(np.abs(gmd[:,0]),gmd[:,1],'b.')\n",
    "plt.plot(np.abs(bmd[:,0]),bmd[:,1],'r.')\n",
    "plt.title('MZ')\n",
    "plt.figure()\n",
    "plt.plot(np.abs(grd[:,0]),grd[:,1],'b.')\n",
    "plt.plot(np.abs(brd[:,0]),brd[:,1],'r.')\n",
    "plt.title('RT')\n",
    "\n",
    "\n"
   ]
  },
  {
   "cell_type": "code",
   "execution_count": 224,
   "metadata": {},
   "outputs": [
    {
     "data": {
      "text/plain": [
       "(-10, 10)"
      ]
     },
     "execution_count": 224,
     "metadata": {},
     "output_type": "execute_result"
    },
    {
     "data": {
      "image/png": "[encoded data removed]",
      "text/plain": [
       "<Figure size 432x288 with 1 Axes>"
      ]
     },
     "metadata": {
      "needs_background": "light"
     },
     "output_type": "display_data"
    },
    {
     "data": {
      "image/png": "[encoded data removed]",
      "text/plain": [
       "<Figure size 432x288 with 1 Axes>"
      ]
     },
     "metadata": {
      "needs_background": "light"
     },
     "output_type": "display_data"
    },
    {
     "data": {
      "image/png": "[encoded data removed]",
      "text/plain": [
       "<Figure size 432x288 with 1 Axes>"
      ]
     },
     "metadata": {
      "needs_background": "light"
     },
     "output_type": "display_data"
    },
    {
     "data": {
      "image/png": "[encoded data removed]",
      "text/plain": [
       "<Figure size 432x288 with 1 Axes>"
      ]
     },
     "metadata": {
      "needs_background": "light"
     },
     "output_type": "display_data"
    }
   ],
   "source": [
    "plt.figure()\n",
    "h = plt.hist(gmd[:,0],bins=100)\n",
    "plt.xlim([-0.002,0.002])\n",
    "plt.figure()\n",
    "h = plt.hist(bmd[:,0],bins=100)\n",
    "plt.xlim([-0.002,0.002])\n",
    "\n",
    "\n",
    "plt.figure()\n",
    "h = plt.hist(grd[:,0],bins=100)\n",
    "plt.xlim([-10,10])\n",
    "plt.figure()\n",
    "h = plt.hist(brd[:,0],bins=100)\n",
    "plt.xlim([-10,10])\n"
   ]
  },
  {
   "cell_type": "markdown",
   "metadata": {},
   "source": [
    "Find an aligned peak with a cosine score < 0.5 and plot a bar chart of intensity, highlighting the bad one"
   ]
  },
  {
   "cell_type": "code",
   "execution_count": 31,
   "metadata": {},
   "outputs": [
    {
     "name": "stdout",
     "output_type": "stream",
     "text": [
      "2_03 8565801.556410966\n",
      "2_60 13068285.461918453\n",
      "\n",
      "\n",
      "[0.36630605 0.24007957 0.78560154 0.64369489 0.         0.19618379\n",
      " 0.37447253 0.0228095  0.86208812 0.80250248 0.64560234 0.34811016\n",
      " 0.6627309  0.41514966 0.07562736 0.89651217 1.         0.05885881\n",
      " 0.55322627 0.46750787]\n"
     ]
    },
    {
     "data": {
      "image/png": "[encoded data removed]",
      "text/plain": [
       "<Figure size 432x288 with 1 Axes>"
      ]
     },
     "metadata": {
      "needs_background": "light"
     },
     "output_type": "display_data"
    },
    {
     "data": {
      "image/png": "[encoded data removed]",
      "text/plain": [
       "<Figure size 720x360 with 1 Axes>"
      ]
     },
     "metadata": {
      "needs_background": "light"
     },
     "output_type": "display_data"
    },
    {
     "data": {
      "text/plain": [
       "<Figure size 432x288 with 0 Axes>"
      ]
     },
     "metadata": {},
     "output_type": "display_data"
    },
    {
     "data": {
      "image/png": "[encoded data removed]",
      "text/plain": [
       "<Figure size 720x360 with 1 Axes>"
      ]
     },
     "metadata": {
      "needs_background": "light"
     },
     "output_type": "display_data"
    }
   ],
   "source": [
    "has_lt_05 = []\n",
    "for ap in worst_matches:\n",
    "    # this stores the worst match\n",
    "    this_match = worst_matches[ap]\n",
    "    if this_match[-1] > 0.3:\n",
    "        continue\n",
    "    has_lt_05.append(ap)\n",
    "    \n",
    "\n",
    "idx = 19\n",
    "ap = has_lt_05[idx]\n",
    "this_match = worst_matches[ap]\n",
    "file1 = this_match[0]\n",
    "file2 = this_match[1]\n",
    "n_files = len(ap[3])\n",
    "plt.bar(range(n_files),ap[3])\n",
    "pos1 = f_idx_dict[file1]\n",
    "pos2 = f_idx_dict[file2]\n",
    "plt.plot(pos1,ap[3][pos1],'ro')\n",
    "plt.plot(pos2,ap[3][pos2],'ro')\n",
    "print(file1,ap[3][pos1])\n",
    "print(file2,ap[3][pos2])\n",
    "print()\n",
    "print()\n",
    "\n",
    "mz_list = []\n",
    "rt_list = []\n",
    "inte_list = []\n",
    "for f in f_idx_dict:\n",
    "    pos = f_idx_dict[f]\n",
    "    match = matches[ap].get(f,None)\n",
    "    if match:\n",
    "        mz_list.append(match[1])\n",
    "        rt_list.append(match[2]*60)\n",
    "        inte_list.append(match[3])\n",
    "\n",
    "plt.figure(figsize=(10,5))\n",
    "ll = np.log(inte_list)\n",
    "ll -= ll.min()\n",
    "ll/=ll.max()\n",
    "plt.scatter(rt_list,mz_list,s = 100*ll**2,marker='o')\n",
    "mz1 = matches[ap][file1][1]\n",
    "mz2 = matches[ap][file2][1]\n",
    "rt1 = matches[ap][file1][2]*60\n",
    "rt2 = matches[ap][file2][2]*60\n",
    "plt.plot(rt1,mz1,'ro')\n",
    "plt.plot(rt2,mz2,'ro')\n",
    "plt.ylim([min(mz_list)-1e-3,max(mz_list)+1e-3])\n",
    "print(ll)\n",
    "plt.figure()\n",
    "from mnet import plot_spectral_alignment\n",
    "from scoring_functions import fast_cosine\n",
    "plot_spectral_alignment(this_match[-2],this_match[-3],fast_cosine,0.2,figsize=(10,5))\n",
    "# plot_spectrum_pair(this_match[-2].normalised_peaks,this_match[-3].normalised_peaks)"
   ]
  },
  {
   "cell_type": "code",
   "execution_count": null,
   "metadata": {},
   "outputs": [],
   "source": [
    "?plt.scatter"
   ]
  },
  {
   "cell_type": "code",
   "execution_count": null,
   "metadata": {},
   "outputs": [],
   "source": [
    "print(worst_matches[aligned_peaks[0]])"
   ]
  },
  {
   "cell_type": "code",
   "execution_count": null,
   "metadata": {},
   "outputs": [],
   "source": [
    "# can plot the spectral pairs that have the lowest cosine for each aligned peak group\n",
    "# for example, the first five groups\n",
    "# (note plotting normalised peaks is best)\n",
    "from mnet import plot_spectrum_pair\n",
    "for example_ap in list(worst_matches.keys())[:5]:\n",
    "    bh = worst_matches[example_ap]\n",
    "    plot_spectrum_pair(bh[-3].normalised_peaks,bh[-2].normalised_peaks)\n",
    "    plt.title('Cosine = {}'.format(bh[-1]))"
   ]
  },
  {
   "cell_type": "code",
   "execution_count": null,
   "metadata": {},
   "outputs": [],
   "source": [
    "# can plot the worst cosine as a function of rt although there is no obvious pattern!\n",
    "rt_list = []\n",
    "sc_list = []\n",
    "for ap in worst_matches:\n",
    "    rt_list.append(ap[2])\n",
    "    sc_list.append(worst_matches[ap][-1])\n",
    "plt.figure(figsize=(10,10))\n",
    "plt.plot(rt_list,sc_list,'bo')"
   ]
  },
  {
   "cell_type": "markdown",
   "metadata": {},
   "source": [
    "## Create a single mgf for the dataset -- keep the best spectrum from each file\n",
    "\n",
    "- Best is defined as the one with maximum total intensity\n",
    "- MGF has the mz and rt from the original file, not the aligned peak\n",
    "- MGF also includes the filename that the best spectrum comes from"
   ]
  },
  {
   "cell_type": "code",
   "execution_count": null,
   "metadata": {},
   "outputs": [],
   "source": [
    "from mzmine import align_spectra\n",
    "spec_clusters = align_spectra(aligned_peaks,original_files,output_dir,matches = matches,make_mgf = True)"
   ]
  },
  {
   "cell_type": "markdown",
   "metadata": {},
   "source": [
    "## Spectral library matching"
   ]
  },
  {
   "cell_type": "code",
   "execution_count": null,
   "metadata": {},
   "outputs": [],
   "source": [
    "from spec_lib import SpecLib\n",
    "from scoring_functions import fast_cosine\n",
    "import jsonpickle\n",
    "processed_lib_file = '/Users/simon/git/molnet/lib/ALL_GNPS.p'\n",
    "with open(processed_lib_file,'r') as f:\n",
    "    all_gnps = jsonpickle.decode(f.read())\n",
    "    "
   ]
  },
  {
   "cell_type": "code",
   "execution_count": null,
   "metadata": {
    "scrolled": true
   },
   "outputs": [],
   "source": [
    "from mnet import Annotation\n",
    "n_done = 0\n",
    "for ap,cl in spec_clusters.items():\n",
    "    if n_done % 100 == 0:\n",
    "        print(n_done)\n",
    "    if cl:\n",
    "        hits = all_gnps.spectral_match(cl.spectrum,fast_cosine)\n",
    "        if len(hits) > 0:\n",
    "            hits.sort(key = lambda x: x[1], reverse = True)\n",
    "            if not 'annotation' in cl.spectrum.metadata:\n",
    "                cl.spectrum.metadata['annotation'] = []\n",
    "            for hit in hits:\n",
    "                temp_dict = {}\n",
    "                temp_dict['SpectrumID'] = hit[0]\n",
    "                temp_dict['score'] = hit[1]\n",
    "                temp_dict['Compound_Name'] = all_gnps.spectra[hit[0]].metadata['NAME']\n",
    "                cl.spectrum.metadata['annotation'].append(Annotation(temp_dict))\n",
    "    n_done += 1"
   ]
  },
  {
   "cell_type": "code",
   "execution_count": null,
   "metadata": {},
   "outputs": [],
   "source": [
    "n_found = 0\n",
    "for ap,cl in spec_clusters.items():\n",
    "    if cl:\n",
    "        if cl.spectrum.metadata.get('annotation',None):\n",
    "            # get the annotation\n",
    "            anns = cl.spectrum.metadata.get('annotation')\n",
    "            for ann in anns:\n",
    "                print(cl.cluster_id,str(ann))\n",
    "            n_found += 1\n",
    "            if n_found == 10:\n",
    "                break"
   ]
  },
  {
   "cell_type": "code",
   "execution_count": null,
   "metadata": {},
   "outputs": [],
   "source": [
    "print(ann.metadata.keys())"
   ]
  },
  {
   "cell_type": "markdown",
   "metadata": {},
   "source": [
    "## Easy now to do molecular networking"
   ]
  },
  {
   "cell_type": "code",
   "execution_count": null,
   "metadata": {},
   "outputs": [],
   "source": [
    "# create a cluster list\n",
    "cluster_list = []\n",
    "for ap,cl in spec_clusters.items():\n",
    "    if cl:\n",
    "        cluster_list.append(cl)\n",
    "print(\"Created list of {} clusters\".format(len(cluster_list)))"
   ]
  },
  {
   "cell_type": "code",
   "execution_count": null,
   "metadata": {},
   "outputs": [],
   "source": [
    "from mnet import mol_network\n",
    "from scoring_functions import fast_cosine_shift\n",
    "fam,mfam = mol_network(cluster_list,fast_cosine_shift,0.2,2,0.7)"
   ]
  },
  {
   "cell_type": "code",
   "execution_count": null,
   "metadata": {},
   "outputs": [],
   "source": [
    "# create a list of files and lists of peak areas for each cluster to add to node file\n",
    "# extra_node_data is a list of tuples. The first in the tuple is the list to add to the file headings\n",
    "# the second is a dictionary with cluster ids as keys and the cluster-specific lists to add to the file as values\n",
    "peak_areas = {}\n",
    "extra_node_data = []\n",
    "aligned_peak_dict = {a[0]:a[3] for a in aligned_peaks}\n",
    "f_idx_list = list(f_idx_dict.keys())\n",
    "for cl in cluster_list:\n",
    "    peak_areas[cl.cluster_id] = []\n",
    "    for o in f_idx_list:\n",
    "        peak_areas[cl.cluster_id].append(aligned_peak_dict[cl.cluster_id][f_idx_dict[o]])\n",
    "extra_node_data.append(([f + ' peak area' for f in f_idx_list],peak_areas))"
   ]
  },
  {
   "cell_type": "markdown",
   "metadata": {},
   "source": [
    "Compute DE between m and f. Note metadata is in `md_json.p`"
   ]
  },
  {
   "cell_type": "markdown",
   "metadata": {},
   "source": [
    "Add annotations"
   ]
  },
  {
   "cell_type": "code",
   "execution_count": null,
   "metadata": {},
   "outputs": [],
   "source": [
    "annotation_dict = {}\n",
    "from mnet import Cluster\n",
    "for cl in cluster_list:\n",
    "    ann = cl.annotation\n",
    "    if ann:\n",
    "        annotation_dict[cl.cluster_id] = [str(ann)]\n",
    "    else:\n",
    "        annotation_dict[cl.cluster_id] = [\"\"]\n",
    "extra_node_data.append((['annotation'],annotation_dict))"
   ]
  },
  {
   "cell_type": "code",
   "execution_count": null,
   "metadata": {},
   "outputs": [],
   "source": [
    "from mnet import write_mnet_files\n",
    "write_mnet_files(mfam,os.path.join(output_dir,'mnet'),{},write_mgf = False,pickle = False,extra_node_data = extra_node_data)"
   ]
  },
  {
   "cell_type": "markdown",
   "metadata": {},
   "source": [
    "write graphml file"
   ]
  },
  {
   "cell_type": "code",
   "execution_count": null,
   "metadata": {},
   "outputs": [],
   "source": [
    "from mnet_utilities import write_mnet_graphml"
   ]
  },
  {
   "cell_type": "code",
   "execution_count": null,
   "metadata": {},
   "outputs": [],
   "source": [
    "G = write_mnet_graphml(mfam,os.path.join(output_dir,'mnet'),metadata = None,extra_node_data = extra_node_data)"
   ]
  },
  {
   "cell_type": "code",
   "execution_count": null,
   "metadata": {},
   "outputs": [],
   "source": [
    "nx.write_graphml(G, os.path.join(output_dir,\"EdgesNodes.graphml\"), infer_numeric_types = True)"
   ]
  },
  {
   "cell_type": "code",
   "execution_count": null,
   "metadata": {},
   "outputs": [],
   "source": []
  },
  {
   "cell_type": "code",
   "execution_count": null,
   "metadata": {},
   "outputs": [],
   "source": []
  },
  {
   "cell_type": "code",
   "execution_count": null,
   "metadata": {},
   "outputs": [],
   "source": []
  },
  {
   "cell_type": "code",
   "execution_count": null,
   "metadata": {},
   "outputs": [],
   "source": []
  }
 ],
 "metadata": {
  "kernelspec": {
   "display_name": "Python 3",
   "language": "python",
   "name": "python3"
  },
  "language_info": {
   "codemirror_mode": {
    "name": "ipython",
    "version": 3
   },
   "file_extension": ".py",
   "mimetype": "text/x-python",
   "name": "python",
   "nbconvert_exporter": "python",
   "pygments_lexer": "ipython3",
   "version": "3.7.5"
  }
 },
 "nbformat": 4,
 "nbformat_minor": 2
}

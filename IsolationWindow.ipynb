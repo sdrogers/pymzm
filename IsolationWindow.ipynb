{
 "cells": [
  {
   "cell_type": "markdown",
   "metadata": {},
   "source": [
    "## Assessing the isolation window"
   ]
  },
  {
   "cell_type": "code",
   "execution_count": 1,
   "metadata": {},
   "outputs": [],
   "source": [
    "from ms2_matching import MZMLFile"
   ]
  },
  {
   "cell_type": "code",
   "execution_count": 4,
   "metadata": {},
   "outputs": [],
   "source": [
    "mzml_file_name = '/Users/simon/git/pymzm/purity/iapi_test_purity.mzML'"
   ]
  },
  {
   "cell_type": "code",
   "execution_count": 5,
   "metadata": {},
   "outputs": [
    {
     "name": "stdout",
     "output_type": "stream",
     "text": [
      "Loaded 403 scans\n"
     ]
    }
   ],
   "source": [
    "mzml_file = MZMLFile(mzml_file_name)"
   ]
  },
  {
   "cell_type": "code",
   "execution_count": 7,
   "metadata": {},
   "outputs": [
    {
     "name": "stdout",
     "output_type": "stream",
     "text": [
      "1\n"
     ]
    }
   ],
   "source": [
    "print(mzml_file.scans[13].ms_level)"
   ]
  },
  {
   "cell_type": "code",
   "execution_count": 8,
   "metadata": {},
   "outputs": [],
   "source": [
    "pre_mz = 79.066"
   ]
  },
  {
   "cell_type": "code",
   "execution_count": 167,
   "metadata": {},
   "outputs": [],
   "source": [
    "# find the blocks automatically\n",
    "# and store their starting positions (i.e. the MS1 before the first MS2)\n",
    "pos = 0\n",
    "starting_positions = []\n",
    "while True:\n",
    "    if mzml_file.scans[pos].ms_level == 2:\n",
    "        starting_positions.append(pos-1)\n",
    "        pos += 9\n",
    "    else:\n",
    "        pos += 1\n",
    "    if pos >= len(mzml_file.scans):\n",
    "        break"
   ]
  },
  {
   "cell_type": "code",
   "execution_count": 188,
   "metadata": {},
   "outputs": [],
   "source": [
    "def get_scan_idx(start_pos):\n",
    "    return range(start+1,start+10,2)\n",
    "def get_target_mz(ms2_scans):\n",
    "    target_mz = []\n",
    "    for s_idx in ms2_scans:\n",
    "        scan = mzml_file.scans[s_idx]\n",
    "        assert scan.ms_level == 2\n",
    "        target_mz.append(scan.precursor_mz)\n",
    "    return target_mz\n",
    "def find_original_precursor(first_ms1_scan,target_mz):\n",
    "    sub_peaks = list(filter(lambda x: x[0]>=min(target_mz) and x[0] <= max(target_mz),first_ms1_scan.peaks))\n",
    "    mz,intensity = zip(*sub_peaks)\n",
    "    intensity = np.array(intensity)\n",
    "    pos = np.argmax(intensity)\n",
    "    original_precursor = mz[pos]\n",
    "    return original_precursor"
   ]
  },
  {
   "cell_type": "code",
   "execution_count": 194,
   "metadata": {},
   "outputs": [],
   "source": [
    "import numpy as np"
   ]
  },
  {
   "cell_type": "code",
   "execution_count": 305,
   "metadata": {},
   "outputs": [],
   "source": [
    "\n",
    "def get_frag_dat(ms2_scans):\n",
    "    import numpy as np\n",
    "    frag_dat = []\n",
    "    frag_idx = {}\n",
    "    frag_pos = 0\n",
    "    n_dp = 2\n",
    "    for i,s_idx in enumerate(ms2_scans):\n",
    "        scan = mzml_file.scans[s_idx]\n",
    "        for mz,intensity in scan.peaks:\n",
    "            round_mz = round(mz,n_dp)\n",
    "            if not round_mz in frag_idx:\n",
    "                frag_idx[round_mz] = frag_pos\n",
    "                frag_pos += 1\n",
    "            frag_dat.append((frag_idx[round_mz],i,intensity))\n",
    "    frag_mat = np.zeros((len(frag_idx),len(ms2_scans)))\n",
    "    for i,j,k in frag_dat:\n",
    "        frag_mat[i,j] += k\n",
    "    return frag_mat,frag_idx"
   ]
  },
  {
   "cell_type": "code",
   "execution_count": 332,
   "metadata": {},
   "outputs": [],
   "source": [
    "def filter_frags(frag_mat,frag_idx,min_count = 5,min_intensity = 1e7):\n",
    "    # only keep fragments in all scans\n",
    "    ma = frag_mat.max(axis=1)\n",
    "    pos = np.where(((frag_mat>0).sum(axis=1) >= min_count)* (ma > min_intensity))[0]\n",
    "    new_mat = np.zeros((len(pos),len(ms2_scans)))\n",
    "    new_idx = {}\n",
    "    reverse_idx = {v:k for k,v in frag_idx.items()}\n",
    "    new_pos = 0\n",
    "    for p in pos:\n",
    "        frag = reverse_idx[p]\n",
    "        new_idx[frag] = new_pos\n",
    "        new_mat[new_pos,:] = frag_mat[p,:]\n",
    "        new_pos += 1\n",
    "    new_reverse = {v:k for k,v in new_idx.items()}\n",
    "    return new_mat,new_idx,new_reverse"
   ]
  },
  {
   "cell_type": "code",
   "execution_count": 395,
   "metadata": {},
   "outputs": [],
   "source": [
    "all_mats = None\n",
    "\n",
    "min_pre = 56\n",
    "max_pre = 58\n",
    "\n",
    "for start in starting_positions:\n",
    "    ms2_scans = get_scan_idx(start)\n",
    "    if start < 10:\n",
    "        continue\n",
    "    try:\n",
    "        target_mz = get_target_mz(ms2_scans)\n",
    "    except:\n",
    "        break\n",
    "        \n",
    "    \n",
    "    original_precursor = find_original_precursor(mzml_file.scans[start],target_mz)\n",
    "    \n",
    "    if original_precursor < min_pre or original_precursor > max_pre:\n",
    "        continue\n",
    "    \n",
    "\n",
    "    frag_mat,frag_idx = get_frag_dat(ms2_scans)\n",
    "    frag_mat,frag_idx,reverse_idx = filter_frags(frag_mat,frag_idx,min_count = 2,min_intensity = 0)\n",
    "\n",
    "    \n",
    "    # row normalise...each peak has max intensity 1\n",
    "    ma = frag_mat.max(axis=1)\n",
    "    frag_mat /= ma[:,None]\n",
    "    \n",
    "    # sort by pre_mz\n",
    "    sort_idx = np.argsort(target_mz)\n",
    "    \n",
    "    \n",
    "    if all_mats is None:\n",
    "        all_mats = frag_mat[:,sort_idx]\n",
    "    else:\n",
    "        all_mats = np.vstack((all_mats,frag_mat[:,sort_idx]))"
   ]
  },
  {
   "cell_type": "code",
   "execution_count": 396,
   "metadata": {},
   "outputs": [
    {
     "name": "stdout",
     "output_type": "stream",
     "text": [
      "[[0.         0.         0.88184228 1.         0.90184661]\n",
      " [0.         0.         0.         0.968043   1.        ]\n",
      " [0.         0.         0.         1.         0.93691942]]\n"
     ]
    }
   ],
   "source": [
    "print(all_mats)"
   ]
  },
  {
   "cell_type": "code",
   "execution_count": 398,
   "metadata": {},
   "outputs": [
    {
     "data": {
      "image/png": "[encoded data removed]",
      "text/plain": [
       "<Figure size 432x288 with 1 Axes>"
      ]
     },
     "metadata": {
      "needs_background": "light"
     },
     "output_type": "display_data"
    }
   ],
   "source": [
    "p = plt.plot(all_mats.T,'k',color=[0.6,0.6,0.6,0.6])\n",
    "plt.xticks(range(0,5),[-0.4,-0.2,0,0.2,0.4])\n",
    "plt.xlabel('Window center - target mz')\n",
    "plt.title('57Da')\n",
    "plt.savefig('example.png')\n"
   ]
  },
  {
   "cell_type": "code",
   "execution_count": 374,
   "metadata": {},
   "outputs": [
    {
     "data": {
      "text/plain": [
       "<matplotlib.colorbar.Colorbar at 0x124b6c790>"
      ]
     },
     "execution_count": 374,
     "metadata": {},
     "output_type": "execute_result"
    },
    {
     "data": {
      "image/png": "[encoded data removed]",
      "text/plain": [
       "<Figure size 432x288 with 2 Axes>"
      ]
     },
     "metadata": {
      "needs_background": "light"
     },
     "output_type": "display_data"
    }
   ],
   "source": [
    "plt.imshow(np.log(frag_mat[:,sort_idx]+1e-5),aspect='auto')\n",
    "plt.colorbar()"
   ]
  },
  {
   "cell_type": "code",
   "execution_count": 166,
   "metadata": {},
   "outputs": [
    {
     "data": {
      "image/png": "[encoded data removed]",
      "text/plain": [
       "<Figure size 432x288 with 1 Axes>"
      ]
     },
     "metadata": {
      "needs_background": "light"
     },
     "output_type": "display_data"
    },
    {
     "data": {
      "image/png": "[encoded data removed]",
      "text/plain": [
       "<Figure size 432x288 with 1 Axes>"
      ]
     },
     "metadata": {
      "needs_background": "light"
     },
     "output_type": "display_data"
    },
    {
     "data": {
      "image/png": "[encoded data removed]",
      "text/plain": [
       "<Figure size 432x288 with 1 Axes>"
      ]
     },
     "metadata": {
      "needs_background": "light"
     },
     "output_type": "display_data"
    }
   ],
   "source": [
    "# the first few are in all spec -- plot them\n",
    "for i,row in enumerate(new_mat):\n",
    "    plt.figure()\n",
    "    plt.plot(np.array(target_mz)[sort_idx] - original_precursor,(row[sort_idx]))\n",
    "    plt.title(new_reverse[i])"
   ]
  },
  {
   "cell_type": "code",
   "execution_count": null,
   "metadata": {},
   "outputs": [],
   "source": []
  },
  {
   "cell_type": "code",
   "execution_count": null,
   "metadata": {},
   "outputs": [],
   "source": []
  },
  {
   "cell_type": "code",
   "execution_count": 318,
   "metadata": {},
   "outputs": [
    {
     "name": "stdout",
     "output_type": "stream",
     "text": [
      "MS1:31.853 Delta = 1.017 (MS1)\n",
      "MS2:32.868 Delta = 1.015 (MS1)\n",
      "MS1:33.098 Delta = 0.231 (MS2)\n",
      "MS2:34.113 Delta = 1.015 (MS1)\n",
      "MS1:34.344 Delta = 0.231 (MS2)\n",
      "MS2:35.364 Delta = 1.019 (MS1)\n",
      "MS1:35.590 Delta = 0.227 (MS2)\n",
      "MS2:36.604 Delta = 1.014 (MS1)\n",
      "MS1:36.830 Delta = 0.226 (MS2)\n",
      "MS2:37.845 Delta = 1.015 (MS1)\n"
     ]
    }
   ],
   "source": [
    "start = 27\n",
    "for i in range(5):\n",
    "    t0 = 60*mzml_file.scans[start+2*i-1].rt_in_minutes\n",
    "    t1 = 60*mzml_file.scans[start+2*i].rt_in_minutes\n",
    "    t2 = 60*mzml_file.scans[start+1+2*i].rt_in_minutes\n",
    "    delta1 = t1-t0\n",
    "    delta2 = t2-t1\n",
    "    previous1 = mzml_file.scans[start+2*i-1].ms_level\n",
    "    previous2 = mzml_file.scans[start+2*i].ms_level\n",
    "    print(\"MS1:{:.3f} Delta = {:.3f} (MS{})\".format(t1,delta1,previous1))\n",
    "    print(\"MS2:{:.3f} Delta = {:.3f} (MS{})\".format(t2,delta2,previous2))\n",
    "\n"
   ]
  },
  {
   "cell_type": "code",
   "execution_count": 312,
   "metadata": {},
   "outputs": [
    {
     "name": "stdout",
     "output_type": "stream",
     "text": [
      "[194.687646484375, 194.887646484375, 195.087646484375, 195.287646484375, 195.487646484375]\n"
     ]
    }
   ],
   "source": [
    "print(target_mz)"
   ]
  },
  {
   "cell_type": "code",
   "execution_count": 313,
   "metadata": {},
   "outputs": [
    {
     "name": "stdout",
     "output_type": "stream",
     "text": [
      "[-0.3999542236328182, -0.19995422363280113, 4.57763671875e-05, 0.20004577636717613, 0.4000457763671932]\n"
     ]
    }
   ],
   "source": [
    "print([t-original_precursor for t in target_mz])"
   ]
  },
  {
   "cell_type": "code",
   "execution_count": null,
   "metadata": {},
   "outputs": [],
   "source": []
  }
 ],
 "metadata": {
  "kernelspec": {
   "display_name": "Python 3",
   "language": "python",
   "name": "python3"
  },
  "language_info": {
   "codemirror_mode": {
    "name": "ipython",
    "version": 3
   },
   "file_extension": ".py",
   "mimetype": "text/x-python",
   "name": "python",
   "nbconvert_exporter": "python",
   "pygments_lexer": "ipython3",
   "version": "3.7.5"
  }
 },
 "nbformat": 4,
 "nbformat_minor": 4
}

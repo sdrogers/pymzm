{
 "cells": [
  {
   "cell_type": "code",
   "execution_count": 24,
   "metadata": {},
   "outputs": [],
   "source": [
    "import pandas as pd\n",
    "import numpy as np\n",
    "import os\n",
    "import glob"
   ]
  },
  {
   "cell_type": "code",
   "execution_count": 3,
   "metadata": {},
   "outputs": [],
   "source": [
    "%load_ext autoreload\n",
    "%autoreload 2"
   ]
  },
  {
   "cell_type": "code",
   "execution_count": 4,
   "metadata": {},
   "outputs": [],
   "source": [
    "WIN = 'D:/'\n",
    "MAC = '/Volumes/Transcend2/'\n",
    "\n",
    "osp = MAC"
   ]
  },
  {
   "cell_type": "code",
   "execution_count": null,
   "metadata": {},
   "outputs": [],
   "source": []
  },
  {
   "cell_type": "markdown",
   "metadata": {},
   "source": [
    "## Load in limma results"
   ]
  },
  {
   "cell_type": "code",
   "execution_count": 8,
   "metadata": {},
   "outputs": [],
   "source": [
    "toptable_ind = pd.read_csv(osp+'pymz/mzmine/221119/limma_toptable_independent.csv', sep=',')\n",
    "feature_description = pd.read_csv(osp+'pymz/mzmine/221119/feature_description.csv', sep=',', index_col = 0)"
   ]
  },
  {
   "cell_type": "code",
   "execution_count": 11,
   "metadata": {},
   "outputs": [],
   "source": [
    "#using the non-interaction model\n",
    "data = feature_description.loc[toptable_ind.index]\n",
    "#data['p-val'] = toptable_ind['P.Value']\n",
    "data['adj p-val'] = toptable_ind['adj.P.Val']\n",
    "data['t-score'] = toptable_ind['t']\n",
    "data['custom_id'] = list(data.index)"
   ]
  },
  {
   "cell_type": "code",
   "execution_count": null,
   "metadata": {},
   "outputs": [],
   "source": []
  },
  {
   "cell_type": "code",
   "execution_count": null,
   "metadata": {},
   "outputs": [],
   "source": [
    "#save to csv for mummichog analysis\n",
    "data.to_csv(osp+'pymz/mzmine/221119/data_for_mummichog.txt', header=True, index=None, sep='\\t', mode='w')"
   ]
  },
  {
   "cell_type": "code",
   "execution_count": null,
   "metadata": {},
   "outputs": [],
   "source": []
  },
  {
   "cell_type": "markdown",
   "metadata": {},
   "source": [
    "## Run mummichog"
   ]
  },
  {
   "cell_type": "code",
   "execution_count": 14,
   "metadata": {
    "collapsed": true
   },
   "outputs": [
    {
     "ename": "NameError",
     "evalue": "name 'os' is not defined",
     "output_type": "error",
     "traceback": [
      "\u001b[0;31m---------------------------------------------------------------------------\u001b[0m",
      "\u001b[0;31mNameError\u001b[0m                                 Traceback (most recent call last)",
      "\u001b[0;32m<ipython-input-14-7679ceeec14f>\u001b[0m in \u001b[0;36m<module>\u001b[0;34m\u001b[0m\n\u001b[0;32m----> 1\u001b[0;31m \u001b[0mos\u001b[0m\u001b[0;34m.\u001b[0m\u001b[0msystem\u001b[0m\u001b[0;34m(\u001b[0m\u001b[0;34m'mummichog -f'\u001b[0m\u001b[0;34m+\u001b[0m \u001b[0mosp\u001b[0m \u001b[0;34m+\u001b[0m \u001b[0;34m'pymz/mzmine/221119/data_for_mummichog.txt'\u001b[0m\u001b[0;34m+\u001b[0m\u001b[0;34m' -m positive -u 3 -k MummichogResults -o mm -c 0.05'\u001b[0m\u001b[0;34m)\u001b[0m\u001b[0;34m\u001b[0m\u001b[0;34m\u001b[0m\u001b[0m\n\u001b[0m",
      "\u001b[0;31mNameError\u001b[0m: name 'os' is not defined"
     ]
    }
   ],
   "source": [
    "os.system('mummichog -f'+ osp + 'pymz/mzmine/221119/data_for_mummichog.txt'+' -m positive -u 3 -k MummichogResults -o mm -c 0.05')"
   ]
  },
  {
   "cell_type": "code",
   "execution_count": null,
   "metadata": {},
   "outputs": [],
   "source": []
  },
  {
   "cell_type": "markdown",
   "metadata": {},
   "source": [
    "## Annotate data"
   ]
  },
  {
   "cell_type": "code",
   "execution_count": 15,
   "metadata": {},
   "outputs": [],
   "source": [
    "compounds = pd.read_csv('MummichogResults/1582286605.18.mm/tables/ListOfEmpiricalCompounds.tsv', sep='\\t')\n",
    "featureoutput = pd.read_csv('MummichogResults/1582286605.18.mm/tables/userInputData.txt', sep='\\t')\n",
    "pathway = pd.read_csv('MummichogResults/1582286605.18.mm/tables/mcg_pathwayanalysis_mm.tsv', sep='\\t')"
   ]
  },
  {
   "cell_type": "code",
   "execution_count": 16,
   "metadata": {},
   "outputs": [],
   "source": [
    "matching_ids = {}\n",
    "for _,row in featureoutput.iterrows():\n",
    "    key = row['massfeature_rows']\n",
    "    value = row['CompoundID_from_user']\n",
    "    matching_ids[key] = value"
   ]
  },
  {
   "cell_type": "code",
   "execution_count": 17,
   "metadata": {},
   "outputs": [],
   "source": [
    "compounds_dict = {}\n",
    "for _,row in compounds.iterrows():\n",
    "    ids = row['massfeature_rows']\n",
    "    ions = row['str_row_ion']\n",
    "    compoundlist = row['compound_names']\n",
    "    \n",
    "    ids_list = ids.split(';')\n",
    "    ions_list = ions.split(';')\n",
    "    for i in range(len(ids_list)):\n",
    "        compounds_dict[matching_ids[ids_list[i]]] = []\n",
    "        compounds_dict[matching_ids[ids_list[i]]].append(ions_list[i].split('_')[1])\n",
    "        compounds_dict[matching_ids[ids_list[i]]].append(compoundlist)\n",
    "        "
   ]
  },
  {
   "cell_type": "code",
   "execution_count": 18,
   "metadata": {},
   "outputs": [],
   "source": [
    "for row_id,row in data.iterrows():\n",
    "    if row_id in list(compounds_dict.keys()):\n",
    "        \n",
    "        data.at[row_id,'compound_names'] = compounds_dict[row_id][-1]\n",
    "    else:\n",
    "         data.at[row_id,'compound_names'] = 'NaN'"
   ]
  },
  {
   "cell_type": "code",
   "execution_count": 21,
   "metadata": {},
   "outputs": [],
   "source": [
    "ecomp_dict = {}\n",
    "for _,row in compounds.iterrows():\n",
    "    eid = row['EID']\n",
    "    massfeature_rows = row['massfeature_rows'].split(';')\n",
    "    for mass in massfeature_rows:\n",
    "        if mass in ecomp_dict:\n",
    "            ecomp_dict[mass].append(eid)\n",
    "        else:\n",
    "            ecomp_dict[mass] = []\n",
    "            ecomp_dict[mass].append(eid)\n",
    "            \n",
    "cmpd_names = {}\n",
    "for _,row in compounds.iterrows():\n",
    "    eid = row['EID']\n",
    "    name = row['compound_names']\n",
    "    cmpd_names[eid] = name\n",
    "matching_ids = {}\n",
    "for _,row in featureoutput.iterrows():\n",
    "    key = row['massfeature_rows']\n",
    "    value = row['CompoundID_from_user']\n",
    "    \n",
    "    matching_ids[value] = key\n",
    "for n in matching_ids:\n",
    "    if matching_ids[n] in ecomp_dict:\n",
    "        matching_ids[n] = ecomp_dict[matching_ids[n]]\n",
    "\n",
    "id_names = {}\n",
    "for i in matching_ids:\n",
    "    if type(matching_ids[i]) is list:\n",
    "        for f in matching_ids[i]:\n",
    "            if f in cmpd_names:\n",
    "                if i in id_names:\n",
    "                    id_names[i].append(cmpd_names[f])\n",
    "                else:\n",
    "                    id_names[i] = []\n",
    "                    id_names[i].append(cmpd_names[f])\n",
    "matching_ids2 = {}\n",
    "for n in matching_ids:\n",
    "    \n",
    "    if type(matching_ids[n]) is list:\n",
    "        lista = matching_ids[n]\n",
    "        for p in lista:\n",
    "            if p in matching_ids2:\n",
    "                matching_ids2[p].append(n)\n",
    "            else:\n",
    "                matching_ids2[p] = []\n",
    "                matching_ids2[p].append(n)\n",
    "pathway_dict = {}\n",
    "for _,row in pathway.iterrows():\n",
    "    \n",
    "    pname = row['pathway']\n",
    "    idlist =row['overlap_EmpiricalCompounds (id)']\n",
    "    \n",
    "    if type(idlist) != float:\n",
    "        idlist = idlist.split(',')\n",
    "        for p in idlist:\n",
    "            \n",
    "            if pname in pathway_dict:\n",
    "                if p in matching_ids2:\n",
    "                    pathway_dict[pname].append(matching_ids2[p]) \n",
    "                \n",
    "            else:\n",
    "                pathway_dict[pname] = []\n",
    "                if p in matching_ids2:\n",
    "                    pathway_dict[pname].append(matching_ids2[p]) \n",
    "                \n",
    "pathway_dict2 = {}\n",
    "for p in pathway_dict:\n",
    "    \n",
    "    for n in pathway_dict[p]:\n",
    "        for i in n:\n",
    "            if i in pathway_dict2:\n",
    "                if p not in  pathway_dict2[i]:\n",
    "                    pathway_dict2[i].append(p)\n",
    "            else:\n",
    "                pathway_dict2[i] = []\n",
    "                pathway_dict2[i].append(p)\n",
    "                \n",
    "data['compound_names'] = str(np.zeros(len(data)))\n",
    "data['compound_id'] = str(np.zeros(len(data)))\n",
    "data['pathway'] = str(np.zeros(len(data)))\n",
    "for row_id,row in data.iterrows():\n",
    "    if row_id in id_names:\n",
    "        data.at[row_id,'compound_names'] = id_names[row_id]    \n",
    "    else:\n",
    "        data.at[row_id,'compound_names'] = 'NaN'\n",
    "    if row_id in matching_ids:\n",
    "        data.at[row_id,'compound_id'] = matching_ids[row_id]\n",
    "    else:\n",
    "        data.at[row_id,'compound_id'] = 'NaN'\n",
    "    if row_id in pathway_dict2:\n",
    "        data.at[row_id,'pathway'] = pathway_dict2[row_id]\n",
    "    else:\n",
    "        data.at[row_id,'pathway'] = 'NaN'\n",
    "    "
   ]
  },
  {
   "cell_type": "code",
   "execution_count": null,
   "metadata": {},
   "outputs": [],
   "source": []
  },
  {
   "cell_type": "markdown",
   "metadata": {},
   "source": [
    "## Matching with standards ToxID annotation"
   ]
  },
  {
   "cell_type": "code",
   "execution_count": null,
   "metadata": {},
   "outputs": [],
   "source": []
  },
  {
   "cell_type": "code",
   "execution_count": 25,
   "metadata": {},
   "outputs": [],
   "source": [
    "zik_standards_file_list = glob.glob(os.path.join(osp,'Metabolomics_datasets/Zika/', \"*Std*.csv\"))\n",
    "zik_standards_file_list.sort()\n",
    "\n",
    "zik_std1_csv_file = pd.read_csv(zik_standards_file_list[0], skiprows=9, index_col=False)\n",
    "zik_std2_csv_file = pd.read_csv(zik_standards_file_list[2], skiprows=15, index_col=False)\n",
    "zik_std3_csv_file = pd.read_csv(zik_standards_file_list[4], skiprows=15, index_col=False)\n"
   ]
  },
  {
   "cell_type": "code",
   "execution_count": 26,
   "metadata": {},
   "outputs": [],
   "source": [
    "from metab_utils import create_std_dict\n",
    "\n",
    "zik_standards_1 = create_std_dict(zik_std1_csv_file)\n",
    "zik_standards_2 = create_std_dict(zik_std2_csv_file)\n",
    "zik_standards_3 = create_std_dict(zik_std3_csv_file)\n",
    "\n",
    "from metab_utils import mergeDict\n",
    "zik_standards = mergeDict(mergeDict(zik_standards_1,zik_standards_2), zik_standards_3)\n"
   ]
  },
  {
   "cell_type": "code",
   "execution_count": null,
   "metadata": {},
   "outputs": [],
   "source": []
  },
  {
   "cell_type": "code",
   "execution_count": 27,
   "metadata": {},
   "outputs": [],
   "source": [
    "#filtered_peaks['standards_match'] = ['']*len(filtered)\n",
    "for i,row in data.iterrows():\n",
    "    mz = row['row m/z']\n",
    "    rt = row['row retention time']\n",
    "    for metabolite in zik_standards:\n",
    "        mz_std = zik_standards[metabolite][0]\n",
    "        rt_std = zik_standards[metabolite][2]\n",
    "        \n",
    "        if mz >= mz_std - 0.001 and mz <= mz_std + 0.001:\n",
    "            if rt >= rt_std - 0.2 and rt <= rt_std + 0.2:\n",
    "                data.at[i,'standards_match'] = metabolite\n",
    "            else:\n",
    "                data.at[i,'standards_match'] = 'NaN'\n",
    "    "
   ]
  },
  {
   "cell_type": "code",
   "execution_count": 29,
   "metadata": {},
   "outputs": [],
   "source": [
    "data.to_csv(osp+'pymz/mzmine/221119/annotated_data.csv', sep = ',')"
   ]
  },
  {
   "cell_type": "code",
   "execution_count": null,
   "metadata": {},
   "outputs": [],
   "source": []
  },
  {
   "cell_type": "code",
   "execution_count": null,
   "metadata": {},
   "outputs": [],
   "source": []
  },
  {
   "cell_type": "markdown",
   "metadata": {},
   "source": [
    "## Check accuracy of mummichog annotation"
   ]
  },
  {
   "cell_type": "code",
   "execution_count": null,
   "metadata": {},
   "outputs": [],
   "source": [
    "notannotated = 0\n",
    "annotated = 0\n",
    "notannotateds = 0\n",
    "annotateds = 0\n",
    "match = 0\n",
    "matchs =0\n",
    "for i,row in filtered_peaks.iterrows():\n",
    "    cmp = str(row['compound_names']).lower()\n",
    "    std = str(row['standards_match']).lower()\n",
    "    \n",
    "    if cmp in ['nan']:\n",
    "        notannotated +=1\n",
    "        if not std in ['nan']:\n",
    "            matchs +=1\n",
    "           \n",
    "    else:\n",
    "        annotated +=1\n",
    "        if not std in ['nan']:\n",
    "            if std in cmp:\n",
    "                match +=1\n",
    "            else:\n",
    "                print(row)\n",
    "    \n",
    "    if std in ['nan']:\n",
    "        notannotateds +=1\n",
    "    else:\n",
    "        annotateds +=1\n",
    "        \n",
    "percentage_exact_matches = match*100/annotateds\n",
    "percentage_not_annotated = matchs*100/annotateds\n",
    "percentage_not_matched = (annotateds-match-matchs)*100/annotateds\n",
    "\n",
    "print(\"Total number of annotated compounds using mummichog: {}\".format(annotated))\n",
    "print(\"Total number of annotated compounds using ToxID standards: {}\".format(annotateds))\n",
    "print(\"Total number of annotation matches between mummichog and ToxID: {0}, i.e. {1:.2f}%\".format(match, percentage_exact_matches))\n",
    "print(\"Total number of annotation mismatches between mummichog and ToxID: {0}, i.e. {1:.2f}%\".format(annotateds-match-matchs, percentage_not_matched))\n",
    "print(\"Total number of metabolites annotated with ToxID, but not with mummichog: {0}, i.e. {1:.2f}%\".format(matchs, percentage_not_annotated))"
   ]
  },
  {
   "cell_type": "code",
   "execution_count": null,
   "metadata": {},
   "outputs": [],
   "source": []
  }
 ],
 "metadata": {
  "kernelspec": {
   "display_name": "Python 3",
   "language": "python",
   "name": "python3"
  },
  "language_info": {
   "codemirror_mode": {
    "name": "ipython",
    "version": 3
   },
   "file_extension": ".py",
   "mimetype": "text/x-python",
   "name": "python",
   "nbconvert_exporter": "python",
   "pygments_lexer": "ipython3",
   "version": "3.7.3"
  }
 },
 "nbformat": 4,
 "nbformat_minor": 2
}

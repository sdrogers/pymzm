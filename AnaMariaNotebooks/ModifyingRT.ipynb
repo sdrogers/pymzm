{
 "cells": [
  {
   "cell_type": "code",
   "execution_count": null,
   "metadata": {},
   "outputs": [],
   "source": [
    "import pickle"
   ]
  },
  {
   "cell_type": "code",
   "execution_count": null,
   "metadata": {},
   "outputs": [],
   "source": [
    "%load_ext autoreload\n",
    "%autoreload 2"
   ]
  },
  {
   "cell_type": "code",
   "execution_count": 1,
   "metadata": {},
   "outputs": [],
   "source": [
    "WIN = 'D:/'\n",
    "MAC = '/Volumes/Transcend2/'\n",
    "\n",
    "osp = MAC"
   ]
  },
  {
   "cell_type": "code",
   "execution_count": null,
   "metadata": {},
   "outputs": [],
   "source": []
  },
  {
   "cell_type": "markdown",
   "metadata": {},
   "source": [
    "### Modify mzTab files based on the previously obtained models"
   ]
  },
  {
   "cell_type": "code",
   "execution_count": null,
   "metadata": {},
   "outputs": [],
   "source": [
    "with open('D:/pymz/mzmine/vlmodel.txt', 'rb') as file:  \n",
    "    mvl = pickle.load(file)\n",
    "with open('D:/pymz/mzmine/malmodel.txt', 'rb') as file:  \n",
    "    mmal = pickle.load(file)"
   ]
  },
  {
   "cell_type": "code",
   "execution_count": null,
   "metadata": {},
   "outputs": [],
   "source": [
    "#for modifying the samples files\n",
    "vl_samples = os.path.join(osp, 'pymz/mzmine/221119/vl')\n",
    "vl_samples_new =  os.path.join(osp,'pymz/mzmine/221119/vl_changed_rt')\n",
    "mal_samples =  os.path.join(osp,'pymz/mzmine/221119/mal')\n",
    "mal_samples_new =  os.path.join(osp,'pymz/mzmine/221119/mal_changed_rt')"
   ]
  },
  {
   "cell_type": "code",
   "execution_count": null,
   "metadata": {},
   "outputs": [],
   "source": [
    "#for modifying the standard files\n",
    "output_dir = os.path.join(osp, 'pymz/mzmine/221119/standards/')\n",
    "output_dir_new = os.path.join(osp, 'pymz/mzmine/221119/standards_changed_rt/')"
   ]
  },
  {
   "cell_type": "code",
   "execution_count": null,
   "metadata": {},
   "outputs": [],
   "source": [
    "from metab_utils import modify_rtdrift_in_mztab\n",
    "\n",
    "modify_rtdrift_in_mztab(output_dir, output_dir_new, name_tag = 'Mal*.mzTab', model = mmal, standards = True)\n",
    "modify_rtdrift_in_mztab(output_dir, output_dir_new, name_tag = 'VL*.mzTab', model = mvl, standards = True)\n",
    "\n",
    "modify_rtdrift_in_mztab(mal_samples, mal_samples_new, name_tag = '*.mzTab', model = mmal, standards = False)\n",
    "modify_rtdrift_in_mztab(vl_samples, vl_samples_new, name_tag = '*.mzTab', model = mvl, standards = False)"
   ]
  },
  {
   "cell_type": "code",
   "execution_count": null,
   "metadata": {},
   "outputs": [],
   "source": []
  },
  {
   "cell_type": "markdown",
   "metadata": {},
   "source": [
    "### Modify csv files from GNPS based on the previously obtained models"
   ]
  },
  {
   "cell_type": "code",
   "execution_count": null,
   "metadata": {},
   "outputs": [],
   "source": [
    "vl_ms2 = os.path.join(osp, 'pymz/mzmine/210120/mzmine_frag/vl/frag_pos_vl_quant.csv')\n",
    "vl_ms2_new = os.path.join(osp, 'pymz/mzmine/210120/mzmine_frag/vl_changed_rt/frag_pos_vl_quant.csv')\n",
    "mal_ms2 = os.path.join(osp, 'pymz/mzmine/210120/mzmine_frag/mal/frag_pos_mal_quant.csv')\n",
    "mal_ms2_new = os.path.join(osp, 'pymz/mzmine/210120/mzmine_frag/mal_changed_rt/frag_pos_mal_quant.csv')"
   ]
  },
  {
   "cell_type": "code",
   "execution_count": null,
   "metadata": {},
   "outputs": [],
   "source": [
    "modify_rtdrift_in_csv(vl_ms2, vl_ms2_new, mvl)\n",
    "modify_rtdrift_in_csv(mal_ms2, mal_ms2_new, mmal)"
   ]
  },
  {
   "cell_type": "code",
   "execution_count": null,
   "metadata": {},
   "outputs": [],
   "source": []
  },
  {
   "cell_type": "markdown",
   "metadata": {},
   "source": [
    "### Modify raw mzXML files based on the previously obtained models"
   ]
  },
  {
   "cell_type": "code",
   "execution_count": null,
   "metadata": {},
   "outputs": [],
   "source": [
    "from metab_utils import modify_rtdrif_in_mzxml\n",
    "path_to_mzxmlfiles = '/Volumes/Transcend/PhD/Metabolomics_datasets/VL/Positive/modified/'\n",
    "files = os.listdir(path_to_mzxmlfiles)\n",
    "for filename in files:\n",
    "    print(filename)\n",
    "    modify_rtdrif_in_mzxml(path_to_mzxmlfiles, filename, mvl)"
   ]
  },
  {
   "cell_type": "code",
   "execution_count": null,
   "metadata": {},
   "outputs": [],
   "source": [
    "mal = pd.read_csv('/Users/anamaria/Documents/pymz/mzmine/221119/mal/topfeatures_filled.txt', sep = '\\t')\n",
    "mal_sig = mal[mal['adj-p'] < 0.05]\n",
    "\n",
    "vl = pd.read_csv('/Users/anamaria/Documents/pymz/mzmine/221119/vl/topfeatures_filled.txt', sep = '\\t')\n",
    "vl_sig = vl[vl['adj-p'] < 0.05]\n",
    "zik = pd.read_csv('/Users/anamaria/Documents/pymz/mzmine/221119/zik/topfeatures_filled.txt', sep = '\\t')\n",
    "zik_sig = zik[zik['adj-p'] < 0.05]"
   ]
  },
  {
   "cell_type": "code",
   "execution_count": null,
   "metadata": {},
   "outputs": [],
   "source": [
    "def change_rt_in_df(df, model):\n",
    "    x = []\n",
    "    for _,row in df.iterrows():\n",
    "\n",
    "        old_rt = row['row retention time']\n",
    "        new_rt,_ = model.predict(np.array([[old_rt]]))\n",
    "        new_rt = new_rt[0][0]\n",
    "        new_rt += old_rt\n",
    "        row['row retention time'] = new_rt\n",
    "        x.append(row)\n",
    "    new_df = pd.DataFrame(x)\n",
    "    return new_df"
   ]
  },
  {
   "cell_type": "code",
   "execution_count": null,
   "metadata": {},
   "outputs": [],
   "source": [
    "mal_new = change_rt_in_df(mal, mmal)\n",
    "vl_new = change_rt_in_df(vl, mvl)"
   ]
  },
  {
   "cell_type": "code",
   "execution_count": null,
   "metadata": {},
   "outputs": [],
   "source": [
    "vl_new.to_csv(r'/Users/anamaria/Documents/pymz/mzmine/221119/vl/topfeatures_filled_changed_rt.txt', header=True, index=None, sep='\\t', mode='w')\n",
    "mal_new.to_csv(r'/Users/anamaria/Documents/pymz/mzmine/221119/mal/topfeatures_filled_changed_rt.txt', header=True, index=None, sep='\\t', mode='w')"
   ]
  },
  {
   "cell_type": "code",
   "execution_count": null,
   "metadata": {},
   "outputs": [],
   "source": [
    "new_rt,_ = model.predict(np.array([[old_rt]]))\n",
    "                    new_rt = new_rt[0][0]\n",
    "                    new_rt += old_rt\n",
    "                    tokens[2] = new_rt"
   ]
  },
  {
   "cell_type": "code",
   "execution_count": null,
   "metadata": {},
   "outputs": [],
   "source": [
    "def get_rt_is_in_hmdb(root, mz, tolerance = 0.05):\n",
    "    lista = []\n",
    "    stringtag = '{http://www.hmdb.ca}'\n",
    "    for metabolite in root.findall(stringtag+'metabolite'):\n",
    "            name = metabolite.find(stringtag+'name').text\n",
    "            mass = metabolite.find(stringtag+'monisotopic_molecular_weight').text\n",
    "            if isinstance(mass, str):\n",
    "                mass = float(mass)\n",
    "                upper_mass = mass+tolerance\n",
    "                lower_mass = mass-tolerance\n",
    "                if mz > lower_mass and mz < upper_mass:\n",
    "                    lista.append(name)\n",
    "    return lista\n",
    "\n",
    "names = {}\n",
    "for _,row in with_mod.iterrows():\n",
    "    mz = row['row m/z']\n",
    "    cid = row['custom_id']\n",
    "    for adduct in adducts_pos_mod:\n",
    "        mz = adducts_pos_mod[adduct] + mz\n",
    "        hf = check_peak_is_in_hmdb(root, mz, 0.01)\n",
    "        names[int(cid)] = hf\n",
    "        \n",
    "   "
   ]
  },
  {
   "cell_type": "code",
   "execution_count": null,
   "metadata": {},
   "outputs": [],
   "source": []
  },
  {
   "cell_type": "code",
   "execution_count": null,
   "metadata": {},
   "outputs": [],
   "source": []
  }
 ],
 "metadata": {
  "kernelspec": {
   "display_name": "Python 3",
   "language": "python",
   "name": "python3"
  },
  "language_info": {
   "codemirror_mode": {
    "name": "ipython",
    "version": 3
   },
   "file_extension": ".py",
   "mimetype": "text/x-python",
   "name": "python",
   "nbconvert_exporter": "python",
   "pygments_lexer": "ipython3",
   "version": "3.7.3"
  }
 },
 "nbformat": 4,
 "nbformat_minor": 2
}

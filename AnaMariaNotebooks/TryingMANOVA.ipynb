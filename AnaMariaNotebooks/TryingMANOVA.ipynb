{
 "cells": [
  {
   "cell_type": "code",
   "execution_count": 2,
   "metadata": {},
   "outputs": [],
   "source": [
    "import pandas as pd"
   ]
  },
  {
   "cell_type": "code",
   "execution_count": 7,
   "metadata": {},
   "outputs": [],
   "source": [
    "from statsmodels.multivariate.manova import MANOVA"
   ]
  },
  {
   "cell_type": "code",
   "execution_count": 11,
   "metadata": {},
   "outputs": [],
   "source": [
    "df = pd.read_csv('/Users/anamaria/Documents/pymz/mzmine/221119/modifiedRTfiltereddata.txt', sep = '\\t', index_col=0)"
   ]
  },
  {
   "cell_type": "code",
   "execution_count": 29,
   "metadata": {},
   "outputs": [],
   "source": [
    "def prepend(list, str): \n",
    "      \n",
    "    # Using format() \n",
    "    str += '{0}'\n",
    "    list = [str.format(i) for i in list] \n",
    "    return(list) "
   ]
  },
  {
   "cell_type": "code",
   "execution_count": 30,
   "metadata": {},
   "outputs": [],
   "source": [
    "colnames = list(df.columns)\n",
    "string = 'Metab'\n",
    "colnames = prepend(colnames, string) "
   ]
  },
  {
   "cell_type": "code",
   "execution_count": 32,
   "metadata": {},
   "outputs": [],
   "source": [
    "df.columns = colnames"
   ]
  },
  {
   "cell_type": "code",
   "execution_count": 33,
   "metadata": {},
   "outputs": [
    {
     "data": {
      "text/html": [
       "<div>\n",
       "<style scoped>\n",
       "    .dataframe tbody tr th:only-of-type {\n",
       "        vertical-align: middle;\n",
       "    }\n",
       "\n",
       "    .dataframe tbody tr th {\n",
       "        vertical-align: top;\n",
       "    }\n",
       "\n",
       "    .dataframe thead th {\n",
       "        text-align: right;\n",
       "    }\n",
       "</style>\n",
       "<table border=\"1\" class=\"dataframe\">\n",
       "  <thead>\n",
       "    <tr style=\"text-align: right;\">\n",
       "      <th></th>\n",
       "      <th>Metab1517</th>\n",
       "      <th>Metab3022</th>\n",
       "      <th>Metab101</th>\n",
       "      <th>Metab1401</th>\n",
       "      <th>Metab2987</th>\n",
       "      <th>Metab2985</th>\n",
       "      <th>Metab613</th>\n",
       "      <th>Metab634</th>\n",
       "      <th>Metab2982</th>\n",
       "      <th>Metab659</th>\n",
       "      <th>...</th>\n",
       "      <th>Metab805</th>\n",
       "      <th>Metab258</th>\n",
       "      <th>Metab636</th>\n",
       "      <th>Metab2876</th>\n",
       "      <th>Metab412</th>\n",
       "      <th>Metab2012</th>\n",
       "      <th>Metab2478</th>\n",
       "      <th>Metab1829</th>\n",
       "      <th>MetabCondition</th>\n",
       "      <th>MetabDataset</th>\n",
       "    </tr>\n",
       "  </thead>\n",
       "  <tbody>\n",
       "    <tr>\n",
       "      <th>ZIK6.mzXML</th>\n",
       "      <td>19.769785</td>\n",
       "      <td>24.472908</td>\n",
       "      <td>23.214996</td>\n",
       "      <td>27.954761</td>\n",
       "      <td>26.501786</td>\n",
       "      <td>27.585682</td>\n",
       "      <td>30.877438</td>\n",
       "      <td>26.704714</td>\n",
       "      <td>27.319067</td>\n",
       "      <td>23.492223</td>\n",
       "      <td>...</td>\n",
       "      <td>24.043579</td>\n",
       "      <td>27.586704</td>\n",
       "      <td>20.916336</td>\n",
       "      <td>22.272148</td>\n",
       "      <td>25.766864</td>\n",
       "      <td>22.145179</td>\n",
       "      <td>24.379928</td>\n",
       "      <td>20.534265</td>\n",
       "      <td>infected</td>\n",
       "      <td>Zika</td>\n",
       "    </tr>\n",
       "    <tr>\n",
       "      <th>ZIK7.mzXML</th>\n",
       "      <td>20.248914</td>\n",
       "      <td>24.957401</td>\n",
       "      <td>23.442901</td>\n",
       "      <td>27.311023</td>\n",
       "      <td>26.423358</td>\n",
       "      <td>27.773048</td>\n",
       "      <td>31.145098</td>\n",
       "      <td>26.980331</td>\n",
       "      <td>28.575577</td>\n",
       "      <td>23.644041</td>\n",
       "      <td>...</td>\n",
       "      <td>24.062836</td>\n",
       "      <td>26.902601</td>\n",
       "      <td>20.875712</td>\n",
       "      <td>23.552683</td>\n",
       "      <td>24.778182</td>\n",
       "      <td>21.620736</td>\n",
       "      <td>25.233043</td>\n",
       "      <td>21.071948</td>\n",
       "      <td>infected</td>\n",
       "      <td>Zika</td>\n",
       "    </tr>\n",
       "    <tr>\n",
       "      <th>ZIK10.mzXML</th>\n",
       "      <td>19.473802</td>\n",
       "      <td>23.999297</td>\n",
       "      <td>23.300208</td>\n",
       "      <td>27.712525</td>\n",
       "      <td>25.899139</td>\n",
       "      <td>27.128593</td>\n",
       "      <td>30.943638</td>\n",
       "      <td>26.778666</td>\n",
       "      <td>27.094619</td>\n",
       "      <td>23.486864</td>\n",
       "      <td>...</td>\n",
       "      <td>24.507432</td>\n",
       "      <td>27.457162</td>\n",
       "      <td>21.295810</td>\n",
       "      <td>23.142375</td>\n",
       "      <td>25.780809</td>\n",
       "      <td>21.744113</td>\n",
       "      <td>25.591101</td>\n",
       "      <td>0.000000</td>\n",
       "      <td>infected</td>\n",
       "      <td>Zika</td>\n",
       "    </tr>\n",
       "    <tr>\n",
       "      <th>C7_2.mzXML</th>\n",
       "      <td>21.820967</td>\n",
       "      <td>23.499994</td>\n",
       "      <td>24.762901</td>\n",
       "      <td>0.000000</td>\n",
       "      <td>26.034789</td>\n",
       "      <td>27.096887</td>\n",
       "      <td>32.003501</td>\n",
       "      <td>27.798430</td>\n",
       "      <td>26.208108</td>\n",
       "      <td>24.577072</td>\n",
       "      <td>...</td>\n",
       "      <td>25.516914</td>\n",
       "      <td>28.647462</td>\n",
       "      <td>20.297431</td>\n",
       "      <td>22.754605</td>\n",
       "      <td>26.439721</td>\n",
       "      <td>22.442722</td>\n",
       "      <td>20.510413</td>\n",
       "      <td>0.000000</td>\n",
       "      <td>control</td>\n",
       "      <td>VL</td>\n",
       "    </tr>\n",
       "    <tr>\n",
       "      <th>KM_10.mzXML</th>\n",
       "      <td>19.149515</td>\n",
       "      <td>0.000000</td>\n",
       "      <td>22.608442</td>\n",
       "      <td>24.653886</td>\n",
       "      <td>25.366918</td>\n",
       "      <td>26.450361</td>\n",
       "      <td>30.322464</td>\n",
       "      <td>26.127838</td>\n",
       "      <td>25.570783</td>\n",
       "      <td>22.896493</td>\n",
       "      <td>...</td>\n",
       "      <td>25.267140</td>\n",
       "      <td>26.407250</td>\n",
       "      <td>21.765701</td>\n",
       "      <td>0.000000</td>\n",
       "      <td>25.702159</td>\n",
       "      <td>22.724940</td>\n",
       "      <td>20.757275</td>\n",
       "      <td>22.426739</td>\n",
       "      <td>control</td>\n",
       "      <td>Malaria</td>\n",
       "    </tr>\n",
       "  </tbody>\n",
       "</table>\n",
       "<p>5 rows × 606 columns</p>\n",
       "</div>"
      ],
      "text/plain": [
       "             Metab1517  Metab3022   Metab101  Metab1401  Metab2987  Metab2985  \\\n",
       "ZIK6.mzXML   19.769785  24.472908  23.214996  27.954761  26.501786  27.585682   \n",
       "ZIK7.mzXML   20.248914  24.957401  23.442901  27.311023  26.423358  27.773048   \n",
       "ZIK10.mzXML  19.473802  23.999297  23.300208  27.712525  25.899139  27.128593   \n",
       "C7_2.mzXML   21.820967  23.499994  24.762901   0.000000  26.034789  27.096887   \n",
       "KM_10.mzXML  19.149515   0.000000  22.608442  24.653886  25.366918  26.450361   \n",
       "\n",
       "              Metab613   Metab634  Metab2982   Metab659  ...   Metab805  \\\n",
       "ZIK6.mzXML   30.877438  26.704714  27.319067  23.492223  ...  24.043579   \n",
       "ZIK7.mzXML   31.145098  26.980331  28.575577  23.644041  ...  24.062836   \n",
       "ZIK10.mzXML  30.943638  26.778666  27.094619  23.486864  ...  24.507432   \n",
       "C7_2.mzXML   32.003501  27.798430  26.208108  24.577072  ...  25.516914   \n",
       "KM_10.mzXML  30.322464  26.127838  25.570783  22.896493  ...  25.267140   \n",
       "\n",
       "              Metab258   Metab636  Metab2876   Metab412  Metab2012  Metab2478  \\\n",
       "ZIK6.mzXML   27.586704  20.916336  22.272148  25.766864  22.145179  24.379928   \n",
       "ZIK7.mzXML   26.902601  20.875712  23.552683  24.778182  21.620736  25.233043   \n",
       "ZIK10.mzXML  27.457162  21.295810  23.142375  25.780809  21.744113  25.591101   \n",
       "C7_2.mzXML   28.647462  20.297431  22.754605  26.439721  22.442722  20.510413   \n",
       "KM_10.mzXML  26.407250  21.765701   0.000000  25.702159  22.724940  20.757275   \n",
       "\n",
       "             Metab1829  MetabCondition  MetabDataset  \n",
       "ZIK6.mzXML   20.534265        infected          Zika  \n",
       "ZIK7.mzXML   21.071948        infected          Zika  \n",
       "ZIK10.mzXML   0.000000        infected          Zika  \n",
       "C7_2.mzXML    0.000000         control            VL  \n",
       "KM_10.mzXML  22.426739         control       Malaria  \n",
       "\n",
       "[5 rows x 606 columns]"
      ]
     },
     "execution_count": 33,
     "metadata": {},
     "output_type": "execute_result"
    }
   ],
   "source": [
    "df.head()"
   ]
  },
  {
   "cell_type": "code",
   "execution_count": 34,
   "metadata": {},
   "outputs": [],
   "source": [
    "names_dvs = list(df.columns)[:-2]\n",
    "formula = names_dvs[0]\n",
    "for i in range(len(names_dvs)-1):\n",
    "    formula = formula + ' + ' + names_dvs[i+1]\n",
    "formula = formula + ' ~ MetabCondition + MetabDataset + MetabCondition:MetabDataset'"
   ]
  },
  {
   "cell_type": "code",
   "execution_count": 35,
   "metadata": {},
   "outputs": [],
   "source": [
    "maov = MANOVA.from_formula(formula, data = df)"
   ]
  },
  {
   "cell_type": "code",
   "execution_count": 56,
   "metadata": {},
   "outputs": [
    {
     "name": "stdout",
     "output_type": "stream",
     "text": [
      "[8.790452883144491e-15 71 0.0 0.0 nan]\n"
     ]
    }
   ],
   "source": [
    "print(maov.mv_test().results['MetabCondition']['stat'].values[0])"
   ]
  },
  {
   "cell_type": "code",
   "execution_count": null,
   "metadata": {},
   "outputs": [],
   "source": []
  }
 ],
 "metadata": {
  "kernelspec": {
   "display_name": "Python 3",
   "language": "python",
   "name": "python3"
  },
  "language_info": {
   "codemirror_mode": {
    "name": "ipython",
    "version": 3
   },
   "file_extension": ".py",
   "mimetype": "text/x-python",
   "name": "python",
   "nbconvert_exporter": "python",
   "pygments_lexer": "ipython3",
   "version": "3.7.3"
  }
 },
 "nbformat": 4,
 "nbformat_minor": 2
}

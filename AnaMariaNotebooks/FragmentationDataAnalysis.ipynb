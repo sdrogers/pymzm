{
 "cells": [
  {
   "cell_type": "code",
   "execution_count": null,
   "metadata": {},
   "outputs": [],
   "source": []
  },
  {
   "cell_type": "code",
   "execution_count": null,
   "metadata": {},
   "outputs": [],
   "source": []
  },
  {
   "cell_type": "code",
   "execution_count": null,
   "metadata": {},
   "outputs": [],
   "source": []
  },
  {
   "cell_type": "code",
   "execution_count": null,
   "metadata": {},
   "outputs": [],
   "source": []
  },
  {
   "cell_type": "code",
   "execution_count": null,
   "metadata": {},
   "outputs": [],
   "source": []
  },
  {
   "cell_type": "code",
   "execution_count": null,
   "metadata": {},
   "outputs": [],
   "source": [
    "#plot number of peaks in ms2 spectra\n",
    "def plot_number_peaks_in_spectrum(mgf):\n",
    "    np=[]\n",
    "    for spectrum_id in mgf:\n",
    "        spectrum = mgf[spectrum_id]\n",
    "        \n",
    "        np.append(spectrum.n_peaks)\n",
    "    sns.distplot(np)    \n",
    "\n",
    "    \n",
    "plot_number_peaks_in_spectrum(mgf_vl)\n",
    "plot_number_peaks_in_spectrum(mgf_zik)\n",
    "plot_number_peaks_in_spectrum(mgf_mal)\n",
    "\n",
    "from alignment import JoinAligner\n",
    "#initialise JoinAligner objects\n",
    "aligner = JoinAligner(mz_tolerance_absolute = 0.01,mz_tolerance_ppm = 10,rt_tolerance = 0.5)\n",
    "aligner_gp = JoinAligner(mz_tolerance_absolute = 0.01,mz_tolerance_ppm = 10,rt_tolerance = 0.5)\n",
    "#aligner_03 = JoinAligner(mz_tolerance_absolute = 0.01,mz_tolerance_ppm = 10,rt_tolerance = 0.3)\n",
    "\n",
    "#add the previously aligned peaksets\n",
    "aligner.add_file('/Users/anamaria/Desktop/mzmine/221119/samples_alignment_without_preprocessing/pp_aligned.csv', None)\n",
    "#add the fragmentation file from the Malaria dataset\n",
    "aligner.add_file(mal_csv, mgf_mal)\n",
    "#add the fragmentation file from the VL dataset\n",
    "aligner.add_file(vl_csv, mgf_vl)\n",
    "#add the fragmentation file from the Zika dataset\n",
    "aligner.add_file(zik_csv, mgf_zik)\n",
    "\n",
    "\n",
    "#add the previously aligned peaksets\n",
    "aligner_gp.add_file('/Users/anamaria/Desktop/mzmine/221119/samples_alignment/pp_aligned.csv', None)\n",
    "#add the fragmentation file from the Malaria dataset\n",
    "aligner_gp.add_file(mal_changed_rt_csv, mgf_mal)\n",
    "#add the fragmentation file from the VL dataset\n",
    "aligner_gp.add_file(vl_changed_rt_csv, mgf_vl)\n",
    "#add the fragmentation file from the Zika dataset\n",
    "aligner_gp.add_file(zik_csv, mgf_zik)\n",
    "\n",
    "\n",
    "#add the previously aligned peaksets\n",
    "aligner_gp.add_file('/Users/anamaria/Desktop/mzmine/221119/samples_alignment/pp_aligned.csv', None)\n",
    "#add the fragmentation file from the Malaria dataset\n",
    "aligner_gp.add_file(mal_changed_rt_csv, mgf_mal)\n",
    "#add the fragmentation file from the VL dataset\n",
    "aligner_gp.add_file(vl_changed_rt_csv, mgf_vl)\n",
    "#add the fragmentation file from the Zika dataset\n",
    "aligner_gp.add_file(zik_csv, mgf_zik)\n"
   ]
  },
  {
   "cell_type": "code",
   "execution_count": null,
   "metadata": {},
   "outputs": [],
   "source": []
  },
  {
   "cell_type": "code",
   "execution_count": null,
   "metadata": {},
   "outputs": [],
   "source": [
    "z=0\n",
    "for peakid in list(data['custom_id']):\n",
    "    \n",
    "    \n",
    "    new_peakid = peakid - 1\n",
    "    \n",
    "    #print('Potential annotation:', data.loc[peakid][5])\n",
    "    no_peaks = len(aligner.peaksets[new_peakid].peaks)\n",
    "    if no_peaks > 3:\n",
    "        z+=1\n",
    "        print('=========================',z,aligner.peaksets[new_peakid].peaks[0].rt,'=========================')\n",
    "        print(\"Number of spectra associated to the peak:\",no_peaks-1)\n",
    "        print()\n",
    "        for i in range(no_peaks-1):\n",
    "            aligner.peaksets[new_peakid].peaks[i+1].ms2_spectrum.normalise_max_intensity()\n",
    "            aligner.peaksets[new_peakid].peaks[i+1].ms2_spectrum.plot()\n",
    "       \n",
    "            plt.show()\n",
    "        \n",
    "print(z)    "
   ]
  },
  {
   "cell_type": "code",
   "execution_count": null,
   "metadata": {},
   "outputs": [],
   "source": []
  },
  {
   "cell_type": "code",
   "execution_count": null,
   "metadata": {},
   "outputs": [],
   "source": [
    "from scoring_functions import fast_cosine\n",
    "z=0\n",
    "rts = []\n",
    "scores = []\n",
    "minmatch = 1\n",
    "for peakid in list(with_mod['custom_id']):\n",
    "    \n",
    "    new_peakid = peakid - 1\n",
    "    rt = aligner.peaksets[new_peakid].peaks[0].rt\n",
    "    mz = aligner.peaksets[new_peakid].peaks[0]\n",
    "    new_peakid = peakid - 1\n",
    "   \n",
    "    no_peaks = len(aligner.peaksets[new_peakid].peaks)\n",
    "    if (rt > 0):\n",
    "        \n",
    "        if no_peaks > 2:\n",
    "            #continued = False\n",
    "            #for i in range(no_peaks-1):\n",
    "            #    if 'vl' in aligner.peaksets[new_peakid].peaks[i+1].ms2_spectrum.file_name:\n",
    "            #        continued = True\n",
    "            #if continued:\n",
    "                z+=1\n",
    "                print(z,'=========================',peakid,'=========================')\n",
    "                print('RT:', rt)\n",
    "\n",
    "                print(\"Number of spectra associated to the peak:\",no_peaks-1)\n",
    "                for i in range(no_peaks-2):\n",
    "                        final_score = 0.0\n",
    "                    #if ('vl' in aligner.peaksets[new_peakid].peaks[i+1].ms2_spectrum.file_name) or ('vl' in aligner.peaksets[new_peakid].peaks[i+2].ms2_spectrum.file_name):\n",
    "                        score, used_matches = fast_cosine(aligner.peaksets[new_peakid].peaks[i+1].ms2_spectrum, aligner.peaksets[new_peakid].peaks[i+2].ms2_spectrum, 0.01, minmatch)\n",
    "                        print(score)\n",
    "                        if(score>final_score):\n",
    "                            final_score = score\n",
    "            \n",
    "                        if i>0:\n",
    "                        #if ('vl' in aligner.peaksets[new_peakid].peaks[i].ms2_spectrum.file_name) or ('vl' in aligner.peaksets[new_peakid].peaks[i+2].ms2_spectrum.file_name):\n",
    "                            score, used_matches = fast_cosine(aligner.peaksets[new_peakid].peaks[i].ms2_spectrum, aligner.peaksets[new_peakid].peaks[i+2].ms2_spectrum, 0.01, minmatch)\n",
    "                            print(score)\n",
    "                            if(score>final_score):\n",
    "                                final_score = score\n",
    "                scores.append(final_score)\n",
    "                rts.append(rt)        \n",
    "\n",
    "                for f in range(no_peaks-1):\n",
    "                    aligner.peaksets[new_peakid].peaks[f+1].ms2_spectrum.normalise_max_intensity()\n",
    "                    aligner.peaksets[new_peakid].peaks[f+1].ms2_spectrum.plot()\n",
    "\n",
    "                    plt.show()"
   ]
  },
  {
   "cell_type": "code",
   "execution_count": null,
   "metadata": {},
   "outputs": [],
   "source": [
    "z=0\n",
    "rts = []\n",
    "scores = []\n",
    "minmatch = 1\n",
    "for peakid in list(with_mod['custom_id']):\n",
    "    \n",
    "    new_peakid = peakid - 1\n",
    "    rt = aligner.peaksets[new_peakid].peaks[0].rt\n",
    "    mz = aligner.peaksets[new_peakid].peaks[0]\n",
    "    new_peakid = peakid - 1\n",
    "   \n",
    "    no_peaks = len(aligner.peaksets[new_peakid].peaks)\n",
    "    if (rt > 0):\n",
    "        \n",
    "        if no_peaks > 2:\n",
    "            #continued = False\n",
    "            #for i in range(no_peaks-1):\n",
    "            #    if 'vl' in aligner.peaksets[new_peakid].peaks[i+1].ms2_spectrum.file_name:\n",
    "            #        continued = True\n",
    "            #if continued:\n",
    "                z+=1\n",
    "                print(z,'=========================',peakid,'=========================')\n",
    "                print('RT:', rt)\n",
    "\n",
    "                print(\"Number of spectra associated to the peak:\",no_peaks-1)\n",
    "                for i in range(no_peaks-2):\n",
    "                        final_score = 0.0\n",
    "                    #if ('vl' in aligner.peaksets[new_peakid].peaks[i+1].ms2_spectrum.file_name) or ('vl' in aligner.peaksets[new_peakid].peaks[i+2].ms2_spectrum.file_name):\n",
    "                        score, used_matches = fast_cosine(aligner.peaksets[new_peakid].peaks[i+1].ms2_spectrum, aligner.peaksets[new_peakid].peaks[i+2].ms2_spectrum, 0.2, minmatch)\n",
    "                        print(score)\n",
    "                        scores.append(score)\n",
    "                        rts.append(rt) \n",
    "            \n",
    "                        if i>0:\n",
    "                        #if ('vl' in aligner.peaksets[new_peakid].peaks[i].ms2_spectrum.file_name) or ('vl' in aligner.peaksets[new_peakid].peaks[i+2].ms2_spectrum.file_name):\n",
    "                            score, used_matches = fast_cosine(aligner.peaksets[new_peakid].peaks[i].ms2_spectrum, aligner.peaksets[new_peakid].peaks[i+2].ms2_spectrum, 0.2, minmatch)\n",
    "                            print(score)\n",
    "                            scores.append(score)\n",
    "                            rts.append(rt)  \n",
    "                                \n",
    "        \n",
    "\n",
    "                #for f in range(no_peaks-1):\n",
    "                 #   aligner.peaksets[new_peakid].peaks[f+1].ms2_spectrum.normalise_max_intensity()\n",
    "                 #   aligner.peaksets[new_peakid].peaks[f+1].ms2_spectrum.plot()\n",
    "\n",
    "                 #   plt.show()"
   ]
  },
  {
   "cell_type": "code",
   "execution_count": null,
   "metadata": {},
   "outputs": [],
   "source": []
  },
  {
   "cell_type": "code",
   "execution_count": null,
   "metadata": {},
   "outputs": [],
   "source": [
    "def count_dots_above(lst, threshold):\n",
    "    z=0\n",
    "    for i in np.array(lst):\n",
    "        if i >= threshold:\n",
    "            z+=1\n",
    "    return z"
   ]
  },
  {
   "cell_type": "code",
   "execution_count": null,
   "metadata": {},
   "outputs": [],
   "source": [
    "def count_dots_below(lst, threshold):\n",
    "    z=0\n",
    "    for i in np.array(lst):\n",
    "        if i < threshold:\n",
    "            z+=1\n",
    "    return z"
   ]
  },
  {
   "cell_type": "code",
   "execution_count": null,
   "metadata": {},
   "outputs": [],
   "source": [
    "def obtain_scores_for_all_peaks(aligner, tolerance = 0.2, minmatch = 1):\n",
    "    from scoring_functions import fast_cosine\n",
    "    z=0\n",
    "    rts = []\n",
    "    scores = []\n",
    "    mzs = []\n",
    "    tolerance = tolerance\n",
    "    minmatch = minmatch\n",
    "    for peaksets in aligner.peaksets:\n",
    "\n",
    "        rt = peaksets.peaks[0].rt\n",
    "        mz = peaksets.peaks[0].mz\n",
    "        \n",
    "        no_peaks = len(peaksets.peaks)\n",
    "        if (rt > 0):\n",
    "            if no_peaks >= 3:\n",
    "                z+=1\n",
    "                print(z,'==================================================')\n",
    "                print('RT:', rt)\n",
    "\n",
    "                print(\"Number of spectra associated to the peak:\",no_peaks-1)\n",
    "                for i in range(no_peaks-2):\n",
    "                    score, used_matches = fast_cosine(peaksets.peaks[i+1].ms2_spectrum, peaksets.peaks[i+2].ms2_spectrum, tolerance, minmatch)\n",
    "                    print(score)\n",
    "                    rts.append(rt)\n",
    "                    scores.append(score)\n",
    "                    mzs.append(mz)\n",
    "                    if i>0:\n",
    "                        score, used_matches = fast_cosine(peaksets.peaks[i].ms2_spectrum, peaksets.peaks[i+2].ms2_spectrum, tolerance, minmatch)\n",
    "                        print(score)\n",
    "                        rts.append(rt)\n",
    "                        scores.append(score)\n",
    "                        mzs.append(mz)\n",
    "                    #if score >=0.6:    \n",
    "                    #    for f in range(no_peaks-1):\n",
    "                    #            print(peaksets.peaks[f+1].ms2_spectrum)\n",
    "                    #            peaksets.peaks[f+1].ms2_spectrum.normalise_max_intensity()\n",
    "                    #            peaksets.peaks[f+1].ms2_spectrum.plot()\n",
    "                    #            plt.show()\n",
    "    return z,rts, mzs,  scores"
   ]
  },
  {
   "cell_type": "code",
   "execution_count": null,
   "metadata": {},
   "outputs": [],
   "source": []
  },
  {
   "cell_type": "code",
   "execution_count": null,
   "metadata": {},
   "outputs": [],
   "source": [
    "z, rts, mzs,  scores = obtain_scores_for_all_peaks(aligner, minmatch = 2)\n",
    "z_gp, rts_gp, mzs_gp, scores_gp = obtain_scores_for_all_peaks(aligner_gp, minmatch= 2)"
   ]
  },
  {
   "cell_type": "code",
   "execution_count": null,
   "metadata": {},
   "outputs": [],
   "source": [
    "z_03, rts_03, scores_03 = obtain_scores_for_all_peaks(aligner_03, minmatch=3)\n"
   ]
  },
  {
   "cell_type": "code",
   "execution_count": null,
   "metadata": {},
   "outputs": [],
   "source": [
    "plt.plot(rts_gp, scores_gp, '.', alpha = 0.5)\n",
    "plt.plot(rts, scores, '.', alpha = 0.5)\n",
    "#plt.plot(rts_03, scores_03, '.', alpha = 0.9)"
   ]
  },
  {
   "cell_type": "code",
   "execution_count": null,
   "metadata": {},
   "outputs": [],
   "source": [
    "plt.plot(mzs_gp, scores_gp, '.', alpha = 0.5)\n",
    "plt.plot(mzs, scores, '.', alpha = 0.5)"
   ]
  },
  {
   "cell_type": "code",
   "execution_count": null,
   "metadata": {},
   "outputs": [],
   "source": [
    "plt.hist(rts_gp, alpha = 0.5)\n",
    "plt.hist(rts, alpha = 0.5)\n",
    "#plt.hist(rts_03, alpha = 0.7)\n",
    "plt.xlabel('Retention times (min)')"
   ]
  },
  {
   "cell_type": "code",
   "execution_count": null,
   "metadata": {},
   "outputs": [],
   "source": [
    "plt.hist(scores_gp, alpha = 0.5)\n",
    "plt.hist(scores, alpha = 0.5)\n",
    "#plt.hist(scores_03, alpha = 0.7)\n",
    "plt.xlabel('Scores')"
   ]
  },
  {
   "cell_type": "code",
   "execution_count": null,
   "metadata": {},
   "outputs": [],
   "source": [
    "plt.plot(rts_gp, scores_gp, '.')\n",
    "plt.plot(rts, scores, '.', alpha=0.5)\n",
    "\n",
    "#plt.xlim(7.2, 13 )\n",
    "plt.plot(list(range(27)), [0.4]*27, 'red')\n",
    "plt.xlim(2, 26 )\n",
    "plt.xlabel('Retention time(min)')\n",
    "plt.ylabel('Matching score')"
   ]
  },
  {
   "cell_type": "code",
   "execution_count": null,
   "metadata": {},
   "outputs": [],
   "source": [
    "z_vl, rts_vl, scores_vl = obtain_scores_for_peaks_containing_spectra_from('vl', aligner)\n",
    "z_vl_gp, rts_vl_gp, scores_vl_gp = obtain_scores_for_peaks_containing_spectra_from('vl', aligner_gp)\n"
   ]
  },
  {
   "cell_type": "code",
   "execution_count": null,
   "metadata": {},
   "outputs": [],
   "source": [
    "plt.hist(rts_vl_gp, alpha = 0.5)\n",
    "plt.hist(rts_vl, alpha = 0.5)\n",
    "plt.xlabel('Retention time (min)')"
   ]
  },
  {
   "cell_type": "code",
   "execution_count": null,
   "metadata": {},
   "outputs": [],
   "source": [
    "plt.hist(scores_vl_gp, alpha = 0.5)\n",
    "plt.hist(scores_vl, alpha = 0.5)\n",
    "plt.xlabel('Scores')"
   ]
  },
  {
   "cell_type": "code",
   "execution_count": null,
   "metadata": {},
   "outputs": [],
   "source": [
    "plt.plot(rts_vl_gp, scores_vl_gp, '.', alpha = 0.5)\n",
    "plt.plot(rts_vl, scores_vl, '.', alpha = 0.5)\n",
    "#plt.xlim(7.2, 13 )\n",
    "plt.plot(list(range(27)), [0.7]*27, 'red')\n",
    "plt.xlim(2, 26 )\n",
    "plt.xlabel('Retention time(min)')\n",
    "plt.ylabel('Matching score')"
   ]
  },
  {
   "cell_type": "code",
   "execution_count": null,
   "metadata": {},
   "outputs": [],
   "source": [
    "plt.hist(scores_gp, alpha = 0.9)\n",
    "plt.hist(scores, alpha = 0.5)\n"
   ]
  },
  {
   "cell_type": "code",
   "execution_count": null,
   "metadata": {},
   "outputs": [],
   "source": [
    "def obtain_scores_for_peaks_containing_spectra_from(string, aligner, tolerance = 0.2, minmatch = 1):\n",
    "    from scoring_functions import fast_cosine\n",
    "    z=0\n",
    "    rts = []\n",
    "    scores = []\n",
    "    tolerance = tolerance\n",
    "    minmatch = minmatch\n",
    "    for peaksets in aligner.peaksets:\n",
    "\n",
    "\n",
    "        rt = peaksets.peaks[0].rt\n",
    "        mz = peaksets.peaks[0]\n",
    "        new_peakid = peakid - 1\n",
    "\n",
    "        no_peaks = len(peaksets.peaks)\n",
    "        if (rt > 0):\n",
    "            if no_peaks > 2:\n",
    "                continued = False\n",
    "                for i in range(no_peaks-1):\n",
    "                    if string in peaksets.peaks[i+1].ms2_spectrum.file_name:\n",
    "                        continued = True\n",
    "                if continued:\n",
    "                    z+=1\n",
    "                    print(z,'=========================',peakid,'=========================')\n",
    "                    \n",
    "                    print('RT:', rt)\n",
    "\n",
    "                    print(\"Number of spectra associated to the peak:\",no_peaks-1)\n",
    "                    for i in range(no_peaks-2):\n",
    "                        if (string in peaksets.peaks[i+1].ms2_spectrum.file_name) or (string in peaksets.peaks[i+2].ms2_spectrum.file_name):\n",
    "                            score, used_matches = fast_cosine(peaksets.peaks[i+1].ms2_spectrum, peaksets.peaks[i+2].ms2_spectrum, tolerance, minmatch)\n",
    "                            print(score)\n",
    "                            rts.append(rt)\n",
    "                            scores.append(score)\n",
    "                            if i>0:\n",
    "                                if (string in peaksets.peaks[i].ms2_spectrum.file_name) or (string in peaksets.peaks[i+2].ms2_spectrum.file_name):\n",
    "                                    score, used_matches = fast_cosine(peaksets.peaks[i].ms2_spectrum, peaksets.peaks[i+2].ms2_spectrum, tolerance, minmatch)\n",
    "                                    print(score)\n",
    "                                    rts.append(rt)\n",
    "                                    scores.append(score)\n",
    "    return z, rts, scores"
   ]
  },
  {
   "cell_type": "code",
   "execution_count": null,
   "metadata": {},
   "outputs": [],
   "source": []
  },
  {
   "cell_type": "code",
   "execution_count": null,
   "metadata": {},
   "outputs": [],
   "source": [
    "z=0\n",
    "for i in aligner.peaksets:\n",
    "    if(len(i.peaks)) == 2:\n",
    "        z+=1\n",
    "        print('=========================',z,i.peaks[0].rt,'=========================')\n",
    "        i.peaks[1].ms2_spectrum.normalise_max_intensity()\n",
    "        \n",
    "        \n",
    "        i.peaks[1].ms2_spectrum.plot()\n",
    "       \n",
    "        plt.show()\n",
    "        "
   ]
  },
  {
   "cell_type": "code",
   "execution_count": null,
   "metadata": {},
   "outputs": [],
   "source": [
    "z=0\n",
    "for i in aligner.peaksets:\n",
    "    if(len(i.peaks)) == 3:\n",
    "        z+=1\n",
    "        print('=========================',z,i.peaks[0].rt,'=========================')\n",
    "        i.peaks[1].ms2_spectrum.normalise_max_intensity()\n",
    "        i.peaks[2].ms2_spectrum.normalise_max_intensity()\n",
    "        \n",
    "        i.peaks[1].ms2_spectrum.plot()\n",
    "        i.peaks[2].ms2_spectrum.plot()\n",
    "        plt.show()\n",
    "        "
   ]
  },
  {
   "cell_type": "code",
   "execution_count": null,
   "metadata": {},
   "outputs": [],
   "source": [
    "z=0\n",
    "for i in aligner.peaksets:\n",
    "    if(len(i.peaks)) == 4:\n",
    "        z+=1\n",
    "        print('=========================',z,i.peaks[0].rt,'=========================')\n",
    "        i.peaks[1].ms2_spectrum.normalise_max_intensity()\n",
    "        i.peaks[2].ms2_spectrum.normalise_max_intensity()\n",
    "        i.peaks[3].ms2_spectrum.normalise_max_intensity()\n",
    "        \n",
    "        i.peaks[1].ms2_spectrum.plot()\n",
    "        i.peaks[2].ms2_spectrum.plot()\n",
    "        i.peaks[3].ms2_spectrum.plot()\n",
    "        plt.show()\n",
    "        "
   ]
  },
  {
   "cell_type": "code",
   "execution_count": null,
   "metadata": {},
   "outputs": [],
   "source": [
    "def get_number_of_peaks(aligner, spectra_count):\n",
    "    z=0\n",
    "    for i in aligner.peaksets:\n",
    "        if(len(i.peaks)) == spectra_count:\n",
    "            z+=1\n",
    "    return z"
   ]
  },
  {
   "cell_type": "code",
   "execution_count": null,
   "metadata": {},
   "outputs": [],
   "source": [
    "print(get_number_of_peaks(aligner, 1))\n",
    "print(get_number_of_peaks(aligner, 2))\n",
    "print(get_number_of_peaks(aligner, 3))\n",
    "print(get_number_of_peaks(aligner, 4))"
   ]
  },
  {
   "cell_type": "code",
   "execution_count": null,
   "metadata": {},
   "outputs": [],
   "source": [
    "print(get_number_of_peaks(aligner_gp, 1))\n",
    "print(get_number_of_peaks(aligner_gp, 2))\n",
    "print(get_number_of_peaks(aligner_gp, 3))\n",
    "print(get_number_of_peaks(aligner_gp, 4))"
   ]
  },
  {
   "cell_type": "code",
   "execution_count": null,
   "metadata": {},
   "outputs": [],
   "source": [
    "z=0\n",
    "for i in aligner.peaksets:\n",
    "    if(len(i.peaks)) > 1:\n",
    "        z+=1\n",
    "print(z)"
   ]
  },
  {
   "cell_type": "code",
   "execution_count": null,
   "metadata": {},
   "outputs": [],
   "source": [
    "z_filt_gp, rts_filt_gp, scores_filt_gp = get_spectra_info_from_filtered_peaks(aligner_gp, sigid, 0.2, 2)"
   ]
  },
  {
   "cell_type": "code",
   "execution_count": null,
   "metadata": {},
   "outputs": [],
   "source": [
    "z_filt, rts_filt, scores_filt = get_spectra_info_from_filtered_peaks(aligner, sigidno, 0.2, 2)"
   ]
  },
  {
   "cell_type": "code",
   "execution_count": null,
   "metadata": {},
   "outputs": [],
   "source": [
    "plt.plot(rts_filt_gp, scores_filt_gp, '.', alpha = 0.5)\n",
    "plt.plot(rts_filt, scores_filt, '.', alpha = 0.5)\n",
    "#plt.xlim(7.2, 13 )\n",
    "plt.plot(list(range(27)), [0.7]*27, 'red')\n",
    "plt.xlim(2, 26 )\n",
    "plt.xlabel('Retention time(min)')\n",
    "plt.ylabel('Matching score')"
   ]
  },
  {
   "cell_type": "code",
   "execution_count": null,
   "metadata": {},
   "outputs": [],
   "source": [
    "plt.plot(rts_filt_gp, scores_filt_gp, '.', alpha = 0.5)\n",
    "plt.plot(rts_filt, scores_filt, '.', alpha = 0.5)\n",
    "#plt.xlim(7.2, 13 )\n",
    "plt.plot(list(range(27)), [0.7]*27, 'red')\n",
    "plt.xlim(2, 26 )\n",
    "plt.xlabel('Retention time(min)')\n",
    "plt.ylabel('Matching score')"
   ]
  },
  {
   "cell_type": "code",
   "execution_count": null,
   "metadata": {},
   "outputs": [],
   "source": [
    "plt.hist(rts_filt_gp, alpha = 0.5)\n",
    "plt.hist(rts_filt, alpha = 0.5)\n",
    "plt.xlabel('Retention time (min)')"
   ]
  },
  {
   "cell_type": "code",
   "execution_count": null,
   "metadata": {},
   "outputs": [],
   "source": [
    "plt.hist(scores_filt_gp, alpha = 0.5)\n",
    "plt.hist(scores_filt, alpha = 0.5)\n",
    "plt.xlabel('Scores')"
   ]
  },
  {
   "cell_type": "code",
   "execution_count": null,
   "metadata": {},
   "outputs": [],
   "source": [
    "def create_dataframe_score(scores):\n",
    "    dots_above = []\n",
    "    dots_below = []\n",
    "    score_threshold = np.arange(0.1,1,0.1)\n",
    "    for i in score_threshold:\n",
    "        dots_above.append(count_dots_above(scores, i))\n",
    "        dots_below.append(count_dots_below(scores, i))\n",
    "    df = pd.DataFrame([dots_above, dots_below], ['Dots above score threshold', 'Dots below score threshold']).transpose()\n",
    "    df.index = score_threshold\n",
    "    return df\n"
   ]
  },
  {
   "cell_type": "code",
   "execution_count": null,
   "metadata": {},
   "outputs": [],
   "source": [
    "create_dataframe_score(scores_filt_gp)"
   ]
  },
  {
   "cell_type": "code",
   "execution_count": null,
   "metadata": {},
   "outputs": [],
   "source": [
    "def get_spectra_number_from_filtered_peaks(aligner, dataid, num):\n",
    "    \n",
    "    z=0\n",
    "    \n",
    "    for peakid in list(dataid):\n",
    "\n",
    "        new_peakid = peakid - 1\n",
    "        \n",
    "        no_peaks = len(aligner.peaksets[new_peakid].peaks)\n",
    "        \n",
    "        if no_peaks == num:\n",
    "            \n",
    "            z+=1\n",
    "    return z"
   ]
  },
  {
   "cell_type": "code",
   "execution_count": null,
   "metadata": {},
   "outputs": [],
   "source": [
    " for spectrum_id1 in mgf_file1:\n",
    "        spectrum_file1 = mgf_file1[spectrum_id1]\n",
    "        mz_file1 = spectrum_file1.precursor_mz\n",
    "        rt_file1 = spectrum_file1.rt\n",
    "        \n",
    "        if rt_file1 >= 120:\n",
    "        \n",
    "            for spectrum_id2 in mgf_file2:\n",
    "                spectrum_file2 = mgf_file2[spectrum_id2]\n",
    "                mz_file2 = spectrum_file2.precursor_mz\n",
    "                rt_file2 = spectrum_file2.rt\n",
    "                \n",
    "                if rt_file2 >= 120:\n",
    "\n",
    "                    if mz_file2 >= (mz_file1 - 0.01) and mz_file2 <= (mz_file1 + 0.01):\n",
    "\n",
    "                        if rt_file2 >= (rt_file1 + 300) or rt_file2 <= (rt_file1 - 300):\n",
    "\n",
    "                            score, used_matches = fast_cosine(spectrum_file1, spectrum_file2, tolerance, minmatch)\n",
    "\n",
    "                            if score > 0.6:\n",
    "                                print('score', score)\n",
    "                                print(rt_file1)\n",
    "                                spectrum_file1.plot()\n",
    "                                print(rt_file2)\n",
    "                                spectrum_file2.plot()\n",
    "                                plt.show()\n",
    "                                print(\"====\")"
   ]
  },
  {
   "cell_type": "code",
   "execution_count": null,
   "metadata": {},
   "outputs": [],
   "source": [
    "def get_spectra_info_from_filtered_peaks(aligner, dataid, tolerance = 0.2, minmatch = 1, plot=True):\n",
    "    from scoring_functions import fast_cosine\n",
    "    z=0\n",
    "    rts = []\n",
    "    scores = []\n",
    "    tolerance = tolerance\n",
    "    minmatch = minmatch\n",
    "    for peakid in list(dataid):\n",
    "\n",
    "        new_peakid = peakid - 1\n",
    "        rt = aligner.peaksets[new_peakid].peaks[0].rt\n",
    "        mz = aligner.peaksets[new_peakid].peaks[0]\n",
    "       \n",
    "\n",
    "        no_peaks = len(aligner.peaksets[new_peakid].peaks)\n",
    "        if (rt > 0):\n",
    "\n",
    "            if no_peaks > 2:\n",
    "                #continued = False\n",
    "                #for i in range(no_peaks-1):\n",
    "                #    if 'vl' in aligner.peaksets[new_peakid].peaks[i+1].ms2_spectrum.file_name:\n",
    "                #        continued = True\n",
    "                #if continued:\n",
    "                    z+=1\n",
    "                    print(z,'=========================',peakid,'=========================')\n",
    "                    print('RT:', rt)\n",
    "\n",
    "                    print(\"Number of spectra associated to the peak:\",no_peaks-1)\n",
    "                    for i in range(no_peaks-2):\n",
    "                            final_score = 0.0\n",
    "                       \n",
    "                            score, used_matches = fast_cosine(aligner.peaksets[new_peakid].peaks[i+1].ms2_spectrum, aligner.peaksets[new_peakid].peaks[i+2].ms2_spectrum, tolerance, minmatch)\n",
    "                            print(score)\n",
    "                            scores.append(score)\n",
    "                            rts.append(rt)   \n",
    "                            \n",
    "\n",
    "                            if i>0:\n",
    "                           \n",
    "                                score, used_matches = fast_cosine(aligner.peaksets[new_peakid].peaks[i].ms2_spectrum, aligner.peaksets[new_peakid].peaks[i+2].ms2_spectrum, tolerance, minmatch)\n",
    "                                print(score)\n",
    "                                scores.append(score)\n",
    "                                rts.append(rt)        \n",
    "\n",
    "                                \n",
    "                    if plot:\n",
    "                        for f in range(no_peaks-1):\n",
    "                            aligner.peaksets[new_peakid].peaks[f+1].ms2_spectrum.normalise_max_intensity()\n",
    "                            aligner.peaksets[new_peakid].peaks[f+1].ms2_spectrum.plot()\n",
    "\n",
    "                            plt.show()\n",
    "    return z, rts, scores"
   ]
  },
  {
   "cell_type": "code",
   "execution_count": null,
   "metadata": {},
   "outputs": [],
   "source": [
    "from scoring_functions import fast_cosine\n",
    "tolerance = 0.2\n",
    "minmatch = 2\n",
    "for peakset in peaksets_filt_gp_spec:\n",
    "    actual_scores = []\n",
    "    mzd =[]\n",
    "    np = peakset.n_peaks\n",
    "    actual_mz = peakset.mean_mz\n",
    "    actual_rt = peakset.mean_rt\n",
    "    for i in range(np-2):\n",
    "        score, used_matches = fast_cosine(peakset.peaks[i+1].ms2_spectrum, peakset.peaks[i+2].ms2_spectrum, tolerance, minmatch)\n",
    "        actual_scores.append(score)\n",
    "        mzd.append(actual_mz)\n",
    "    \n",
    "    bad_scores = []\n",
    "    mzc = []\n",
    "    for specid in mgf_vl:\n",
    "        spec = mgf_vl[specid]\n",
    "        mz = spec.precursor_mz\n",
    "        rt = spec.rt\n",
    "        \n",
    "        if mz >= (actual_mz - 0.01) and mz <= (actual_mz + 0.01):\n",
    "            if rt >= (actual_rt + 10) or rt <= (actual_rt - 10):\n",
    "                \n",
    "                score, used_matches = fast_cosine(spec, peakset.peaks[np-1].ms2_spectrum, tolerance, minmatch)\n",
    "                bad_scores.append(score)\n",
    "                mzc.append(mz)\n",
    "    \n",
    "    plt.plot(mzd,actual_scores,'r.')\n",
    "    plt.plot(mzc,bad_scores,'g.')\n",
    "    #plt.show()\n",
    "    "
   ]
  },
  {
   "cell_type": "code",
   "execution_count": null,
   "metadata": {},
   "outputs": [],
   "source": [
    "from scoring_functions import fast_cosine\n",
    "tolerance = 0.2\n",
    "minmatch = 2\n",
    "for peakset in peaksets_filt_gp_spec:\n",
    "    actual_scores = []\n",
    "    mzd =[]\n",
    "    np = peakset.n_peaks\n",
    "    actual_mz = peakset.mean_mz\n",
    "    actual_rt = peakset.mean_rt\n",
    "    for i in range(np-2):\n",
    "        score, used_matches = fast_cosine(peakset.peaks[i+1].ms2_spectrum, peakset.peaks[i+2].ms2_spectrum, tolerance, minmatch)\n",
    "        actual_scores.append(score)\n",
    "        mzd.append(actual_mz)\n",
    "    \n",
    "    bad_scores = []\n",
    "    mzc = []\n",
    "    for peaksetf in peaksets_ds_gp:\n",
    "        mz = peaksetf.mean_mz\n",
    "        rt = peaksetf.mean_rt\n",
    "        \n",
    "        if mz >= (actual_mz - 0.01) and mz <= (actual_mz + 0.01):\n",
    "            if rt >= (actual_rt + 10) or rt <= (actual_rt - 10):\n",
    "                \n",
    "                for i in range(peaksetf.n_peaks-2):\n",
    "                 #correct this #  score, used_matches = fast_cosine(peaksetf.peaks[i+1].ms2_spectrum, peaksetf.peaks[i+2].ms2_spectrum, tolerance, minmatch)\n",
    "                    bad_scores.append(score)\n",
    "                    mzc.append(mz)\n",
    "    \n",
    "    plt.plot(mzd,actual_scores,'r.')\n",
    "    plt.plot(mzc,bad_scores,'g.')\n",
    "    #plt.show()\n",
    "    \n",
    "   \n",
    "        \n",
    "        "
   ]
  },
  {
   "cell_type": "code",
   "execution_count": null,
   "metadata": {},
   "outputs": [],
   "source": [
    "def extract_peaksets_with_spectra_from_dataset(aligner):\n",
    "    peaksets = []\n",
    "        if peakset.n_peaks > 1:\n",
    "            peaksets.append(peakset)\n",
    "    return peaksets\n",
    "        "
   ]
  },
  {
   "cell_type": "code",
   "execution_count": null,
   "metadata": {},
   "outputs": [],
   "source": [
    "def extract_peaksets_with_spectra_from_filt_dataset(aligner, dataid):\n",
    "    peaksets = []\n",
    "    for peakid in list(dataid):\n",
    "        new_peakid = peakid - 1\n",
    "        peaksets.append(aligner.peaksets[new_peakid])\n",
    "    return peaksets\n",
    "        "
   ]
  },
  {
   "cell_type": "code",
   "execution_count": null,
   "metadata": {},
   "outputs": [],
   "source": [
    "peaksets_filt_gp = extract_peaksets_with_spectra_from_filt_dataset(aligner_gp, with_mod['custom_id'])\n",
    "peaksets_filt = extract_peaksets_with_spectra_from_filt_dataset(aligner, without_mod['custom_id'])"
   ]
  },
  {
   "cell_type": "code",
   "execution_count": null,
   "metadata": {},
   "outputs": [],
   "source": [
    "def extract_peaksets_with_spectra(peaksets):\n",
    "    epeaksets = []\n",
    "    for peakset in peaksets:\n",
    "        np = peakset.n_peaks\n",
    "        if np>1:\n",
    "            epeaksets.append(peakset)\n",
    "    return epeaksets\n",
    "            "
   ]
  },
  {
   "cell_type": "code",
   "execution_count": null,
   "metadata": {},
   "outputs": [],
   "source": [
    "peaksets_filt_gp_spec = extract_peaksets_with_spectra(peaksets_filt_gp)\n",
    "peaksets_filt_spec = extract_peaksets_with_spectra(peaksets_filt)\n"
   ]
  },
  {
   "cell_type": "code",
   "execution_count": null,
   "metadata": {},
   "outputs": [],
   "source": [
    "peaksets_ds_gp = extract_peaksets_with_spectra_from_dataset(aligner_gp)"
   ]
  },
  {
   "cell_type": "code",
   "execution_count": null,
   "metadata": {},
   "outputs": [],
   "source": [
    " for spectrum_id1 in mgf_file1:\n",
    "        spectrum_file1 = mgf_file1[spectrum_id1]\n",
    "        mz_file1 = spectrum_file1.precursor_mz\n",
    "        rt_file1 = spectrum_file1.rt\n",
    "        \n",
    "        if rt_file1 >= 120:\n",
    "        \n",
    "            for spectrum_id2 in mgf_file2:\n",
    "                spectrum_file2 = mgf_file2[spectrum_id2]\n",
    "                mz_file2 = spectrum_file2.precursor_mz\n",
    "                rt_file2 = spectrum_file2.rt\n",
    "                \n",
    "                if rt_file2 >= 120:\n",
    "\n",
    "                    if mz_file2 >= (mz_file1 - 0.01) and mz_file2 <= (mz_file1 + 0.01):\n",
    "\n",
    "                        if rt_file2 >= (rt_file1 + 300) or rt_file2 <= (rt_file1 - 300):\n",
    "\n",
    "                            score, used_matches = fast_cosine(spectrum_file1, spectrum_file2, tolerance, minmatch)\n",
    "\n",
    "                            if score > 0.6:\n",
    "                                print('score', score)\n",
    "                                print(rt_file1)\n",
    "                                spectrum_file1.plot()\n",
    "                                print(rt_file2)\n",
    "                                spectrum_file2.plot()\n",
    "                                plt.show()\n",
    "                                print(\"====\")"
   ]
  },
  {
   "cell_type": "code",
   "execution_count": null,
   "metadata": {},
   "outputs": [],
   "source": [
    "from scoring_functions import fast_cosine\n",
    "def extract_scores_pairs_for_dataset(peaksets, dataset1, dataset2):\n",
    "    good_scores = {}\n",
    "    for peakset in peaksets:\n",
    "        actual_scores = []\n",
    "        np = peakset.n_peaks\n",
    "        actual_mz = peakset.mean_mz\n",
    "        actual_rt = peakset.mean_rt\n",
    "        for i in range(np-2):\n",
    "            if (dataset1 in peakset.peaks[i+1].ms2_spectrum.file_name) or (dataset1 in peakset.peaks[i+2].ms2_spectrum.file_name):\n",
    "                if (dataset2 in peakset.peaks[i+1].ms2_spectrum.file_name) or (dataset2 in peakset.peaks[i+2].ms2_spectrum.file_name):\n",
    "                    score, used_matches = fast_cosine(peakset.peaks[i+1].ms2_spectrum, peakset.peaks[i+2].ms2_spectrum, 0.2, 2)\n",
    "                    actual_scores.append(score)\n",
    "        if len(actual_scores)>0:\n",
    "            good_scores[(actual_mz, actual_rt)] = actual_scores\n",
    "    return good_scores\n",
    "            \n",
    "    "
   ]
  },
  {
   "cell_type": "code",
   "execution_count": null,
   "metadata": {},
   "outputs": [],
   "source": [
    "peaksets_vl_mal = extract_scores_pairs_for_dataset(peaksets_filt_gp_spec, 'vl', 'mal')\n",
    "peaksets_vl_zik = extract_scores_pairs_for_dataset(peaksets_filt_gp_spec, 'vl', 'zik')\n",
    "peaksets_zik_mal = extract_scores_pairs_for_dataset(peaksets_filt_gp_spec, 'zik', 'mal')"
   ]
  },
  {
   "cell_type": "code",
   "execution_count": null,
   "metadata": {},
   "outputs": [],
   "source": []
  },
  {
   "cell_type": "code",
   "execution_count": null,
   "metadata": {},
   "outputs": [],
   "source": []
  },
  {
   "cell_type": "code",
   "execution_count": null,
   "metadata": {},
   "outputs": [],
   "source": []
  }
 ],
 "metadata": {
  "kernelspec": {
   "display_name": "Python 3",
   "language": "python",
   "name": "python3"
  },
  "language_info": {
   "codemirror_mode": {
    "name": "ipython",
    "version": 3
   },
   "file_extension": ".py",
   "mimetype": "text/x-python",
   "name": "python",
   "nbconvert_exporter": "python",
   "pygments_lexer": "ipython3",
   "version": "3.7.3"
  }
 },
 "nbformat": 4,
 "nbformat_minor": 2
}

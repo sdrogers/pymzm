{
 "cells": [
  {
   "cell_type": "code",
   "execution_count": 1,
   "metadata": {},
   "outputs": [],
   "source": [
    "import os\n",
    "import sys\n",
    "import pickle\n",
    "\n",
    "%load_ext autoreload\n",
    "%autoreload 2"
   ]
  },
  {
   "cell_type": "code",
   "execution_count": 2,
   "metadata": {},
   "outputs": [],
   "source": [
    "WIN = 'D:/'\n",
    "MAC = '/Volumes/Transcend2/'\n",
    "\n",
    "osp = MAC"
   ]
  },
  {
   "cell_type": "code",
   "execution_count": 9,
   "metadata": {},
   "outputs": [],
   "source": [
    "MNET_PATH = osp+'git/molnet/code/'\n",
    "sys.path.append(MNET_PATH)\n",
    "import mnet_utilities"
   ]
  },
  {
   "cell_type": "markdown",
   "metadata": {},
   "source": [
    "## Preprocess the mgf files"
   ]
  },
  {
   "cell_type": "markdown",
   "metadata": {},
   "source": [
    "Load the fragmentation files."
   ]
  },
  {
   "cell_type": "code",
   "execution_count": 10,
   "metadata": {},
   "outputs": [
    {
     "name": "stdout",
     "output_type": "stream",
     "text": [
      "Loaded 100 spectra\n",
      "Loaded 200 spectra\n",
      "Loaded 300 spectra\n",
      "Loaded 100 spectra\n",
      "Loaded 200 spectra\n",
      "Loaded 300 spectra\n",
      "Loaded 100 spectra\n",
      "Loaded 200 spectra\n",
      "Loaded 300 spectra\n"
     ]
    }
   ],
   "source": [
    "from mnet_utilities import load_mgf\n",
    "mgf_vl = mnet_utilities.load_mgf(osp+'pymz/mzmine/210120/mzmine_frag/vl/frag_pos_vl.mgf')\n",
    "mgf_mal = mnet_utilities.load_mgf(osp+'pymz/mzmine/210120/mzmine_frag/mal/frag_pos_mal.mgf')\n",
    "mgf_zik = mnet_utilities.load_mgf(osp+'pymz/mzmine/210120/mzmine_frag/zik/gnps2.mgf')"
   ]
  },
  {
   "cell_type": "markdown",
   "metadata": {},
   "source": [
    "Remove the noise from the fragmentation files."
   ]
  },
  {
   "cell_type": "code",
   "execution_count": 11,
   "metadata": {},
   "outputs": [],
   "source": [
    "from metab_utils import remove_small_peaks\n",
    "remove_small_peaks(mgf_vl, 1)\n",
    "remove_small_peaks(mgf_zik, 1)\n",
    "remove_small_peaks(mgf_mal, 1)"
   ]
  },
  {
   "cell_type": "markdown",
   "metadata": {},
   "source": [
    "Change the retention times in the loaded fragmentation files using the GP models."
   ]
  },
  {
   "cell_type": "code",
   "execution_count": 12,
   "metadata": {},
   "outputs": [],
   "source": [
    "with open(osp+'pymz/mzmine/malmodel.txt', 'rb') as file:\n",
    "    mmal = pickle.load(file)\n",
    "with open(osp+'pymz/mzmine/vlmodel.txt', 'rb') as file:\n",
    "    mvl = pickle.load(file)"
   ]
  },
  {
   "cell_type": "code",
   "execution_count": 13,
   "metadata": {},
   "outputs": [],
   "source": [
    "from metab_utils import change_rt_in_mgf\n",
    "change_rt_in_mgf(mgf_vl, mvl)\n",
    "change_rt_in_mgf(mgf_mal, mmal)"
   ]
  },
  {
   "cell_type": "markdown",
   "metadata": {},
   "source": [
    "Save the dictionaries of spectrum back to mgf files."
   ]
  },
  {
   "cell_type": "code",
   "execution_count": null,
   "metadata": {},
   "outputs": [],
   "source": []
  },
  {
   "cell_type": "code",
   "execution_count": null,
   "metadata": {},
   "outputs": [],
   "source": []
  },
  {
   "cell_type": "code",
   "execution_count": 14,
   "metadata": {},
   "outputs": [],
   "source": [
    "zik_mgf_file = os.path.join(osp, 'pymz/mzmine/210120/mzmine_frag/preprocessedzik.mgf')\n",
    "vl_mgf_file = os.path.join(osp, 'pymz/mzmine/210120/mzmine_frag/preprocessedvl.mgf')\n",
    "mal_mgf_file = os.path.join(osp, 'pymz/mzmine/210120/mzmine_frag/preprocessedmal.mgf')"
   ]
  },
  {
   "cell_type": "code",
   "execution_count": 15,
   "metadata": {},
   "outputs": [
    {
     "ename": "ImportError",
     "evalue": "cannot import name 'writeMgfFile' from 'metab_utils' (/Volumes/Transcend2/git/pymzm/AnaMariaNotebooks/metab_utils.py)",
     "output_type": "error",
     "traceback": [
      "\u001b[0;31m---------------------------------------------------------------------------\u001b[0m",
      "\u001b[0;31mImportError\u001b[0m                               Traceback (most recent call last)",
      "\u001b[0;32m<ipython-input-15-5450ce5de164>\u001b[0m in \u001b[0;36m<module>\u001b[0;34m\u001b[0m\n\u001b[0;32m----> 1\u001b[0;31m \u001b[0;32mfrom\u001b[0m \u001b[0mmetab_utils\u001b[0m \u001b[0;32mimport\u001b[0m \u001b[0mwriteMgfFile\u001b[0m\u001b[0;34m,\u001b[0m \u001b[0mmakeClusters\u001b[0m\u001b[0;34m\u001b[0m\u001b[0;34m\u001b[0m\u001b[0m\n\u001b[0m\u001b[1;32m      2\u001b[0m \u001b[0mwriteMgfFile\u001b[0m\u001b[0;34m(\u001b[0m\u001b[0mmakeClusters\u001b[0m\u001b[0;34m(\u001b[0m\u001b[0mmgf_zik\u001b[0m\u001b[0;34m)\u001b[0m\u001b[0;34m,\u001b[0m \u001b[0mzik_mgf_file\u001b[0m\u001b[0;34m)\u001b[0m\u001b[0;34m\u001b[0m\u001b[0;34m\u001b[0m\u001b[0m\n\u001b[1;32m      3\u001b[0m \u001b[0mwriteMgfFile\u001b[0m\u001b[0;34m(\u001b[0m\u001b[0mmakeClusters\u001b[0m\u001b[0;34m(\u001b[0m\u001b[0mmgf_vl\u001b[0m\u001b[0;34m)\u001b[0m\u001b[0;34m,\u001b[0m \u001b[0mvl_mgf_file\u001b[0m\u001b[0;34m)\u001b[0m\u001b[0;34m\u001b[0m\u001b[0;34m\u001b[0m\u001b[0m\n\u001b[1;32m      4\u001b[0m \u001b[0mwriteMgfFile\u001b[0m\u001b[0;34m(\u001b[0m\u001b[0mmakeClusters\u001b[0m\u001b[0;34m(\u001b[0m\u001b[0mmgf_mal\u001b[0m\u001b[0;34m)\u001b[0m\u001b[0;34m,\u001b[0m \u001b[0mmal_mgf_file\u001b[0m\u001b[0;34m)\u001b[0m\u001b[0;34m\u001b[0m\u001b[0;34m\u001b[0m\u001b[0m\n",
      "\u001b[0;31mImportError\u001b[0m: cannot import name 'writeMgfFile' from 'metab_utils' (/Volumes/Transcend2/git/pymzm/AnaMariaNotebooks/metab_utils.py)"
     ]
    }
   ],
   "source": [
    "from metab_utils import writeMgfFile, makeClusters\n",
    "writeMgfFile(makeClusters(mgf_zik), zik_mgf_file)\n",
    "writeMgfFile(makeClusters(mgf_vl), vl_mgf_file)\n",
    "writeMgfFile(makeClusters(mgf_mal), mal_mgf_file)"
   ]
  },
  {
   "cell_type": "code",
   "execution_count": null,
   "metadata": {},
   "outputs": [],
   "source": []
  },
  {
   "cell_type": "markdown",
   "metadata": {},
   "source": [
    "## Create/Load the JoinAligner object"
   ]
  },
  {
   "cell_type": "markdown",
   "metadata": {},
   "source": [
    "Align the fragmentation files from each dataset with the already aligned peaksets."
   ]
  },
  {
   "cell_type": "code",
   "execution_count": 16,
   "metadata": {},
   "outputs": [],
   "source": [
    "mal_changed_rt_csv = osp+'pymz/mzmine/210120/mzmine_frag/mal_changed_rt/frag_pos_mal_quant.csv'\n",
    "vl_changed_rt_csv = osp+'pymz/mzmine/210120/mzmine_frag/vl_changed_rt/frag_pos_vl_quant.csv'\n",
    "zik_csv = osp+'pymz/mzmine/210120/mzmine_frag/zik/gnps2_quant.csv'"
   ]
  },
  {
   "cell_type": "markdown",
   "metadata": {},
   "source": [
    "Initialize the JoinAligner object."
   ]
  },
  {
   "cell_type": "code",
   "execution_count": 17,
   "metadata": {},
   "outputs": [],
   "source": [
    "from alignment import JoinAligner\n",
    "aligner_gp = JoinAligner(mz_tolerance_absolute = 0.01,mz_tolerance_ppm = 10,rt_tolerance = 0.5)"
   ]
  },
  {
   "cell_type": "markdown",
   "metadata": {},
   "source": [
    "Add the previously aligned peakset."
   ]
  },
  {
   "cell_type": "code",
   "execution_count": 18,
   "metadata": {},
   "outputs": [],
   "source": [
    "aligner_gp.add_file(os.path.join(osp+'pymz/mzmine/221119/samples_alignment/pp_aligned.csv'), None)"
   ]
  },
  {
   "cell_type": "markdown",
   "metadata": {},
   "source": [
    "Add the fragmentation file for each dataset."
   ]
  },
  {
   "cell_type": "code",
   "execution_count": 19,
   "metadata": {},
   "outputs": [],
   "source": [
    "aligner_gp.add_file(mal_changed_rt_csv, mgf_mal)\n",
    "aligner_gp.add_file(vl_changed_rt_csv, mgf_vl)\n",
    "aligner_gp.add_file(zik_csv, mgf_zik)"
   ]
  },
  {
   "cell_type": "markdown",
   "metadata": {},
   "source": [
    "Save the JoinAligner object."
   ]
  },
  {
   "cell_type": "code",
   "execution_count": 20,
   "metadata": {},
   "outputs": [],
   "source": [
    "with open(os.path.join(osp,'pymz/mzmine/aligner_gp.txt'), 'wb') as handle:\n",
    "    pickle.dump(aligner_gp, handle)   "
   ]
  },
  {
   "cell_type": "markdown",
   "metadata": {},
   "source": [
    "Load the JoinAligner object."
   ]
  },
  {
   "cell_type": "code",
   "execution_count": 21,
   "metadata": {},
   "outputs": [],
   "source": [
    "with open(os.path.join(osp,'pymz/mzmine/aligner_gp.txt'), 'rb') as file:\n",
    "    aligner_gp = pickle.load(file)   "
   ]
  },
  {
   "cell_type": "code",
   "execution_count": null,
   "metadata": {},
   "outputs": [],
   "source": []
  }
 ],
 "metadata": {
  "kernelspec": {
   "display_name": "Python 3",
   "language": "python",
   "name": "python3"
  },
  "language_info": {
   "codemirror_mode": {
    "name": "ipython",
    "version": 3
   },
   "file_extension": ".py",
   "mimetype": "text/x-python",
   "name": "python",
   "nbconvert_exporter": "python",
   "pygments_lexer": "ipython3",
   "version": "3.7.3"
  }
 },
 "nbformat": 4,
 "nbformat_minor": 2
}

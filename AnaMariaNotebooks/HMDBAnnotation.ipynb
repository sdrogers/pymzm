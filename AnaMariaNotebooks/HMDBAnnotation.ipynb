{
 "cells": [
  {
   "cell_type": "code",
   "execution_count": 3,
   "metadata": {},
   "outputs": [],
   "source": [
    "import xml.etree.ElementTree\n",
    "import pandas as pd\n",
    "import os, sys\n",
    "import pickle\n",
    "\n",
    "MNET_PATH = '/Volumes/Transcend2/git/molnet/code'\n",
    "sys.path.append(MNET_PATH)"
   ]
  },
  {
   "cell_type": "code",
   "execution_count": 4,
   "metadata": {},
   "outputs": [],
   "source": [
    "WIN = 'D:/'\n",
    "MAC = '/Volumes/Transcend2/'\n",
    "\n",
    "osp = MAC"
   ]
  },
  {
   "cell_type": "code",
   "execution_count": 5,
   "metadata": {},
   "outputs": [],
   "source": [
    "sys.path.append('..')\n",
    "import alignment"
   ]
  },
  {
   "cell_type": "code",
   "execution_count": null,
   "metadata": {},
   "outputs": [],
   "source": []
  },
  {
   "cell_type": "markdown",
   "metadata": {},
   "source": [
    "## Create metabolites dictionary"
   ]
  },
  {
   "cell_type": "markdown",
   "metadata": {},
   "source": [
    "Parse metabolites list downloaded from HMDB in xml format"
   ]
  },
  {
   "cell_type": "code",
   "execution_count": 3,
   "metadata": {},
   "outputs": [],
   "source": [
    "path_to_hmdbfile = osp+ 'Metabolomics_datasets/serum_metabolites.xml'\n",
    "et = xml.etree.ElementTree.parse(path_to_hmdbfile)\n",
    "root = et.getroot()\n"
   ]
  },
  {
   "cell_type": "code",
   "execution_count": 4,
   "metadata": {},
   "outputs": [],
   "source": [
    "metabolites = {}\n",
    "stringtag = '{http://www.hmdb.ca}'\n",
    "for metabolite in root.findall(stringtag+'metabolite'):\n",
    "    accid = metabolite.find(stringtag+'accession').text\n",
    "    name = metabolite.find(stringtag+'name').text\n",
    "    mass = metabolite.find(stringtag+'average_molecular_weight').text\n",
    "    chemform = metabolite.find(stringtag+'chemical_formula').text\n",
    "    \n",
    "    metabolites[accid] = (mass, chemform, name)  \n",
    "    \n",
    "with open(os.path.join(osp,'Metabolomics_datasets/metabolites.dict'), 'wb') as handle:\n",
    "    pickle.dump(metabolites, handle)  "
   ]
  },
  {
   "cell_type": "code",
   "execution_count": 6,
   "metadata": {},
   "outputs": [],
   "source": [
    "with open(os.path.join(osp,'Metabolomics_datasets/metabolites.dict'), 'rb') as file:\n",
    "    metabolites = pickle.load(file)"
   ]
  },
  {
   "cell_type": "markdown",
   "metadata": {},
   "source": [
    "## Load annotated data"
   ]
  },
  {
   "cell_type": "code",
   "execution_count": 7,
   "metadata": {},
   "outputs": [],
   "source": [
    "annotated_data = pd.read_csv(osp+'pymz/mzmine/221119/annotated_data.csv', sep = ',', index_col = 0)"
   ]
  },
  {
   "cell_type": "markdown",
   "metadata": {},
   "source": [
    "## Filter out data with no spectra"
   ]
  },
  {
   "cell_type": "code",
   "execution_count": 8,
   "metadata": {},
   "outputs": [],
   "source": [
    "with open(os.path.join(osp,'pymz/mzmine/aligner_gp.txt'), 'rb') as file:\n",
    "    aligner_gp = pickle.load(file)   "
   ]
  },
  {
   "cell_type": "code",
   "execution_count": 9,
   "metadata": {},
   "outputs": [],
   "source": [
    "peaksets = []\n",
    "annotated_data['spectra'] = ['nan']*len(annotated_data)\n",
    "for peakid in annotated_data['custom_id']:\n",
    "    new_peakid = peakid - 1\n",
    "    np = aligner_gp.peaksets[new_peakid].n_peaks\n",
    "    spectra = {}\n",
    "    if np > 1:\n",
    "        for i in range(np-1):\n",
    "            source = aligner_gp.peaksets[new_peakid].peaks[i+1].source_file\n",
    "            msms = aligner_gp.peaksets[new_peakid].peaks[i+1].ms2_spectrum\n",
    "            spectra[source] = msms\n",
    "        annotated_data.at[peakid,'spectra'] = spectra\n"
   ]
  },
  {
   "cell_type": "code",
   "execution_count": 29,
   "metadata": {},
   "outputs": [],
   "source": [
    "annotated_data_with_spectra = annotated_data[annotated_data['spectra'] != 'nan']"
   ]
  },
  {
   "cell_type": "markdown",
   "metadata": {},
   "source": [
    "## Add possible adducts for each peak and their respective HMDB accession id"
   ]
  },
  {
   "cell_type": "code",
   "execution_count": 10,
   "metadata": {},
   "outputs": [],
   "source": [
    "def compute_adducts(mz, positive = True):\n",
    "    \n",
    "    PROTON = 1.00727646677\n",
    "    if positive:\n",
    "        addList = [(mz - PROTON, 'M+H[1+]', ''),\n",
    "             ((mz - PROTON)*2, 'M+2H[2+]', ''),\n",
    "             ((mz - PROTON)*3, 'M+3H[3+]', ''),\n",
    "             (mz - 1.0034 - PROTON, 'M(C13)+H[1+]', 'C'),\n",
    "             ((mz - 0.5017 - PROTON)*2, 'M(C13)+2H[2+]', 'C'),\n",
    "             ((mz - 0.3344 - PROTON)*3, 'M(C13)+3H[3+]', 'C'),\n",
    "             (mz -1.9958 - PROTON, 'M(S34)+H[1+]', 'S'),\n",
    "             (mz -1.9972 - PROTON, 'M(Cl37)+H[1+]', 'Cl'),\n",
    "             (mz - 21.9820 - PROTON, 'M+Na[1+]', ''), \n",
    "             ((mz - 10.991 - PROTON)*2, 'M+H+Na[2+]', ''),\n",
    "             (mz - 37.9555 - PROTON, 'M+K[1+]', ''), \n",
    "             (mz - 18.0106 - PROTON, 'M+H2O+H[1+]', ''), \n",
    "             (mz + 18.0106 - PROTON, 'M-H2O+H[1+]', 'H2O'), \n",
    "             (mz + 36.0212 - PROTON, 'M-H4O2+H[1+]', 'H4O2'),\n",
    "             (mz + 17.0265 - PROTON, 'M-NH3+H[1+]', 'NH3'),\n",
    "             (mz + 27.9950 - PROTON, 'M-CO+H[1+]', 'CO'),\n",
    "             (mz + 43.9898 - PROTON, 'M-CO2+H[1+]', 'CO2'),\n",
    "             (mz + 46.0054 - PROTON, 'M-HCOOH+H[1+]', 'H2CO2'),\n",
    "             (mz - 67.9874 - PROTON, 'M+HCOONa[1+]', ''),\n",
    "             (mz + 67.9874 - PROTON, 'M-HCOONa+H[1+]', 'HCO2Na'),\n",
    "             (mz - 57.9586 - PROTON, 'M+NaCl[1+]', ''), \n",
    "             (mz + 72.0211 - PROTON, 'M-C3H4O2+H[1+]', 'C3H4O2'),\n",
    "             (mz - 83.9613 - PROTON, 'M+HCOOK[1+]', ''),\n",
    "             (mz + 83.9613 - PROTON, 'M-HCOOK+H[1+]', 'HCO2K'),\n",
    "             ] \n",
    "\n",
    "    return addList"
   ]
  },
  {
   "cell_type": "code",
   "execution_count": 12,
   "metadata": {},
   "outputs": [],
   "source": [
    "def annotate_adduct(adducts, metabolites, tolerance = 0.01):\n",
    "    ids = []\n",
    "    names = []\n",
    "    for adduct in adducts:\n",
    "        mw = adduct[0]\n",
    "        for key in metabolites:\n",
    "            if metabolites[key][0] != None:\n",
    "                if mw > float(metabolites[key][0]) - tolerance and mw < float(metabolites[key][0]) + tolerance:\n",
    "                    ids.append(key)\n",
    "                    names.append(metabolites[key][2])\n",
    "    return ids, names\n",
    "        "
   ]
  },
  {
   "cell_type": "code",
   "execution_count": 11,
   "metadata": {},
   "outputs": [],
   "source": [
    "annotated_data['adducts'] = ['nan']*len(annotated_data)\n",
    "for i,row in annotated_data.iterrows():\n",
    "    mz = row['row m/z']\n",
    "    annotated_data.at[i, 'adducts'] = compute_adducts(mz)"
   ]
  },
  {
   "cell_type": "code",
   "execution_count": 13,
   "metadata": {},
   "outputs": [],
   "source": [
    "annotated_data['hmdbacc']=['nan']*len(annotated_data)\n",
    "annotated_data['hmdbname']=['nan']*len(annotated_data)\n",
    "for i,row in annotated_data.iterrows():\n",
    "    adducts = row['adducts']\n",
    "    \n",
    "    \n",
    "    ids, names = annotate_adduct(adducts, metabolites, 0.2)\n",
    "    \n",
    "    annotated_data.at[i, 'hmdbacc'] = ids\n",
    "    annotated_data.at[i, 'hmdbname'] = names\n",
    "        "
   ]
  },
  {
   "cell_type": "code",
   "execution_count": 22,
   "metadata": {},
   "outputs": [
    {
     "data": {
      "text/plain": [
       "('830.7469', 'C40H38N4O16', 'Uroporphyrin I')"
      ]
     },
     "execution_count": 22,
     "metadata": {},
     "output_type": "execute_result"
    }
   ],
   "source": [
    "metabolites['HMDB0000936']"
   ]
  },
  {
   "cell_type": "code",
   "execution_count": null,
   "metadata": {},
   "outputs": [],
   "source": []
  },
  {
   "cell_type": "markdown",
   "metadata": {},
   "source": [
    "## Get ms2 data from HMDB ms2 xml files"
   ]
  },
  {
   "cell_type": "code",
   "execution_count": 23,
   "metadata": {},
   "outputs": [],
   "source": [
    "def get_ms2_spec_from_hmdb(file, parent_mz):\n",
    "    import mnet\n",
    "    path_to_hmdbfile = file\n",
    "    et = xml.etree.ElementTree.parse(path_to_hmdbfile)\n",
    "    element = et.getroot()\n",
    "    mode = element.find('ionization-mode').text\n",
    "    if mode == 'positive':\n",
    "        instrtype = element.find('instrument-type').text\n",
    "        filename = element.find('database-id').text\n",
    "        np = element.find('peak-counter').text\n",
    "        peaks = []\n",
    "        \n",
    "        for msms in element.find('ms-ms-peaks'):\n",
    "            mz = float(msms.find('mass-charge').text)\n",
    "            intensity = float(msms.find('intensity').text)\n",
    "            \n",
    "            peaks.append((mz, intensity))\n",
    "            \n",
    "        \n",
    "        ms2_spectrum = mnet.Spectrum(peaks, filename, None, None, parent_mz, parent_mz, metadata = (instrtype, mode))\n",
    "        return ms2_spectrum\n",
    "    "
   ]
  },
  {
   "cell_type": "code",
   "execution_count": 61,
   "metadata": {},
   "outputs": [],
   "source": [
    "def return_best_match_metabolite(ms2specdata, hmdbacclist):\n",
    "    import glob\n",
    "    from scoring_functions import fast_cosine\n",
    "   \n",
    "    best_score_metab = 0.0\n",
    "    best_metab_tuple = (0,0,0)\n",
    "    for acc in hmdbacclist:\n",
    "        \n",
    "        files = glob.glob(os.path.join(osp+ 'Metabolomics_datasets/hmdb_experimental_msms_spectra/', acc+'*'))\n",
    "        if len(files)>0:\n",
    "            best_score_acc = 0.0\n",
    "            best_ms2_acc = 'nan'\n",
    "            for file in files:\n",
    "                ms2spec = get_ms2_spec_from_hmdb(file, float(metabolites[acc][0]))\n",
    "                if ms2spec != None: #msms is positive\n",
    "                    score, used_matches = fast_cosine(ms2spec, ms2specdata, 0.2, 2)\n",
    "                    \n",
    "                    if score > best_score_acc:\n",
    "                        best_score_acc = score\n",
    "                        best_ms2_acc = ms2spec\n",
    "            \n",
    "            best_acc_tuple = (acc, best_score_acc, best_ms2_acc)\n",
    "            \n",
    "            if best_score_acc > best_score_metab:\n",
    "                best_score_metab = best_score_acc\n",
    "                best_metab_tuple = best_acc_tuple\n",
    "                \n",
    "    return best_metab_tuple\n"
   ]
  },
  {
   "cell_type": "code",
   "execution_count": null,
   "metadata": {
    "scrolled": true
   },
   "outputs": [
    {
     "name": "stderr",
     "output_type": "stream",
     "text": [
      "/Library/Frameworks/Python.framework/Versions/3.7/lib/python3.7/site-packages/ipykernel_launcher.py:1: SettingWithCopyWarning:\n",
      "\n",
      "\n",
      "A value is trying to be set on a copy of a slice from a DataFrame.\n",
      "Try using .loc[row_indexer,col_indexer] = value instead\n",
      "\n",
      "See the caveats in the documentation: http://pandas.pydata.org/pandas-docs/stable/indexing.html#indexing-view-versus-copy\n",
      "\n"
     ]
    },
    {
     "name": "stdout",
     "output_type": "stream",
     "text": [
      "1401\n",
      "2664\n",
      "613\n",
      "324\n",
      "3108\n",
      "2989\n",
      "2936\n",
      "2980\n",
      "2960\n",
      "2995\n",
      "365\n",
      "3025\n",
      "1993\n",
      "2997\n",
      "2915\n",
      "2722\n",
      "2693\n"
     ]
    }
   ],
   "source": [
    "annotated_data_with_spectra['matchesHMDB'] = ['nan']*len(annotated_data_with_spectra)\n",
    "for i, row in annotated_data_with_spectra.iterrows():\n",
    "    print(i)\n",
    "    spectra_list = row['spectra']\n",
    "    hmdbacc_list = row['hmdbacc']\n",
    "    best_matches = []\n",
    "    for spec in spectra_list:\n",
    "        ms2specdata = spectra_list[spec]\n",
    "        best_metab_tuple = return_best_match_metabolite(ms2specdata, hmdbacc_list)\n",
    "        best_matches.append(best_metab_tuple)\n",
    "    annotated_data_with_spectra.at[i, 'matchesHMDB'] = best_matches\n",
    "    "
   ]
  },
  {
   "cell_type": "code",
   "execution_count": null,
   "metadata": {},
   "outputs": [],
   "source": []
  }
 ],
 "metadata": {
  "kernelspec": {
   "display_name": "Python 3",
   "language": "python",
   "name": "python3"
  },
  "language_info": {
   "codemirror_mode": {
    "name": "ipython",
    "version": 3
   },
   "file_extension": ".py",
   "mimetype": "text/x-python",
   "name": "python",
   "nbconvert_exporter": "python",
   "pygments_lexer": "ipython3",
   "version": "3.7.3"
  }
 },
 "nbformat": 4,
 "nbformat_minor": 2
}

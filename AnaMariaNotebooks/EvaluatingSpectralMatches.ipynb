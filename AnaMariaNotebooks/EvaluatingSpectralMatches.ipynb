{
 "cells": [
  {
   "cell_type": "code",
   "execution_count": 38,
   "metadata": {},
   "outputs": [
    {
     "name": "stdout",
     "output_type": "stream",
     "text": [
      "The autoreload extension is already loaded. To reload it, use:\n",
      "  %reload_ext autoreload\n"
     ]
    }
   ],
   "source": [
    "import os\n",
    "import sys\n",
    "import pickle\n",
    "import numpy as np\n",
    "import matplotlib.pyplot as plt\n",
    "%load_ext autoreload\n",
    "%autoreload 2"
   ]
  },
  {
   "cell_type": "code",
   "execution_count": 2,
   "metadata": {},
   "outputs": [],
   "source": [
    "WIN = 'D:/'\n",
    "MAC = '/Volumes/Transcend2/'\n",
    "\n",
    "osp = MAC"
   ]
  },
  {
   "cell_type": "code",
   "execution_count": 3,
   "metadata": {},
   "outputs": [],
   "source": [
    "MNET_PATH = osp+'git/molnet/code/'\n",
    "sys.path.append(MNET_PATH)"
   ]
  },
  {
   "cell_type": "markdown",
   "metadata": {},
   "source": [
    "## Get bad spectral matches between 2 datasets"
   ]
  },
  {
   "cell_type": "code",
   "execution_count": 4,
   "metadata": {},
   "outputs": [],
   "source": [
    "import mnet\n",
    "import mnet_utilities"
   ]
  },
  {
   "cell_type": "markdown",
   "metadata": {},
   "source": [
    "Load the fragmentattion files."
   ]
  },
  {
   "cell_type": "code",
   "execution_count": 5,
   "metadata": {
    "collapsed": true
   },
   "outputs": [
    {
     "name": "stdout",
     "output_type": "stream",
     "text": [
      "Loaded 100 spectra\n",
      "Loaded 200 spectra\n",
      "Loaded 300 spectra\n",
      "Loaded 100 spectra\n",
      "Loaded 200 spectra\n",
      "Loaded 300 spectra\n",
      "Loaded 100 spectra\n",
      "Loaded 200 spectra\n",
      "Loaded 300 spectra\n"
     ]
    }
   ],
   "source": [
    "mgf_vl = mnet_utilities.load_mgf(osp+'pymz/mzmine/210120/mzmine_frag/vl/frag_pos_vl.mgf')\n",
    "mgf_mal = mnet_utilities.load_mgf(osp+'pymz/mzmine/210120/mzmine_frag/mal/frag_pos_mal.mgf')\n",
    "mgf_zik = mnet_utilities.load_mgf(osp+'pymz/mzmine/210120/mzmine_frag/zik/gnps2.mgf')"
   ]
  },
  {
   "cell_type": "markdown",
   "metadata": {},
   "source": [
    "Get the cosine similarity scores of the bad spectral matches."
   ]
  },
  {
   "cell_type": "code",
   "execution_count": 16,
   "metadata": {},
   "outputs": [],
   "source": [
    "from metab_utils import get_bad_spectral_matches\n",
    "badscores_vl_zik = get_bad_spectral_matches(mgf_vl, mgf_zik, 40, 0.2, 2, plot = False)\n",
    "badscores_vl_mal = get_bad_spectral_matches(mgf_vl, mgf_mal, 40, 0.2, 2, plot = False)\n",
    "badscores_zik_mal = get_bad_spectral_matches(mgf_zik, mgf_mal, 40, 0.2, 2, plot = False)"
   ]
  },
  {
   "cell_type": "markdown",
   "metadata": {},
   "source": [
    "Plot the distribution of the scores for the bad spectral matches."
   ]
  },
  {
   "cell_type": "code",
   "execution_count": 21,
   "metadata": {
    "collapsed": true
   },
   "outputs": [
    {
     "data": {
      "text/plain": [
       "Text(0.5, 1.0, 'VL vs Zika')"
      ]
     },
     "execution_count": 21,
     "metadata": {},
     "output_type": "execute_result"
    },
    {
     "data": {
      "image/png": "[encoded data removed]",
      "text/plain": [
       "<Figure size 432x288 with 1 Axes>"
      ]
     },
     "metadata": {
      "needs_background": "light"
     },
     "output_type": "display_data"
    }
   ],
   "source": [
    "plt.hist(badscores_vl_zik, bins=10, alpha = 0.5)\n",
    "plt.xlabel('Cosine similarity')\n",
    "plt.title('VL vs Zika')"
   ]
  },
  {
   "cell_type": "code",
   "execution_count": 22,
   "metadata": {
    "collapsed": true
   },
   "outputs": [
    {
     "data": {
      "text/plain": [
       "Text(0.5, 1.0, 'VL vs Malaria')"
      ]
     },
     "execution_count": 22,
     "metadata": {},
     "output_type": "execute_result"
    },
    {
     "data": {
      "image/png": "[encoded data removed]",
      "text/plain": [
       "<Figure size 432x288 with 1 Axes>"
      ]
     },
     "metadata": {
      "needs_background": "light"
     },
     "output_type": "display_data"
    }
   ],
   "source": [
    "plt.hist(badscores_vl_mal, bins=10, alpha = 0.5)\n",
    "plt.xlabel('Cosine similarity')\n",
    "plt.title('VL vs Malaria')"
   ]
  },
  {
   "cell_type": "code",
   "execution_count": 23,
   "metadata": {
    "collapsed": true
   },
   "outputs": [
    {
     "data": {
      "text/plain": [
       "Text(0.5, 1.0, 'Malaria vs Zika')"
      ]
     },
     "execution_count": 23,
     "metadata": {},
     "output_type": "execute_result"
    },
    {
     "data": {
      "image/png": "[encoded data removed]",
      "text/plain": [
       "<Figure size 432x288 with 1 Axes>"
      ]
     },
     "metadata": {
      "needs_background": "light"
     },
     "output_type": "display_data"
    }
   ],
   "source": [
    "plt.hist(badscores_zik_mal, bins=10, alpha = 0.5)\n",
    "plt.xlabel('Cosine similarity')\n",
    "plt.title('Malaria vs Zika')"
   ]
  },
  {
   "cell_type": "code",
   "execution_count": null,
   "metadata": {},
   "outputs": [],
   "source": []
  },
  {
   "cell_type": "code",
   "execution_count": null,
   "metadata": {},
   "outputs": [],
   "source": []
  },
  {
   "cell_type": "markdown",
   "metadata": {},
   "source": [
    "## Get distribution of bad spectral matches for each good match"
   ]
  },
  {
   "cell_type": "markdown",
   "metadata": {},
   "source": [
    "Load the JoinAligner object."
   ]
  },
  {
   "cell_type": "code",
   "execution_count": null,
   "metadata": {},
   "outputs": [],
   "source": [
    "with open(os.path.join(osp,'pymz/mzmine/aligner_gp.txt'), 'rb') as file:\n",
    "    aligner_gp = pickle.load(file)   "
   ]
  },
  {
   "cell_type": "code",
   "execution_count": null,
   "metadata": {},
   "outputs": [],
   "source": []
  },
  {
   "cell_type": "markdown",
   "metadata": {},
   "source": [
    "Extract the spectra from the peaksets."
   ]
  },
  {
   "cell_type": "code",
   "execution_count": 30,
   "metadata": {},
   "outputs": [],
   "source": [
    "from metab_utils import extract_peaksets_with_spectra_from_dataset\n",
    "peaksets_gp_spec = extract_peaksets_with_spectra_from_dataset(aligner_gp)"
   ]
  },
  {
   "cell_type": "markdown",
   "metadata": {},
   "source": [
    "Extract the scores for the peaksets which have 2 or more spectra attached."
   ]
  },
  {
   "cell_type": "code",
   "execution_count": null,
   "metadata": {},
   "outputs": [],
   "source": [
    "from metab_utils import extract_scores_pairs_for_dataset\n",
    "peaksets_vl_mal = extract_scores_pairs_for_dataset(peaksets_gp_spec, 'vl', 'mal')\n",
    "peaksets_vl_zik = extract_scores_pairs_for_dataset(peaksets_gp_spec, 'vl', 'zik')\n",
    "peaksets_zik_mal = extract_scores_pairs_for_dataset(peaksets_gp_spec, 'zik', 'mal')"
   ]
  },
  {
   "cell_type": "markdown",
   "metadata": {},
   "source": [
    "Parse through the list of actual spectral matches and for each match get a distribution of badscores."
   ]
  },
  {
   "cell_type": "code",
   "execution_count": 31,
   "metadata": {
    "collapsed": true
   },
   "outputs": [
    {
     "name": "stdout",
     "output_type": "stream",
     "text": [
      "[0.8788596654868462]\n",
      "---\n",
      "[0.7680224772235903, 0.7064566385408813, 0.7315291187843543]\n",
      "=====\n",
      "[0.19791581115707427]\n",
      "---\n",
      "[0.2848282465345568, 0.23643192234502497, 0.2502945220504343, 0.31097539652959877, 0.26641727877827154, 0.2804503775057586]\n",
      "=====\n",
      "[0.9353288454889728]\n",
      "---\n",
      "[]\n",
      "=====\n",
      "[0.911416961444581]\n",
      "---\n",
      "[]\n",
      "=====\n",
      "[0.8821529487196236]\n",
      "---\n",
      "[0.7112732033453955, 0.6957035916338019, 0.7057816032030155, 0.12441781032793796, 0.5240706482503515, 0.15016469365509424, 0.5890128931897507]\n",
      "=====\n",
      "[0.8805429008038324]\n",
      "---\n",
      "[0.09052575817208289]\n",
      "=====\n",
      "[0.020638906914758476]\n",
      "---\n",
      "[]\n",
      "=====\n",
      "[0.8156984492212396]\n",
      "---\n",
      "[]\n",
      "=====\n",
      "[0.03614809124791868]\n",
      "---\n",
      "[]\n",
      "=====\n",
      "[0.04030998594444133]\n",
      "---\n",
      "[0.0]\n",
      "=====\n",
      "[0.023675893341813126]\n",
      "---\n",
      "[0.07881825749583478, 0.0, 0.0633534401277063, 0.11928372307383579, 0.03167534647775286, 0.058091487716436845, 0.013534517623503977]\n",
      "=====\n",
      "[0.007835297864336805]\n",
      "---\n",
      "[0.07881825749583478, 0.0, 0.0633534401277063, 0.11928372307383579, 0.03167534647775286, 0.058091487716436845, 0.013534517623503977]\n",
      "=====\n",
      "[0.14314176625815878]\n",
      "---\n",
      "[0.4660320499147398]\n",
      "=====\n",
      "[0.7264850845945855]\n",
      "---\n",
      "[0.6265377976976243]\n",
      "=====\n",
      "[0.7449858092379011]\n",
      "---\n",
      "[0.13264848673899216]\n",
      "=====\n",
      "[0.07244164861600344]\n",
      "---\n",
      "[]\n",
      "=====\n",
      "[0.8777843913471985]\n",
      "---\n",
      "[]\n",
      "=====\n",
      "[0.16482498650135374]\n",
      "---\n",
      "[0.17419579774907495]\n",
      "=====\n",
      "[0.44869421316309177]\n",
      "---\n",
      "[]\n",
      "=====\n",
      "[0.6348464830093351]\n",
      "---\n",
      "[]\n",
      "=====\n",
      "[0.24550842229673664]\n",
      "---\n",
      "[]\n",
      "=====\n",
      "[0.5688285354176822]\n",
      "---\n",
      "[]\n",
      "=====\n",
      "[0.774384329168728]\n",
      "---\n",
      "[]\n",
      "=====\n",
      "[0.3448840679775461]\n",
      "---\n",
      "[]\n",
      "=====\n",
      "[0.8220593952944943]\n",
      "---\n",
      "[]\n",
      "=====\n",
      "[0.10941239495641206]\n",
      "---\n",
      "[0.08134278493504937]\n",
      "=====\n",
      "[0.8209425896091433]\n",
      "---\n",
      "[0.2245966810285684]\n",
      "=====\n",
      "[0.267283224013449]\n",
      "---\n",
      "[]\n",
      "=====\n",
      "[0.8449983327845262]\n",
      "---\n",
      "[]\n",
      "=====\n",
      "[0.7684518696115551]\n",
      "---\n",
      "[]\n",
      "=====\n",
      "[0.7904627824474592]\n",
      "---\n",
      "[0.7217760894827362]\n",
      "=====\n",
      "[0.7480345071901048]\n",
      "---\n",
      "[]\n",
      "=====\n",
      "[0.16123780306465577]\n",
      "---\n",
      "[0.13929989460462888, 0.08719997957101149, 0.14233075025587763]\n",
      "=====\n",
      "[0.6301926274409315]\n",
      "---\n",
      "[0.6704287593637653, 0.6655517292702149, 0.6557705322033026, 0.6407251631242961, 0.6398941642896988, 0.620872628983129, 0.6250473457625246, 0.6451902438452368, 0.65609215271935, 0.6242310069154356, 0.6333742094245727, 0.6543887317295964, 0.6431378154096642, 0.6295811726680628, 0.6561955026208941, 0.646104370407641, 0.6476697799794294, 0.6148812991137433, 0.6301926274409315, 0.618238748280195, 0.625888935039087, 0.6007616261693793, 0.6024587660223225]\n",
      "=====\n",
      "[0.0813287374463143]\n",
      "---\n",
      "[]\n",
      "=====\n",
      "[0.7203859068418997]\n",
      "---\n",
      "[0.7215011902371448, 0.6570506374920178, 0.7155591981515322, 0.7191356373514315, 0.6521126522504475, 0.7140694167024115, 0.648798595230674, 0.7066899833361885, 0.7229635458501272, 0.6566019125474362, 0.7167214379266441]\n",
      "=====\n",
      "[0.6502044911964421]\n",
      "---\n",
      "[0.6704287593637653, 0.6655517292702149, 0.6557705322033026, 0.6407251631242961, 0.6398941642896988, 0.620872628983129, 0.6250473457625246, 0.6451902438452368, 0.65609215271935, 0.6242310069154356, 0.6333742094245727, 0.6543887317295964, 0.6431378154096642, 0.6295811726680628, 0.6561955026208941, 0.646104370407641, 0.6476697799794294, 0.6148812991137433, 0.6301926274409315, 0.618238748280195, 0.625888935039087, 0.6007616261693793, 0.6024587660223225]\n",
      "=====\n",
      "[0.771964955806519]\n",
      "---\n",
      "[0.7534813016648152]\n",
      "=====\n",
      "[0.7267900593688468]\n",
      "---\n",
      "[]\n",
      "=====\n",
      "[0.911416961444581]\n",
      "---\n",
      "[]\n",
      "=====\n",
      "[0.8172779425094396]\n",
      "---\n",
      "[0.34875698810105316, 0.8099294261569276]\n",
      "=====\n",
      "[0.9116799786121723]\n",
      "---\n",
      "[]\n",
      "=====\n",
      "[0.03880378049285253]\n",
      "---\n",
      "[]\n",
      "=====\n",
      "[0.7425356379945663]\n",
      "---\n",
      "[]\n",
      "=====\n",
      "[0.013516629720358546]\n",
      "---\n",
      "[0.10717213106816327]\n",
      "=====\n",
      "[0.3767455899033839]\n",
      "---\n",
      "[0.046601763580683984, 0.06198837724433259]\n",
      "=====\n",
      "[0.6844631898504361]\n",
      "---\n",
      "[]\n",
      "=====\n",
      "[0.7570734860803391]\n",
      "---\n",
      "[]\n",
      "=====\n",
      "[0.5195358483793566]\n",
      "---\n",
      "[]\n",
      "=====\n",
      "[0.6088362185738531]\n",
      "---\n",
      "[]\n",
      "=====\n",
      "[0.9165413164672142]\n",
      "---\n",
      "[]\n",
      "=====\n",
      "[0.7449858092379011]\n",
      "---\n",
      "[0.13264848673899216]\n",
      "=====\n",
      "[0.5038107191350137]\n",
      "---\n",
      "[]\n",
      "=====\n",
      "[0.16482498650135374]\n",
      "---\n",
      "[]\n",
      "=====\n",
      "[0.053860289624689715]\n",
      "---\n",
      "[]\n",
      "=====\n",
      "[0.44869421316309177]\n",
      "---\n",
      "[]\n",
      "=====\n",
      "[0.774384329168728]\n",
      "---\n",
      "[]\n",
      "=====\n",
      "[0.2594467094274101]\n",
      "---\n",
      "[]\n",
      "=====\n",
      "[0.052861251570117354]\n",
      "---\n",
      "[0.012111380381420112, 0.014055697959577096]\n",
      "=====\n",
      "[0.8209425896091433]\n",
      "---\n",
      "[0.2245966810285684]\n",
      "=====\n",
      "[0.267283224013449]\n",
      "---\n",
      "[0.14342447910776632]\n",
      "=====\n",
      "[0.7031845158556522]\n",
      "---\n",
      "[]\n",
      "=====\n",
      "[0.8487324622460065]\n",
      "---\n",
      "[]\n",
      "=====\n",
      "[0.49129874776693855]\n",
      "---\n",
      "[0.8563248724442702, 0.8233981684180022, 0.8337202528136669]\n",
      "=====\n",
      "[0.4497745087104492]\n",
      "---\n",
      "[]\n",
      "=====\n",
      "[0.49108054888177427]\n",
      "---\n",
      "[]\n",
      "=====\n",
      "[0.7243803118464551]\n",
      "---\n",
      "[]\n",
      "=====\n",
      "[0.8385911239313557]\n",
      "---\n",
      "[]\n",
      "=====\n",
      "[0.8426252467660371]\n",
      "---\n",
      "[]\n",
      "=====\n",
      "[0.8429035671236026]\n",
      "---\n",
      "[]\n",
      "=====\n",
      "[0.815103808155274]\n",
      "---\n",
      "[]\n",
      "=====\n",
      "[0.8314312289008816]\n",
      "---\n",
      "[]\n",
      "=====\n",
      "[0.8164334946031506]\n",
      "---\n",
      "[]\n",
      "=====\n",
      "[0.7511584163876558]\n",
      "---\n",
      "[]\n",
      "=====\n",
      "[0.16123780306465577]\n",
      "---\n",
      "[0.13929989460462888, 0.08719997957101149, 0.14233075025587763]\n",
      "=====\n",
      "[0.6711422575604625]\n",
      "---\n",
      "[]\n",
      "=====\n",
      "[0.7480684847772158]\n",
      "---\n",
      "[]\n",
      "=====\n",
      "[0.7531416678308056]\n",
      "---\n",
      "[]\n",
      "=====\n",
      "[0.7996616225490757]\n",
      "---\n",
      "[]\n",
      "=====\n",
      "[0.0813287374463143]\n",
      "---\n",
      "[0.0813287374463143]\n",
      "=====\n",
      "[0.9999999999999998]\n",
      "---\n",
      "[0.8076504085499204, 0.7699172678681326, 0.8121986416753753]\n",
      "=====\n",
      "[0.8222528068450466]\n",
      "---\n",
      "[0.823501555811529]\n",
      "=====\n",
      "[0.33863543311644606]\n",
      "---\n",
      "[0.0, 0.3361601089021015]\n",
      "=====\n",
      "[0.9999999999999996]\n",
      "---\n",
      "[]\n",
      "=====\n",
      "[1.0]\n",
      "---\n",
      "[]\n",
      "=====\n",
      "[1.0000000000000004]\n",
      "---\n",
      "[0.0]\n",
      "=====\n",
      "[1.0000000000000004]\n",
      "---\n",
      "[0.22297151366469262]\n",
      "=====\n",
      "[1.0000000000000009]\n",
      "---\n",
      "[0.0]\n",
      "=====\n",
      "[0.9999999999999993]\n",
      "---\n",
      "[0.23648860409709405]\n",
      "=====\n",
      "[0.9999999999999997]\n",
      "---\n",
      "[]\n",
      "=====\n",
      "[1.0000000000000002]\n",
      "---\n",
      "[0.5209888456467099]\n",
      "=====\n",
      "[1.0]\n",
      "---\n",
      "[]\n",
      "=====\n",
      "[0.5116448024929389]\n",
      "---\n",
      "[0.5143733595349552, 0.5143733595349552]\n",
      "=====\n",
      "[0.9290286273444666]\n",
      "---\n",
      "[]\n",
      "=====\n",
      "[1.0000000000000004]\n",
      "---\n",
      "[]\n",
      "=====\n",
      "[0.6534100298276831]\n",
      "---\n",
      "[]\n",
      "=====\n",
      "[1.0000000000000009]\n",
      "---\n",
      "[]\n",
      "=====\n",
      "[0.8802617410486577]\n",
      "---\n",
      "[]\n",
      "=====\n",
      "[0.9999999999999994]\n",
      "---\n",
      "[]\n",
      "=====\n",
      "[0.9643603484190701]\n",
      "---\n",
      "[0.0]\n",
      "=====\n",
      "[1.0000000000000004]\n",
      "---\n",
      "[]\n",
      "=====\n",
      "[1.0000000000000004]\n",
      "---\n",
      "[]\n",
      "=====\n",
      "[1.0]\n",
      "---\n",
      "[0.4305250042540648, 0.2739167943507969, 0.21909657601984908, 0.18876300892728276, 0.15069742145243123]\n",
      "=====\n",
      "[0.9852491214063349]\n",
      "---\n",
      "[]\n",
      "=====\n",
      "[1.0]\n",
      "---\n",
      "[]\n",
      "=====\n",
      "[0.8782995434112728]\n",
      "---\n",
      "[0.3997920401275602, 0.4298505222540436]\n",
      "=====\n",
      "[1.0]\n",
      "---\n",
      "[]\n",
      "=====\n",
      "[0.8360732006205567]\n",
      "---\n",
      "[]\n",
      "=====\n",
      "[0.9999999999999991]\n",
      "---\n",
      "[]\n",
      "=====\n",
      "[0.5598350314254522]\n",
      "---\n",
      "[0.593630250151692, 0.5820917406371404]\n",
      "=====\n",
      "[1.0000000000000004]\n",
      "---\n",
      "[]\n",
      "=====\n",
      "[0.836607036779546]\n",
      "---\n",
      "[]\n",
      "=====\n",
      "[1.0000000000000002]\n",
      "---\n",
      "[]\n",
      "=====\n",
      "[0.9999999999999997]\n",
      "---\n",
      "[]\n",
      "=====\n",
      "[0.4630487076902332]\n",
      "---\n",
      "[]\n",
      "=====\n",
      "[0.9999999999999998]\n",
      "---\n",
      "[]\n",
      "=====\n",
      "[0.9269799060455985]\n",
      "---\n",
      "[]\n",
      "=====\n",
      "[0.860376547080202]\n",
      "---\n",
      "[]\n",
      "=====\n",
      "[1.000000000000001]\n",
      "---\n",
      "[0.6444301793664993]\n",
      "=====\n",
      "[1.0000000000000004]\n",
      "---\n",
      "[]\n",
      "=====\n",
      "[1.0000000000000002]\n",
      "---\n",
      "[]\n",
      "=====\n",
      "[1.0]\n",
      "---\n",
      "[]\n",
      "=====\n",
      "[0.7179659520580304]\n",
      "---\n",
      "[]\n",
      "=====\n",
      "[0.9999999999999998]\n",
      "---\n",
      "[]\n",
      "=====\n",
      "[0.5983337927780805]\n",
      "---\n",
      "[]\n",
      "=====\n",
      "[0.3936492227761327]\n",
      "---\n",
      "[]\n",
      "=====\n",
      "[0.8588439584216042]\n",
      "---\n",
      "[]\n",
      "=====\n",
      "[0.8034016161213617]\n",
      "---\n",
      "[]\n",
      "=====\n",
      "[0.9999999999999992]\n",
      "---\n",
      "[]\n",
      "=====\n",
      "[0.9999999999999982]\n",
      "---\n",
      "[]\n",
      "=====\n",
      "[0.9114019216429894]\n",
      "---\n",
      "[]\n",
      "=====\n",
      "[0.8003203927847098]\n",
      "---\n",
      "[]\n",
      "=====\n",
      "[0.9999999999999987]\n",
      "---\n",
      "[]\n",
      "=====\n",
      "[0.6658820229178919]\n",
      "---\n",
      "[]\n",
      "=====\n",
      "[0.5336128581657383]\n",
      "---\n",
      "[]\n",
      "=====\n",
      "[1.0000000000000002]\n",
      "---\n",
      "[]\n",
      "=====\n",
      "[0.934486827209995]\n",
      "---\n",
      "[0.8848734780186168]\n",
      "=====\n",
      "[0.5534286849983504]\n",
      "---\n",
      "[0.5345875260082931]\n",
      "=====\n",
      "[0.5360599811262411]\n",
      "---\n",
      "[]\n",
      "=====\n"
     ]
    }
   ],
   "source": [
    "from metab_utils import get_bad_scores_distribution\n",
    "rtd = 31\n",
    "bsvm = get_bad_scores_distribution(peaksets_vl_mal, rtd, mgf_vl, mgf_mal)\n",
    "bsvz = get_bad_scores_distribution(peaksets_vl_zik, rtd, mgf_vl, mgf_zik)\n",
    "bszm = get_bad_scores_distribution(peaksets_zik_mal,rtd, mgf_zik, mgf_mal)"
   ]
  },
  {
   "cell_type": "code",
   "execution_count": 33,
   "metadata": {
    "collapsed": true
   },
   "outputs": [
    {
     "name": "stdout",
     "output_type": "stream",
     "text": [
      "    #higher bad score        diff #lower bad score       diff #no bad scores\n",
      "0.1                 0        none                0       none              0\n",
      "0.2                 0        none                0       none              0\n",
      "0.3                 0        none                0       none              0\n",
      "0.4                 0        none                1   0.170555              1\n",
      "0.5                 0        none                0       none              1\n",
      "0.6                 2   0.0153773                1  0.0188412              3\n",
      "0.7                 0        none                0       none              2\n",
      "0.8                 0        none                0       none              1\n",
      "0.9                 1  0.00124875                1   0.463478              7\n",
      "1.0                 0        none                5   0.545659             19\n",
      "    #higher bad score        diff #lower bad score       diff #no bad scores\n",
      "0.1                 2   0.0363525                1    0.04031              4\n",
      "0.2                 3    0.135304                2  0.0331819              0\n",
      "0.3                 0        none                0       none              2\n",
      "0.4                 0        none                0       none              1\n",
      "0.5                 0        none                0       none              1\n",
      "0.6                 0        none                0       none              1\n",
      "0.7                 1  0.00661943                1  0.0133924              1\n",
      "0.8                 0        none                4   0.201903              3\n",
      "0.9                 0        none                4   0.477995              4\n",
      "1.0                 0        none                0       none              2\n",
      "    #higher bad score       diff #lower bad score       diff #no bad scores\n",
      "0.1                 1  0.0936555                1  0.0397777              2\n",
      "0.2                 0       none                1  0.0382943              1\n",
      "0.3                 0       none                1   0.123859              1\n",
      "0.4                 0       none                1   0.322451              0\n",
      "0.5                 1   0.346516                0       none              3\n",
      "0.6                 0       none                0       none              2\n",
      "0.7                 0       none                0       none              3\n",
      "0.8                 0       none                2    0.31541             10\n",
      "0.9                 0       none                2    0.41714              7\n",
      "1.0                 0       none                0       none              3\n"
     ]
    }
   ],
   "source": [
    "from metab_utils import print_threshold\n",
    "print(print_threshold(bszm, peaksets_zik_mal))\n",
    "print(print_threshold(bsvm, peaksets_vl_mal))\n",
    "print(print_threshold(bsvz, peaksets_vl_zik))"
   ]
  },
  {
   "cell_type": "markdown",
   "metadata": {},
   "source": [
    "Calculate the mean from the distribution of the bad scores."
   ]
  },
  {
   "cell_type": "code",
   "execution_count": 35,
   "metadata": {},
   "outputs": [],
   "source": [
    "from metab_utils import calculate_overall\n",
    "act_vl_mal, bs_vl_mal, rts_vl_mal, mz_vl_mal = calculate_overall(bsvm, peaksets_vl_mal)\n",
    "act_vl_zik, bs_vl_zik, rts_vl_zik, mz_vl_zik = calculate_overall(bsvz, peaksets_vl_zik)\n",
    "act_zik_mal, bs_zik_mal, rts_zik_mal, mz_zik_mal = calculate_overall(bszm, peaksets_zik_mal)"
   ]
  },
  {
   "cell_type": "code",
   "execution_count": 36,
   "metadata": {},
   "outputs": [],
   "source": [
    "act_scores = act_vl_zik +act_vl_mal+act_zik_mal\n",
    "bad_scores = bs_vl_zik +bs_vl_mal + bs_zik_mal\n",
    "rts = rts_vl_zik +  rts_vl_mal +rts_zik_mal\n",
    "mz = mz_vl_zik + mz_vl_mal + mz_zik_mal"
   ]
  },
  {
   "cell_type": "code",
   "execution_count": 55,
   "metadata": {},
   "outputs": [
    {
     "data": {
      "text/plain": [
       "(-0.02, 1.02)"
      ]
     },
     "execution_count": 55,
     "metadata": {},
     "output_type": "execute_result"
    },
    {
     "data": {
      "image/png": "[encoded data removed]",
      "text/plain": [
       "<Figure size 432x288 with 1 Axes>"
      ]
     },
     "metadata": {
      "needs_background": "light"
     },
     "output_type": "display_data"
    }
   ],
   "source": [
    "plt.plot(act_scores, np.array(bad_scores)[:None] -np.array(act_scores)[:None] ,  '.')\n",
    "plt.hlines(0,-0.02,1.02, color='r')\n",
    "\n",
    "\n",
    "plt.xlabel('Good scores')\n",
    "plt.ylabel('Bad scores - Good scores')\n",
    "plt.xlim(-0.02,1.02)"
   ]
  }
 ],
 "metadata": {
  "kernelspec": {
   "display_name": "Python 3",
   "language": "python",
   "name": "python3"
  },
  "language_info": {
   "codemirror_mode": {
    "name": "ipython",
    "version": 3
   },
   "file_extension": ".py",
   "mimetype": "text/x-python",
   "name": "python",
   "nbconvert_exporter": "python",
   "pygments_lexer": "ipython3",
   "version": "3.7.3"
  }
 },
 "nbformat": 4,
 "nbformat_minor": 2
}

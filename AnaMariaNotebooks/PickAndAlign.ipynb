{
 "cells": [
  {
   "cell_type": "code",
   "execution_count": 2,
   "metadata": {},
   "outputs": [],
   "source": [
    "import os,glob,sys\n",
    "\n",
    "%load_ext autoreload\n",
    "%autoreload 2\n",
    "\n",
    "sys.path.append(\"..\")"
   ]
  },
  {
   "cell_type": "code",
   "execution_count": 4,
   "metadata": {},
   "outputs": [],
   "source": [
    "WIN = 'D:/'\n",
    "MAC = '/Volumes/Transcend2/'\n",
    "\n",
    "osp = MAC"
   ]
  },
  {
   "cell_type": "code",
   "execution_count": 2,
   "metadata": {},
   "outputs": [],
   "source": [
    "MZMINE_COMMAND = 'D:/git/MZmine-2.40.1/startMZmine_MacOSX.command'"
   ]
  },
  {
   "cell_type": "markdown",
   "metadata": {},
   "source": [
    "### Peak detection using MZmine"
   ]
  },
  {
   "cell_type": "markdown",
   "metadata": {},
   "source": [
    "At the moment, this part is performed directly in MZmine."
   ]
  },
  {
   "cell_type": "code",
   "execution_count": null,
   "metadata": {},
   "outputs": [],
   "source": [
    "#for patients\n",
    "# Directory holding mzml files of interest\n",
    "input_dir = '/Volumes/Transcend/Metabolomics_datasets/Zika/Positive/Control'\n",
    "# grab the list -- in this case all the T10 mzML files\n",
    "file_list = glob.glob(os.path.join(input_dir,'**.mzXML'))\n",
    "\n",
    "# # Directory to store all output\n",
    "output_dir = '/Volumes/Transcend/Metabolomics_datasets/Zika/mzmine'"
   ]
  },
  {
   "cell_type": "code",
   "execution_count": null,
   "metadata": {},
   "outputs": [],
   "source": [
    "from mzmine import pick_peaks\n",
    "pick_peaks(file_list,output_dir=output_dir, xml_template = '/Users/anamaria/Desktop/mzmine/peak_picking_to_mztab_csv.xml', mzmine_command=MZMINE_COMMAND)"
   ]
  },
  {
   "cell_type": "markdown",
   "metadata": {},
   "source": [
    "### Alignment"
   ]
  },
  {
   "cell_type": "code",
   "execution_count": 318,
   "metadata": {
    "scrolled": false
   },
   "outputs": [
    {
     "name": "stdout",
     "output_type": "stream",
     "text": [
      "['/Users/anamaria/Desktop/mzmine/221119/samples_alignment/ZIK10_pp.mzTab', '/Users/anamaria/Desktop/mzmine/221119/samples_alignment/ZIK7_pp.mzTab', '/Users/anamaria/Desktop/mzmine/221119/samples_alignment/ZIK6_pp.mzTab', '/Users/anamaria/Desktop/mzmine/221119/samples_alignment/C7_2_pp.mzTab', '/Users/anamaria/Desktop/mzmine/221119/samples_alignment/C10_2_pp.mzTab', '/Users/anamaria/Desktop/mzmine/221119/samples_alignment/VL7_pp.mzTab', '/Users/anamaria/Desktop/mzmine/221119/samples_alignment/C1_pp.mzTab', '/Users/anamaria/Desktop/mzmine/221119/samples_alignment/KM_10_pp.mzTab', '/Users/anamaria/Desktop/mzmine/221119/samples_alignment/KM_11_pp.mzTab', '/Users/anamaria/Desktop/mzmine/221119/samples_alignment/KM_9_pp.mzTab', '/Users/anamaria/Desktop/mzmine/221119/samples_alignment/KM_8_pp.mzTab', '/Users/anamaria/Desktop/mzmine/221119/samples_alignment/C18_2_pp.mzTab', '/Users/anamaria/Desktop/mzmine/221119/samples_alignment/KM_3_pp.mzTab', '/Users/anamaria/Desktop/mzmine/221119/samples_alignment/KM_2_pp.mzTab', '/Users/anamaria/Desktop/mzmine/221119/samples_alignment/C2_2_pp.mzTab', '/Users/anamaria/Desktop/mzmine/221119/samples_alignment/VL17_pp.mzTab', '/Users/anamaria/Desktop/mzmine/221119/samples_alignment/VL16_pp.mzTab', '/Users/anamaria/Desktop/mzmine/221119/samples_alignment/C12_2_pp.mzTab', '/Users/anamaria/Desktop/mzmine/221119/samples_alignment/C5_2_pp.mzTab', '/Users/anamaria/Desktop/mzmine/221119/samples_alignment/KM_4_pp.mzTab', '/Users/anamaria/Desktop/mzmine/221119/samples_alignment/KM_5_pp.mzTab', '/Users/anamaria/Desktop/mzmine/221119/samples_alignment/C8_2_pp.mzTab', '/Users/anamaria/Desktop/mzmine/221119/samples_alignment/VL10_pp.mzTab', '/Users/anamaria/Desktop/mzmine/221119/samples_alignment/VL11_pp.mzTab', '/Users/anamaria/Desktop/mzmine/221119/samples_alignment/VL1_pp.mzTab', '/Users/anamaria/Desktop/mzmine/221119/samples_alignment/ZIK1_pp.mzTab', '/Users/anamaria/Desktop/mzmine/221119/samples_alignment/C20_2_pp.mzTab', '/Users/anamaria/Desktop/mzmine/221119/samples_alignment/C17_2_pp.mzTab', '/Users/anamaria/Desktop/mzmine/221119/samples_alignment/C7_pp.mzTab', '/Users/anamaria/Desktop/mzmine/221119/samples_alignment/KM_17_pp.mzTab', '/Users/anamaria/Desktop/mzmine/221119/samples_alignment/KM_16_pp.mzTab', '/Users/anamaria/Desktop/mzmine/221119/samples_alignment/KM_1_pp.mzTab', '/Users/anamaria/Desktop/mzmine/221119/samples_alignment/VL14_pp.mzTab', '/Users/anamaria/Desktop/mzmine/221119/samples_alignment/VL15_pp.mzTab', '/Users/anamaria/Desktop/mzmine/221119/samples_alignment/C19_2_pp.mzTab', '/Users/anamaria/Desktop/mzmine/221119/samples_alignment/C6_r_pp.mzTab', '/Users/anamaria/Desktop/mzmine/221119/samples_alignment/C14_2_pp.mzTab', '/Users/anamaria/Desktop/mzmine/221119/samples_alignment/C3_2_pp.mzTab', '/Users/anamaria/Desktop/mzmine/221119/samples_alignment/C2_pp.mzTab', '/Users/anamaria/Desktop/mzmine/221119/samples_alignment/C3_pp.mzTab', '/Users/anamaria/Desktop/mzmine/221119/samples_alignment/C11_2_pp.mzTab', '/Users/anamaria/Desktop/mzmine/221119/samples_alignment/C6_2_pp.mzTab', '/Users/anamaria/Desktop/mzmine/221119/samples_alignment/KM_13_pp.mzTab', '/Users/anamaria/Desktop/mzmine/221119/samples_alignment/KM_12_pp.mzTab', '/Users/anamaria/Desktop/mzmine/221119/samples_alignment/C9_pp.mzTab', '/Users/anamaria/Desktop/mzmine/221119/samples_alignment/KM_19_pp.mzTab', '/Users/anamaria/Desktop/mzmine/221119/samples_alignment/KM_18_pp.mzTab', '/Users/anamaria/Desktop/mzmine/221119/samples_alignment/ZIK4_pp.mzTab', '/Users/anamaria/Desktop/mzmine/221119/samples_alignment/ZIK5_pp.mzTab', '/Users/anamaria/Desktop/mzmine/221119/samples_alignment/VL5_pp.mzTab', '/Users/anamaria/Desktop/mzmine/221119/samples_alignment/VL4_pp.mzTab', '/Users/anamaria/Desktop/mzmine/221119/samples_alignment/C5_pp.mzTab', '/Users/anamaria/Desktop/mzmine/221119/samples_alignment/C4_pp.mzTab', '/Users/anamaria/Desktop/mzmine/221119/samples_alignment/ZIK9_pp.mzTab', '/Users/anamaria/Desktop/mzmine/221119/samples_alignment/ZIK8_pp.mzTab', '/Users/anamaria/Desktop/mzmine/221119/samples_alignment/VL8_pp.mzTab', '/Users/anamaria/Desktop/mzmine/221119/samples_alignment/VL9_pp.mzTab', '/Users/anamaria/Desktop/mzmine/221119/samples_alignment/KM_14_pp.mzTab', '/Users/anamaria/Desktop/mzmine/221119/samples_alignment/KM_15_pp.mzTab', '/Users/anamaria/Desktop/mzmine/221119/samples_alignment/KM_20_pp.mzTab', '/Users/anamaria/Desktop/mzmine/221119/samples_alignment/KM_21_pp.mzTab', '/Users/anamaria/Desktop/mzmine/221119/samples_alignment/C1_2_pp.mzTab', '/Users/anamaria/Desktop/mzmine/221119/samples_alignment/C16_2_pp.mzTab', '/Users/anamaria/Desktop/mzmine/221119/samples_alignment/VL3_pp.mzTab', '/Users/anamaria/Desktop/mzmine/221119/samples_alignment/ZIK3_pp.mzTab', '/Users/anamaria/Desktop/mzmine/221119/samples_alignment/ZIK2_pp.mzTab', '/Users/anamaria/Desktop/mzmine/221119/samples_alignment/C4_2_pp.mzTab', '/Users/anamaria/Desktop/mzmine/221119/samples_alignment/C13_2_pp.mzTab', '/Users/anamaria/Desktop/mzmine/221119/samples_alignment/KM_7_pp.mzTab', '/Users/anamaria/Desktop/mzmine/221119/samples_alignment/KM_6_pp.mzTab', '/Users/anamaria/Desktop/mzmine/221119/samples_alignment/C10_pp.mzTab', '/Users/anamaria/Desktop/mzmine/221119/samples_alignment/VL13_pp.mzTab', '/Users/anamaria/Desktop/mzmine/221119/samples_alignment/VL12_pp.mzTab', '/Users/anamaria/Desktop/mzmine/221119/samples_alignment/C9_2_pp.mzTab', '/Users/anamaria/Desktop/mzmine/221119/samples_alignment/VL19_pp.mzTab', '/Users/anamaria/Desktop/mzmine/221119/samples_alignment/VL18_pp.mzTab']\n"
     ]
    }
   ],
   "source": [
    "from mzmine import align\n",
    "allfiles = '/Users/anamaria/Desktop/mzmine/221119/samples_alignment/'\n",
    "xml_template ='/Users/anamaria/Documents/git/pymzmine/batch_files/align_from_mztab.xml'\n",
    "\n",
    "align(allfiles, xml_template = xml_template, mzmine_command = MZMINE_COMMAND, rt_window = 0.3, output_csv_name='pp_aligned_03.csv')\n"
   ]
  },
  {
   "cell_type": "code",
   "execution_count": null,
   "metadata": {},
   "outputs": [],
   "source": []
  },
  {
   "cell_type": "code",
   "execution_count": null,
   "metadata": {},
   "outputs": [],
   "source": []
  }
 ],
 "metadata": {
  "kernelspec": {
   "display_name": "Python 3",
   "language": "python",
   "name": "python3"
  },
  "language_info": {
   "codemirror_mode": {
    "name": "ipython",
    "version": 3
   },
   "file_extension": ".py",
   "mimetype": "text/x-python",
   "name": "python",
   "nbconvert_exporter": "python",
   "pygments_lexer": "ipython3",
   "version": "3.7.3"
  }
 },
 "nbformat": 4,
 "nbformat_minor": 2
}

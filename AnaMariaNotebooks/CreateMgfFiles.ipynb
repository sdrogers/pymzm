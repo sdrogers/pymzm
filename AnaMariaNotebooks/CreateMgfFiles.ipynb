{
 "cells": [
  {
   "cell_type": "code",
   "execution_count": 3,
   "metadata": {},
   "outputs": [
    {
     "name": "stdout",
     "output_type": "stream",
     "text": [
      "The autoreload extension is already loaded. To reload it, use:\n",
      "  %reload_ext autoreload\n"
     ]
    }
   ],
   "source": [
    "import xml.etree.ElementTree\n",
    "import os,glob,sys\n",
    "import pandas as pd\n",
    "from sklearn.decomposition import PCA\n",
    "import pylab as plt\n",
    "import seaborn as sns\n",
    "import numpy as np\n",
    "import pickle\n",
    "\n",
    "%load_ext autoreload\n",
    "%autoreload 2\n",
    "\n",
    "sys.path.append(\"..\")\n",
    "from mzmine import pick_peaks, align, match_aligned_to_original, load_aligned_peaks\n",
    "import alignment\n",
    "import ms2_matching"
   ]
  },
  {
   "cell_type": "code",
   "execution_count": 4,
   "metadata": {},
   "outputs": [],
   "source": [
    "WIN = 'D:/'\n",
    "#MAC = '/Users/anamaria/Documents/'\n",
    "MAC = '/Volumes/Transcend2/'\n",
    "\n",
    "osp = WIN"
   ]
  },
  {
   "cell_type": "code",
   "execution_count": null,
   "metadata": {},
   "outputs": [],
   "source": []
  },
  {
   "cell_type": "code",
   "execution_count": 5,
   "metadata": {},
   "outputs": [],
   "source": [
    "filtered_peaks = pd.read_csv(osp+'pymz/mzmine/221119/modifiedRTdatafiltered.txt', sep = '\\t', index_col = 0)\n",
    "filtered_peaks_ids = list(filtered_peaks['custom_id'])"
   ]
  },
  {
   "cell_type": "code",
   "execution_count": 6,
   "metadata": {},
   "outputs": [],
   "source": [
    "with open(os.path.join(osp,'pymz/mzmine/aligner_gp.txt'), 'rb') as file:  \n",
    "    aligner_gp = pickle.load(file)"
   ]
  },
  {
   "cell_type": "code",
   "execution_count": 8,
   "metadata": {},
   "outputs": [],
   "source": [
    "import metab_utils\n",
    "filtered_peaksets = metab_utils.extract_peaksets_with_spectra_from_filt_dataset(aligner_gp, filtered_peaks_ids)"
   ]
  },
  {
   "cell_type": "code",
   "execution_count": 31,
   "metadata": {},
   "outputs": [],
   "source": [
    "def makeClusterList(dataset, peaksets):\n",
    "    from mnet import Cluster\n",
    "    clusters = []\n",
    "    for peakset in filtered_peaksets:\n",
    "        for peak in peakset.peaks:\n",
    "            if dataset in peak.source_file.lower():\n",
    "                new_cl = Cluster(peak.ms2_spectrum, peak.source_id)\n",
    "                clusters.append(new_cl)\n",
    "    return clusters"
   ]
  },
  {
   "cell_type": "code",
   "execution_count": 32,
   "metadata": {},
   "outputs": [],
   "source": [
    "mal_mgf_file = os.path.join(osp, 'pymz/mzmine/210120/mal_filtered.mgf')\n",
    "mal_clusters = makeClusterList('mal', filtered_peaksets)"
   ]
  },
  {
   "cell_type": "code",
   "execution_count": 37,
   "metadata": {},
   "outputs": [],
   "source": [
    "zik_mgf_file = os.path.join(osp, 'pymz/mzmine/210120/zik_filtered.mgf')\n",
    "zik_clusters = makeClusterList('zik', filtered_peaksets)"
   ]
  },
  {
   "cell_type": "code",
   "execution_count": 38,
   "metadata": {},
   "outputs": [],
   "source": [
    "with open(zik_mgf_file, 'w') as f:\n",
    "    for cl in zik_clusters:\n",
    "        f.write(cl.get_mgf_string())"
   ]
  },
  {
   "cell_type": "code",
   "execution_count": null,
   "metadata": {},
   "outputs": [],
   "source": []
  }
 ],
 "metadata": {
  "kernelspec": {
   "display_name": "Python 3",
   "language": "python",
   "name": "python3"
  },
  "language_info": {
   "codemirror_mode": {
    "name": "ipython",
    "version": 3
   },
   "file_extension": ".py",
   "mimetype": "text/x-python",
   "name": "python",
   "nbconvert_exporter": "python",
   "pygments_lexer": "ipython3",
   "version": "3.7.3"
  }
 },
 "nbformat": 4,
 "nbformat_minor": 2
}
